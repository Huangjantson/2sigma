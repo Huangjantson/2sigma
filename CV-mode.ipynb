{
 "cells": [
  {
   "cell_type": "code",
   "execution_count": 52,
   "metadata": {
    "collapsed": true
   },
   "outputs": [],
   "source": [
    "import numpy as np\n",
    "import pandas as pd\n",
    "import xgboost as xgb\n",
    "from sklearn import  preprocessing, ensemble\n",
    "from sklearn.metrics import log_loss\n",
    "from sklearn.cross_validation import KFold\n",
    "import matplotlib.pyplot as plt"
   ]
  },
  {
   "cell_type": "code",
   "execution_count": 178,
   "metadata": {
    "collapsed": false
   },
   "outputs": [],
   "source": [
    "#try xgboost\n",
    "#original fucntion from SRK\n",
    "def runXGB(train_X, train_y, test_X, test_y=None, feature_names=None, \\\n",
    "     seed_val=0, early_stop = 20,num_rounds=10000, eta = 0.1,\\\n",
    "     max_depth = 6,cv_dict = None,verbose_eval=True):\n",
    "    param = {}\n",
    "    param['objective'] = 'multi:softprob'\n",
    "    param['eta'] = eta\n",
    "    param['max_depth'] = max_depth\n",
    "    param['silent'] = 1\n",
    "    param['num_class'] = 3\n",
    "    param['eval_metric'] = \"mlogloss\"\n",
    "    param['min_child_weight'] = 1\n",
    "    param['subsample'] = 0.7\n",
    "    param['colsample_bytree'] = 0.7\n",
    "    param['seed'] = seed_val\n",
    "    num_rounds = num_rounds\n",
    "\n",
    "    plst = list(param.items())\n",
    "    xgtrain = xgb.DMatrix(train_X, label=train_y,feature_names=feature_names)\n",
    "\n",
    "    if test_y is not None:\n",
    "        xgtest = xgb.DMatrix(test_X, label=test_y,feature_names=feature_names)\n",
    "        watchlist = [ (xgtrain,'train'), (xgtest, 'test') ]\n",
    "        model = xgb.train(plst, xgtrain, num_rounds, watchlist,\\\n",
    "        early_stopping_rounds=early_stop,evals_result = cv_dict,verbose_eval = verbose_eval)\n",
    "    else:\n",
    "        xgtest = xgb.DMatrix(test_X,feature_names=feature_names)\n",
    "        model = xgb.train(plst, xgtrain, num_rounds)\n",
    "\n",
    "    pred_test_y = model.predict(xgtest)\n",
    "    return pred_test_y, model\n",
    "\n",
    "class CVstatistics(object):\n",
    "    \n",
    "    \"\"\"\n",
    "    self.result : the result dataframe storing the cv results\n",
    "    self.endpoint : the first ending point for the validations\n",
    "    self.turns: the turns for each validation\n",
    "    \n",
    "    validCurve : plot the validation curve,stop at the first endpoint\n",
    "    errorsAt: return the average errors at a certain turn\n",
    "    \"\"\"\n",
    "    def __init__(self,result_dict,metric,k=5):\n",
    "        self.metric = metric\n",
    "        if type(result_dict) == pd.DataFrame:\n",
    "            self.result = result_dict\n",
    "        else:\n",
    "            temp_dict = {}\n",
    "            for phase in ['train','test']:\n",
    "                for turn in range(k):\n",
    "                    temp_dict[phase+str(turn)]=cv_result[turn][phase][metric]\n",
    "                    self.result=pd.DataFrame(dict([ (key,pd.Series(v)) for key,v in temp_dict.iteritems()]))    \n",
    "        \n",
    "        self.endpoint =len(self.result.filter(like = 'train').dropna())\n",
    "        \n",
    "        self.turns = self.result.filter(like = 'test').\\\n",
    "            apply(lambda x : ~np.isnan(x)).cumsum(axis=0).iloc[len(self.result)-1,:]\n",
    "\n",
    "    def validCurve(self,start = 0, stop_at_first = True):\n",
    "        if stop_at_first:\n",
    "            eout = self.result.iloc[start:,:].filter(like = 'test').dropna().mean(axis=1)\n",
    "            ein =  self.result.iloc[start:,:].filter(like = 'train').dropna().mean(axis=1)\n",
    "        else:\n",
    "            eout = self.result.iloc[start:,:].filter(like = 'test').mean(axis=1)\n",
    "            ein =  self.result.iloc[start:,:].filter(like = 'train').mean(axis=1)\n",
    "        plt.plot(map(lambda x :x+start,range(len(eout))), eout,\n",
    "        map(lambda x :x+start,range(len(ein))), ein)\n",
    "        plt.xlabel(\"turn\")\n",
    "        plt.ylabel(self.metric)\n",
    "        plt.title('Validation Curve')\n",
    "        \n",
    "        plt.show()\n",
    "    \n",
    "    def eoutCurve(self,start = 0,stop_at_first = True):\n",
    "        if stop_at_first:\n",
    "            eout = self.result.iloc[start:,:].filter(like = 'test').dropna().mean(axis=1)\n",
    "        else:\n",
    "            eout = self.result.iloc[start:,:].filter(like = 'test').mean(axis=1)\n",
    "        plt.plot(map(lambda x :x+start,range(len(eout))), eout)\n",
    "        plt.xlabel(\"turn\")\n",
    "        plt.ylabel(self.metric)\n",
    "        plt.title('Eout Curve')\n",
    "    \n",
    "    def minAvgEout(self):\n",
    "        meanTestError = cvResult.result.filter(like='test').mean(axis=1)\n",
    "        return meanTestError[meanTestError==np.min(meanTestError)]\n",
    "    \n",
    "    def errorsAt(self,turn):\n",
    "        eout = self.result.filter(like = 'test').loc[turn].mean()\n",
    "        ein = self.result.filter(like = 'train').loc[turn].mean()\n",
    "        return eout,ein\n",
    "    \n",
    "def xgbImportance(model,factor_name):\n",
    "    factors = model.get_score(importance_type=factor_name)\n",
    "    factor_list = []\n",
    "    total = sum(factors.values())\n",
    "    for key in factors:\n",
    "        factors[key] = factors[key]*1.0/total\n",
    "        factor_list.append((key,factors[key]))\n",
    "    return sorted(factor_list,key=lambda x : x[1],reverse=True)\n"
   ]
  },
  {
   "cell_type": "code",
   "execution_count": 55,
   "metadata": {
    "collapsed": false
   },
   "outputs": [
    {
     "name": "stdout",
     "output_type": "stream",
     "text": [
      "(49352, 15)\n",
      "(74659, 14)\n"
     ]
    }
   ],
   "source": [
    "#lodaing data\n",
    "data_path = \"../../kaggleData/2sigma/\"\n",
    "train_file = data_path + \"train.json\"\n",
    "test_file = data_path + \"test.json\"\n",
    "train_df = pd.read_json(train_file)\n",
    "test_df = pd.read_json(test_file)\n",
    "print(train_df.shape)\n",
    "print(test_df.shape)\n"
   ]
  },
  {
   "cell_type": "code",
   "execution_count": 56,
   "metadata": {
    "collapsed": true
   },
   "outputs": [],
   "source": [
    "#basic numerical features\n",
    "features_to_use  = [\"bathrooms\", \"bedrooms\", \"latitude\", \"longitude\", \"price\"]"
   ]
  },
  {
   "cell_type": "code",
   "execution_count": 57,
   "metadata": {
    "collapsed": true
   },
   "outputs": [],
   "source": [
    "#some new numerical features related to the price\n",
    "train_df[\"price_per_bath\"] =  train_df[\"price\"]*1.0/train_df[\"bathrooms\"]\n",
    "train_df[\"price_per_bed\"] = train_df[\"price\"]*1.0/train_df[\"bedrooms\"]\n",
    "train_df[\"bath_per_bed\"] = train_df[\"bathrooms\"]*1.0/train_df[\"bedrooms\"]\n",
    "train_df[\"price_per_room\"] = train_df[\"price\"]*1.0/(train_df[\"bedrooms\"]+train_df[\"bathrooms\"])\n",
    "\n",
    "test_df[\"price_per_bath\"] =  test_df[\"price\"]*1.0/test_df[\"bathrooms\"]\n",
    "test_df[\"price_per_bed\"] = test_df[\"price\"]*1.0/test_df[\"bedrooms\"]\n",
    "test_df[\"bath_per_bed\"] = test_df[\"bathrooms\"]*1.0/test_df[\"bedrooms\"]\n",
    "test_df[\"price_per_room\"] = test_df[\"price\"]*1.0/(test_df[\"bedrooms\"]+test_df[\"bathrooms\"])\n",
    "\n",
    "features_to_use.extend([\"price_per_bed\",\"bath_per_bed\",\"price_per_room\"])\n",
    "#features_to_use.append('price_per_bed')"
   ]
  },
  {
   "cell_type": "code",
   "execution_count": 58,
   "metadata": {
    "collapsed": false
   },
   "outputs": [],
   "source": [
    "#prepare for training\n",
    "target_num_map = {'high':0, 'medium':1, 'low':2}\n",
    "\n",
    "train_y = np.array(train_df['interest_level'].apply(lambda x: target_num_map[x]))\n",
    "\n",
    "KF=KFold(len(train_df),5,shuffle=True,random_state = 42)"
   ]
  },
  {
   "cell_type": "code",
   "execution_count": 129,
   "metadata": {
    "collapsed": false,
    "scrolled": true
   },
   "outputs": [
    {
     "name": "stdout",
     "output_type": "stream",
     "text": [
      "loss for the turn 1 is 0.655515045046\n",
      "loss for the turn 2 is 0.648099492976\n",
      "loss for the turn 3 is 0.648494177135\n",
      "loss for the turn 4 is 0.648290676801\n",
      "loss for the turn 5 is 0.651032923528\n"
     ]
    }
   ],
   "source": [
    "#running and getting the cv from xgboost\n",
    "cv_scores = []\n",
    "cv_result = []\n",
    "\n",
    "#K-FOLD already defined.If not ,use\n",
    "#KF=KFold(len(train_X),5,shuffle=True,random_state = 42)\n",
    "i=0\n",
    "for dev_index, val_index in KF:\n",
    "        result_dict = {}\n",
    "        \n",
    "        \"\"\"some preprocessing like feature constructed in cv manners\"\"\"\n",
    "        \n",
    "        #split the orginal train set into dev_set and val_set\n",
    "        dev_set, val_set = train_df.iloc[dev_index,:] , train_df.iloc[val_index,:] \n",
    "        \n",
    "        dev_X, val_X = dev_set[features_to_use].as_matrix(), val_set[features_to_use].as_matrix()\n",
    "        dev_y, val_y = train_y[dev_index], train_y[val_index]\n",
    "        \n",
    "        \"\"\" \n",
    "         runXGB(train_X, train_y, test_X, test_y=None, feature_names=None, \\\n",
    "         seed_val=0, early_stop = 20,num_rounds=10000, eta = 0.1,\\\n",
    "         max_depth = 6,cv_dict = None):\n",
    "         \"\"\"\n",
    "        \n",
    "        preds, model = runXGB(dev_X, dev_y, val_X, val_y,early_stop  = 20,\\\n",
    "                              feature_names = features_to_use,cv_dict = result_dict,verbose_eval=False)\n",
    "        loss = log_loss(val_y, preds)\n",
    "        cv_scores.append(loss)\n",
    "        cv_result.append(result_dict)\n",
    "        i+=1\n",
    "        print 'loss for the turn '+str(i)+' is '+str(loss)"
   ]
  },
  {
   "cell_type": "code",
   "execution_count": 179,
   "metadata": {
    "collapsed": false
   },
   "outputs": [
    {
     "data": {
      "text/plain": [
       "(0.6506426666666666, 0.566514)"
      ]
     },
     "execution_count": 179,
     "metadata": {},
     "output_type": "execute_result"
    }
   ],
   "source": [
    "#plot the validation curv\n",
    "cvResult = CVstatistics(cv_result,'mlogloss')\n",
    "cvResult.validCurve(stop=False)\n",
    "#some errors at certain turn to see the descending\n",
    "cvResult.errorsAt(215)"
   ]
  },
  {
   "cell_type": "code",
   "execution_count": 128,
   "metadata": {
    "collapsed": false
   },
   "outputs": [
    {
     "name": "stdout",
     "output_type": "stream",
     "text": [
      "[('price_per_room', 0.16018754807335048), ('bathrooms', 0.14477783934971186), ('price', 0.14085818216721324), ('bedrooms', 0.13716205731597367), ('price_per_bed', 0.11829615758062459), ('bath_per_bed', 0.1037798642994386), ('longitude', 0.09896243237376638), ('latitude', 0.09597591883992128)]\n"
     ]
    }
   ],
   "source": [
    "#show the importance of the features\n",
    "showImportance(model,'gain')"
   ]
  },
  {
   "cell_type": "code",
   "execution_count": 180,
   "metadata": {
    "collapsed": false
   },
   "outputs": [
    {
     "data": {
      "text/plain": [
       "test0    308\n",
       "test1    234\n",
       "test2    215\n",
       "test3    262\n",
       "test4    215\n",
       "Name: 307, dtype: int32"
      ]
     },
     "execution_count": 180,
     "metadata": {},
     "output_type": "execute_result"
    }
   ],
   "source": [
    "cvResult.turns"
   ]
  },
  {
   "cell_type": "code",
   "execution_count": 184,
   "metadata": {
    "collapsed": false
   },
   "outputs": [
    {
     "data": {
      "text/plain": [
       "0      1.043834\n",
       "1      0.995804\n",
       "2      0.954697\n",
       "3      0.919698\n",
       "4      0.889519\n",
       "5      0.863612\n",
       "6      0.841047\n",
       "7      0.821977\n",
       "8      0.804296\n",
       "9      0.789063\n",
       "10     0.775412\n",
       "11     0.763432\n",
       "12     0.752947\n",
       "13     0.743966\n",
       "14     0.735950\n",
       "15     0.728557\n",
       "16     0.722000\n",
       "17     0.716350\n",
       "18     0.711499\n",
       "19     0.706901\n",
       "20     0.702852\n",
       "21     0.699359\n",
       "22     0.696004\n",
       "23     0.693137\n",
       "24     0.690385\n",
       "25     0.687966\n",
       "26     0.685845\n",
       "27     0.683707\n",
       "28     0.681834\n",
       "29     0.680151\n",
       "         ...   \n",
       "185    0.650562\n",
       "186    0.650522\n",
       "187    0.650533\n",
       "188    0.650502\n",
       "189    0.650469\n",
       "190    0.650466\n",
       "191    0.650425\n",
       "192    0.650428\n",
       "193    0.650449\n",
       "194    0.650451\n",
       "195    0.650396\n",
       "196    0.650403\n",
       "197    0.650380\n",
       "198    0.650392\n",
       "199    0.650410\n",
       "200    0.650385\n",
       "201    0.650359\n",
       "202    0.650374\n",
       "203    0.650377\n",
       "204    0.650421\n",
       "205    0.650413\n",
       "206    0.650448\n",
       "207    0.650435\n",
       "208    0.650439\n",
       "209    0.650427\n",
       "210    0.650405\n",
       "211    0.650384\n",
       "212    0.650379\n",
       "213    0.650349\n",
       "214    0.650313\n",
       "dtype: float64"
      ]
     },
     "execution_count": 184,
     "metadata": {},
     "output_type": "execute_result"
    }
   ],
   "source": [
    "start = 0\n",
    "cvResult.result.iloc[start:,:].filter(like = 'test').dropna().mean(axis=1)\n",
    "            #ein =  cvResult.result.filter(like = 'train').dropna().mean(axis=1)"
   ]
  }
 ],
 "metadata": {
  "anaconda-cloud": {},
  "kernelspec": {
   "display_name": "Python [Root]",
   "language": "python",
   "name": "Python [Root]"
  },
  "language_info": {
   "codemirror_mode": {
    "name": "ipython",
    "version": 2
   },
   "file_extension": ".py",
   "mimetype": "text/x-python",
   "name": "python",
   "nbconvert_exporter": "python",
   "pygments_lexer": "ipython2",
   "version": "2.7.12"
  }
 },
 "nbformat": 4,
 "nbformat_minor": 0
}
