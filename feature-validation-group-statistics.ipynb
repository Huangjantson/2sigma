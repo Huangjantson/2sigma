{
 "cells": [
  {
   "cell_type": "code",
   "execution_count": 1,
   "metadata": {
    "collapsed": false
   },
   "outputs": [],
   "source": [
    "import numpy as np\n",
    "import pandas as pd\n",
    "import xgboost as xgb\n",
    "from sklearn import  preprocessing, ensemble\n",
    "from sklearn.metrics import log_loss\n",
    "from sklearn.cross_validation import KFold\n",
    "import matplotlib.pyplot as plt\n",
    "import re"
   ]
  },
  {
   "cell_type": "code",
   "execution_count": 2,
   "metadata": {
    "collapsed": true
   },
   "outputs": [],
   "source": [
    "from sklearn.cluster import KMeans"
   ]
  },
  {
   "cell_type": "code",
   "execution_count": 3,
   "metadata": {
    "collapsed": false
   },
   "outputs": [],
   "source": [
    "#try xgboost\n",
    "#fucntion from SRK\n",
    "def runXGB(train_X, train_y, test_X, test_y=None, feature_names=None, \\\n",
    "     seed_val=0, early_stop = 20,num_rounds=10000, eta = 0.1,\\\n",
    "     max_depth = 6,cv_dict = None,verbose_eval=True):\n",
    "    param = {}\n",
    "    param['objective'] = 'multi:softprob'\n",
    "    param['eta'] = eta\n",
    "    param['max_depth'] = max_depth\n",
    "    param['silent'] = 1\n",
    "    param['num_class'] = 3\n",
    "    param['eval_metric'] = \"mlogloss\"\n",
    "    param['min_child_weight'] = 1\n",
    "    param['subsample'] = 0.7\n",
    "    param['colsample_bytree'] = 0.7\n",
    "    param['seed'] = seed_val\n",
    "    num_rounds = num_rounds\n",
    "\n",
    "    plst = list(param.items())\n",
    "    xgtrain = xgb.DMatrix(train_X, label=train_y,feature_names=feature_names)\n",
    "\n",
    "    if test_y is not None:\n",
    "        xgtest = xgb.DMatrix(test_X, label=test_y,feature_names=feature_names)\n",
    "        watchlist = [ (xgtrain,'train'), (xgtest, 'test') ]\n",
    "        model = xgb.train(plst, xgtrain, num_rounds, watchlist,\\\n",
    "        early_stopping_rounds=early_stop,evals_result = cv_dict,verbose_eval = verbose_eval)\n",
    "    else:\n",
    "        xgtest = xgb.DMatrix(test_X,feature_names=feature_names)\n",
    "        model = xgb.train(plst, xgtrain, num_rounds)\n",
    "\n",
    "    pred_test_y = model.predict(xgtest)\n",
    "    return pred_test_y, model\n",
    "\n",
    "class CVstatistics(object):\n",
    "    \n",
    "    \"\"\"\n",
    "    self.result : the result dataframe storing the cv results\n",
    "    self.endpoint : the first ending point for the validations\n",
    "    self.turns: the turns for each validation\n",
    "    \n",
    "    validCurve : plot the validation curve,stop at the first endpoint\n",
    "    \"\"\"\n",
    "    def __init__(self,result_dict,metric,k=5):\n",
    "        self.metric = metric\n",
    "        if type(result_dict) == pd.DataFrame:\n",
    "            self.result = result_dict\n",
    "        else:\n",
    "            tempDict = {}\n",
    "            for phase in ['train','test']:\n",
    "                for turn in range(k):\n",
    "                    tempDict[phase+str(turn)]=cv_result[turn][phase][metric]\n",
    "                    self.result=pd.DataFrame(dict([ (key,pd.Series(v)) for key,v in tempDict.iteritems()]))    \n",
    "        \n",
    "        self.endpoint =len(self.result.filter(like = 'train').dropna())\n",
    "        \n",
    "        self.turns = self.result.filter(like = 'test').\\\n",
    "            apply(lambda x : ~np.isnan(x)).cumsum(axis=0).iloc[len(self.result)-1,:]\n",
    "\n",
    "    def validCurve(self,start=0,stop_at_first = True):\n",
    "        if stop_at_first:\n",
    "            eout = self.result.filter(like = 'test').dropna().mean(axis=1)\n",
    "            ein =  self.result.filter(like = 'train').dropna().mean(axis=1)\n",
    "        else:\n",
    "            eout = self.result.filter(like = 'test').mean(axis=1)\n",
    "            ein =  self.result.filter(like = 'train').mean(axis=1)\n",
    "        plt.plot(range(len(eout)), eout,\n",
    "        range(len(ein)), ein)\n",
    "        plt.xlabel(\"turn\")\n",
    "        plt.ylabel(self.metric)\n",
    "        plt.title('Validation Curve')\n",
    "        \n",
    "        plt.show()\n",
    "    \n",
    "    def errorsAt(self,turn):\n",
    "        eout = self.result.filter(like = 'test').loc[turn].mean()\n",
    "        ein = self.result.filter(like = 'train').loc[turn].mean()\n",
    "        return eout,ein\n",
    "    \n",
    "\n",
    "def showImportance(model,factor_name):\n",
    "    factors = model.get_score(importance_type=factor_name)\n",
    "    factor_list = []\n",
    "    total = sum(factors.values())\n",
    "    for key in factors:\n",
    "        factors[key] = factors[key]*1.0/total\n",
    "        factor_list.append((key,factors[key]))\n",
    "    return sorted(factor_list,key=lambda x : x[1],reverse=True)\n",
    "    \n",
    "#feature processing functions\n",
    "def proecessStreet(address):\n",
    "    #remove the building number\n",
    "    pattern = re.compile('^[\\d-]*[\\s]+')\n",
    "    street = removePunctuation(pattern.sub('',address))\n",
    "    \n",
    "    #sub the st to street\n",
    "    pattern = re.compile('( st)$')\n",
    "    street = pattern.sub(' street',street)\n",
    "    \n",
    "    #sub the ave to avenue\n",
    "    pattern = re.compile('( ave)$')\n",
    "    street = pattern.sub(' avenue',street)\n",
    "    \n",
    "    pattern = re.compile('(\\d+)((th)|(st)|(rd)|(nd))')\n",
    "    street = pattern.sub('\\g<1>',street)\n",
    "    \n",
    "    #deal with the w 14 street => west 14 street\n",
    "    pattern = re.compile('(w)(\\s+)(\\d+)')    \n",
    "    street = pattern.sub('west \\g<3>',street)\n",
    "    \n",
    "    #deal with the e....\n",
    "    pattern = re.compile('(e)(\\s+)(\\d+)')    \n",
    "    street = pattern.sub('east \\g<3>',street)\n",
    "    \n",
    "    return street"
   ]
  },
  {
   "cell_type": "code",
   "execution_count": 4,
   "metadata": {
    "collapsed": true
   },
   "outputs": [],
   "source": [
    "def processMap(df):\n",
    "    for i in ['latitude', 'longitude']:\n",
    "        Q1 = df[i].quantile(0.005)\n",
    "        Q3 = df[i].quantile(0.995)\n",
    "        IQR = Q3 - Q1\n",
    "        upper = Q3\n",
    "        lower = Q1\n",
    "        df.ix[(df[i]>upper)|(df[i]<lower),i] = np.nan\n",
    "        #df.ix[:,i] =  df[i].round(3) \n",
    "    return "
   ]
  },
  {
   "cell_type": "code",
   "execution_count": 5,
   "metadata": {
    "collapsed": true
   },
   "outputs": [],
   "source": [
    "def getCluster(train_df,test_df,k):\n",
    "    cluster = KMeans(k,random_state = 2333)\n",
    "    cluster.fit(train_df[['latitude', 'longitude']].dropna())\n",
    "    train_df['cluster_id_'+str(k)]=map(lambda x,y: cluster.predict(np.array([x,y]).reshape(1,-1))[0] \\\n",
    "                           if ~(np.isnan(x)|np.isnan(y)) else -1,\\\n",
    "                           train_df['latitude'],train_df['longitude'])\n",
    "    test_df['cluster_id_'+str(k)]=map(lambda x,y: cluster.predict(np.array([x,y]).reshape(1,-1))[0] \\\n",
    "                           if ~(np.isnan(x)|np.isnan(y)) else -1,\\\n",
    "                           test_df['latitude'],test_df['longitude'])"
   ]
  },
  {
   "cell_type": "code",
   "execution_count": 6,
   "metadata": {
    "collapsed": true
   },
   "outputs": [],
   "source": [
    "def categorical_statistics(train_df,test_df,cf,nf,update_df = None,random = None):\n",
    "    mean_value = train_df.groupby(cf)[nf].mean()\n",
    "    mean_value = mean_value.add_prefix(cf+'_')\n",
    "    \n",
    "    new_mean_feature = list(mean_value.columns)\n",
    "    \n",
    "    updateM = test_df[[cf]].join(mean_value, on = cf, how=\"left\")[new_mean_feature].fillna(-1)\n",
    "    \n",
    "    if update_df is None: update_df = test_df\n",
    "    if random:\n",
    "        updateM *= np.random.uniform(1 - random, 1 + random, updateM.shape[1]) \n",
    "    \n",
    "    for f in new_mean_feature:\n",
    "        if f not in update_df.columns: \n",
    "            update_df[f] = np.nan\n",
    "\n",
    "    update_df.update(updateM)"
   ]
  },
  {
   "cell_type": "code",
   "execution_count": 7,
   "metadata": {
    "collapsed": false
   },
   "outputs": [
    {
     "name": "stdout",
     "output_type": "stream",
     "text": [
      "(49352, 15)\n",
      "(74659, 14)\n"
     ]
    }
   ],
   "source": [
    "#lodaing data\n",
    "data_path = \"../../kaggleData/2sigma/\"\n",
    "train_file = data_path + \"train.json\"\n",
    "test_file = data_path + \"test.json\"\n",
    "train_df = pd.read_json(train_file)\n",
    "test_df = pd.read_json(test_file)\n",
    "print(train_df.shape)\n",
    "print(test_df.shape)\n"
   ]
  },
  {
   "cell_type": "code",
   "execution_count": 8,
   "metadata": {
    "collapsed": true
   },
   "outputs": [],
   "source": [
    "#basic numerical features\n",
    "features_to_use  = [\"bathrooms\", \"bedrooms\", \"latitude\", \"longitude\", \"price\"]"
   ]
  },
  {
   "cell_type": "code",
   "execution_count": 9,
   "metadata": {
    "collapsed": true
   },
   "outputs": [],
   "source": [
    "#some transfromed features\n",
    "# count of photos #\n",
    "train_df[\"num_photos\"] = train_df[\"photos\"].apply(len)\n",
    "\n",
    "# count of \"features\" #\n",
    "train_df[\"num_features\"] = train_df[\"features\"].apply(len)\n",
    "\n",
    "# count of words present in description column #\n",
    "train_df[\"num_description_words\"] = train_df[\"description\"].apply(lambda x: len(x.split(\" \")))\n",
    "\n",
    "# convert the created column to datetime object so as to extract more features \n",
    "train_df[\"created\"] = pd.to_datetime(train_df[\"created\"])\n",
    "\n",
    "# Let us extract some features like year, month, day, hour from date columns #\n",
    "train_df[\"created_year\"] = train_df[\"created\"].dt.year\n",
    "train_df[\"created_month\"] = train_df[\"created\"].dt.month\n",
    "train_df[\"created_day\"] = train_df[\"created\"].dt.day\n",
    "train_df[\"created_hour\"] = train_df[\"created\"].dt.hour\n",
    "\n",
    "#some new numerical features related to the price\n",
    "train_df[\"price_per_bath\"] =  (train_df[\"price\"]*1.0/train_df[\"bathrooms\"]).replace(np.Inf,-1)\n",
    "train_df[\"price_per_bed\"] = (train_df[\"price\"]*1.0/train_df[\"bedrooms\"]).replace(np.Inf,-1)\n",
    "train_df[\"bath_per_bed\"] = (train_df[\"bathrooms\"]*1.0/train_df[\"bedrooms\"]).replace(np.Inf,-1)\n",
    "train_df[\"price_per_room\"] = (train_df[\"price\"]*1.0/(train_df[\"bedrooms\"]+train_df[\"bathrooms\"])).replace(np.Inf,-1)\n",
    "\n",
    "\n",
    "# adding all these new features to use list # \"listing_id\",\n",
    "features_to_use.extend([\"num_photos\", \"num_features\", \"num_description_words\",\\\n",
    "                        \"created_year\",\"listing_id\", \"created_month\", \"created_day\", \"created_hour\"])\n",
    "#price new features\n",
    "features_to_use.extend([\"price_per_bed\",\"bath_per_bed\",\"price_per_room\"])\n"
   ]
  },
  {
   "cell_type": "code",
   "execution_count": 10,
   "metadata": {
    "collapsed": false
   },
   "outputs": [],
   "source": [
    "#filter the outliers to be nan\n",
    "processMap(train_df)"
   ]
  },
  {
   "cell_type": "code",
   "execution_count": 11,
   "metadata": {
    "collapsed": false
   },
   "outputs": [],
   "source": [
    "#prepare for training\n",
    "target_num_map = {'high':0, 'medium':1, 'low':2}\n",
    "\n",
    "train_y = np.array(train_df['interest_level'].apply(lambda x: target_num_map[x]))\n",
    "\n",
    "KF=KFold(len(train_df),5,shuffle=True,random_state = 42)"
   ]
  },
  {
   "cell_type": "code",
   "execution_count": 19,
   "metadata": {
    "collapsed": true
   },
   "outputs": [],
   "source": [
    "features = list(features_to_use)\n",
    "categorical = [\"display_address\", \"street_address\",'building_id','manager_id']\n",
    "features.extend(categorical)\n",
    "features.extend(['cluster_id_10','cluster_id_30'])\n",
    "\n",
    "cid_statistics = [\"bathrooms\", \"bedrooms\",\"price_per_bed\",\"bath_per_bed\",\"price_per_room\",\\\n",
    "                  \"num_photos\", \"num_features\", \"num_description_words\",'price']\n",
    "\n",
    "features.extend(map(lambda x : 'cluster_id_30_'+x,cid_statistics))"
   ]
  },
  {
   "cell_type": "code",
   "execution_count": 20,
   "metadata": {
    "collapsed": false,
    "scrolled": false
   },
   "outputs": [
    {
     "name": "stderr",
     "output_type": "stream",
     "text": [
      "C:\\Users\\dell\\Anaconda2\\lib\\site-packages\\ipykernel\\__main__.py:4: SettingWithCopyWarning: \n",
      "A value is trying to be set on a copy of a slice from a DataFrame.\n",
      "Try using .loc[row_indexer,col_indexer] = value instead\n",
      "\n",
      "See the caveats in the documentation: http://pandas.pydata.org/pandas-docs/stable/indexing.html#indexing-view-versus-copy\n",
      "C:\\Users\\dell\\Anaconda2\\lib\\site-packages\\ipykernel\\__main__.py:5: SettingWithCopyWarning: \n",
      "A value is trying to be set on a copy of a slice from a DataFrame.\n",
      "Try using .loc[row_indexer,col_indexer] = value instead\n",
      "\n",
      "See the caveats in the documentation: http://pandas.pydata.org/pandas-docs/stable/indexing.html#indexing-view-versus-copy\n",
      "C:\\Users\\dell\\Anaconda2\\lib\\site-packages\\ipykernel\\__main__.py:15: SettingWithCopyWarning: \n",
      "A value is trying to be set on a copy of a slice from a DataFrame.\n",
      "Try using .loc[row_indexer,col_indexer] = value instead\n",
      "\n",
      "See the caveats in the documentation: http://pandas.pydata.org/pandas-docs/stable/indexing.html#indexing-view-versus-copy\n",
      "C:\\Users\\dell\\Anaconda2\\lib\\site-packages\\ipykernel\\__main__.py:38: SettingWithCopyWarning: \n",
      "A value is trying to be set on a copy of a slice from a DataFrame.\n",
      "Try using .loc[row_indexer,col_indexer] = value instead\n",
      "\n",
      "See the caveats in the documentation: http://pandas.pydata.org/pandas-docs/stable/indexing.html#indexing-view-versus-copy\n",
      "C:\\Users\\dell\\Anaconda2\\lib\\site-packages\\ipykernel\\__main__.py:39: SettingWithCopyWarning: \n",
      "A value is trying to be set on a copy of a slice from a DataFrame.\n",
      "Try using .loc[row_indexer,col_indexer] = value instead\n",
      "\n",
      "See the caveats in the documentation: http://pandas.pydata.org/pandas-docs/stable/indexing.html#indexing-view-versus-copy\n"
     ]
    },
    {
     "name": "stdout",
     "output_type": "stream",
     "text": [
      "[0]\ttrain-mlogloss:1.03797\ttest-mlogloss:1.03936\n",
      "Multiple eval metrics have been passed: 'test-mlogloss' will be used for early stopping.\n",
      "\n",
      "Will train until test-mlogloss hasn't improved in 20 rounds.\n",
      "[100]\ttrain-mlogloss:0.496377\ttest-mlogloss:0.576663\n",
      "[200]\ttrain-mlogloss:0.426459\ttest-mlogloss:0.564323\n",
      "[300]\ttrain-mlogloss:0.37204\ttest-mlogloss:0.560602\n",
      "Stopping. Best iteration:\n",
      "[307]\ttrain-mlogloss:0.368624\ttest-mlogloss:0.560252\n",
      "\n",
      "loss for the turn 1 is 0.560723203528\n",
      "[0]\ttrain-mlogloss:1.03798\ttest-mlogloss:1.03926\n",
      "Multiple eval metrics have been passed: 'test-mlogloss' will be used for early stopping.\n",
      "\n",
      "Will train until test-mlogloss hasn't improved in 20 rounds.\n",
      "[100]\ttrain-mlogloss:0.497773\ttest-mlogloss:0.5739\n",
      "[200]\ttrain-mlogloss:0.426731\ttest-mlogloss:0.561354\n",
      "Stopping. Best iteration:\n",
      "[242]\ttrain-mlogloss:0.403246\ttest-mlogloss:0.559723\n",
      "\n",
      "loss for the turn 2 is 0.559788243721\n",
      "[0]\ttrain-mlogloss:1.03848\ttest-mlogloss:1.03927\n",
      "Multiple eval metrics have been passed: 'test-mlogloss' will be used for early stopping.\n",
      "\n",
      "Will train until test-mlogloss hasn't improved in 20 rounds.\n",
      "[100]\ttrain-mlogloss:0.499382\ttest-mlogloss:0.574278\n",
      "[200]\ttrain-mlogloss:0.426772\ttest-mlogloss:0.562673\n",
      "Stopping. Best iteration:\n",
      "[270]\ttrain-mlogloss:0.388927\ttest-mlogloss:0.560335\n",
      "\n",
      "loss for the turn 3 is 0.561156676916\n",
      "[0]\ttrain-mlogloss:1.03825\ttest-mlogloss:1.03887\n",
      "Multiple eval metrics have been passed: 'test-mlogloss' will be used for early stopping.\n",
      "\n",
      "Will train until test-mlogloss hasn't improved in 20 rounds.\n",
      "[100]\ttrain-mlogloss:0.497326\ttest-mlogloss:0.571553\n",
      "[200]\ttrain-mlogloss:0.428822\ttest-mlogloss:0.560006\n",
      "[300]\ttrain-mlogloss:0.376368\ttest-mlogloss:0.555462\n",
      "Stopping. Best iteration:\n",
      "[376]\ttrain-mlogloss:0.342284\ttest-mlogloss:0.554479\n",
      "\n",
      "loss for the turn 4 is 0.554626082611\n",
      "[0]\ttrain-mlogloss:1.03831\ttest-mlogloss:1.03886\n",
      "Multiple eval metrics have been passed: 'test-mlogloss' will be used for early stopping.\n",
      "\n",
      "Will train until test-mlogloss hasn't improved in 20 rounds.\n",
      "[100]\ttrain-mlogloss:0.496657\ttest-mlogloss:0.574511\n",
      "[200]\ttrain-mlogloss:0.424328\ttest-mlogloss:0.565362\n",
      "Stopping. Best iteration:\n",
      "[245]\ttrain-mlogloss:0.398041\ttest-mlogloss:0.563492\n",
      "\n",
      "loss for the turn 5 is 0.564212480873\n"
     ]
    }
   ],
   "source": [
    "#running and getting the cv from xgboost\n",
    "cv_scores = []\n",
    "cv_result = []\n",
    "\n",
    "#K-FOLD already defined.If not ,use\n",
    "#KF=KFold(len(train_X),5,shuffle=True,random_state = 42)\n",
    "i=0\n",
    "for dev_index, val_index in KF:\n",
    "        result_dict = {}\n",
    "        \n",
    "        \"\"\"some preprocessing like feature constructed in cv manners\"\"\"\n",
    "        #split the orginal train set into dev_set and val_set\n",
    "        dev_set, val_set = train_df.iloc[dev_index,:] , train_df.iloc[val_index,:] \n",
    "        \n",
    "        getCluster(dev_set,val_set,30)\n",
    "        getCluster(dev_set,val_set,10)\n",
    "        \n",
    "        skf=KFold(len(dev_set),5,shuffle=True,random_state = 42)\n",
    "        \"\"\"\n",
    "        categorical_statistics(train_df,test_df,cf,nf,update_df = None)\n",
    "        \"\"\"\n",
    "        #statitstic based on cid ,cv-manner statistics\n",
    "        for train,test in skf:\n",
    "            categorical_statistics(dev_set.iloc[train,:],dev_set.iloc[test,:],'cluster_id_30',cid_statistics\\\n",
    "                          ,update_df = dev_set,random = 0.01)\n",
    "        categorical_statistics(dev_set,val_set,'cluster_id_30',cid_statistics,random = 0.01)\n",
    "\n",
    "        \"\"\" \n",
    "         runXGB(train_X, train_y, test_X, test_y=None, feature_names=None, \\\n",
    "         seed_val=0, early_stop = 20,num_rounds=10000, eta = 0.1,\\\n",
    "         max_depth = 6,cv_dict = None):\n",
    "         \"\"\"\n",
    "        for f in categorical:\n",
    "    \n",
    "            if dev_set[f].dtype=='object':\n",
    "            #print(f)\n",
    "                lbl = preprocessing.LabelEncoder()\n",
    "                lbl.fit(list(dev_set[f])+list(val_set[f]))\n",
    "                dev_set[f] = lbl.transform(list(dev_set[f].values))\n",
    "                val_set[f] = lbl.transform(list(val_set[f].values))\n",
    "        \n",
    "        dev_X, val_X = dev_set[features].as_matrix(), val_set[features].as_matrix()\n",
    "        dev_y, val_y = train_y[dev_index], train_y[val_index]\n",
    "       \n",
    "        \n",
    "        preds, model = runXGB(dev_X, dev_y, val_X, val_y,early_stop  = 20,\\\n",
    "                              feature_names = features,cv_dict = result_dict,verbose_eval=100)\n",
    "       \n",
    "        loss = log_loss(val_y, preds)\n",
    "        cv_scores.append(loss)\n",
    "        cv_result.append(result_dict)\n",
    "        i+=1\n",
    "        print 'loss for the turn '+str(i)+' is '+str(loss)"
   ]
  },
  {
   "cell_type": "code",
   "execution_count": 52,
   "metadata": {
    "collapsed": false
   },
   "outputs": [
    {
     "data": {
      "text/plain": [
       "test0    283\n",
       "test1    271\n",
       "test2    250\n",
       "test3    288\n",
       "test4    257\n",
       "Name: 287, dtype: int32"
      ]
     },
     "execution_count": 52,
     "metadata": {},
     "output_type": "execute_result"
    }
   ],
   "source": [
    "#plot the validation curv\n",
    "cvResult = CVstatistics(cv_result,'mlogloss')\n",
    "cvResult.turns"
   ]
  },
  {
   "cell_type": "code",
   "execution_count": 21,
   "metadata": {
    "collapsed": false
   },
   "outputs": [
    {
     "data": {
      "text/plain": [
       "0.56010133752980129"
      ]
     },
     "execution_count": 21,
     "metadata": {},
     "output_type": "execute_result"
    }
   ],
   "source": [
    "#cvResult.validCurve(stop=False)\n",
    "#some errors at certain turn to see the descending\n",
    "cv_scores\n",
    "np.mean(cv_scores)"
   ]
  },
  {
   "cell_type": "code",
   "execution_count": 54,
   "metadata": {
    "collapsed": false
   },
   "outputs": [
    {
     "data": {
      "text/plain": [
       "(0.5846836000000001, 0.4541974000000001)"
      ]
     },
     "execution_count": 54,
     "metadata": {},
     "output_type": "execute_result"
    }
   ],
   "source": [
    "#cvResult.validCurve(stop=False)\n",
    "#some errors at certain turn to see the descending\n",
    "cvResult.errorsAt(215)"
   ]
  },
  {
   "cell_type": "code",
   "execution_count": 22,
   "metadata": {
    "collapsed": false
   },
   "outputs": [
    {
     "data": {
      "text/plain": [
       "[('price_per_room', 0.06200910960565332),\n",
       " ('bathrooms', 0.06176587847347855),\n",
       " ('price', 0.06062982683277259),\n",
       " ('building_id', 0.06059516235492652),\n",
       " ('bath_per_bed', 0.0457860653413759),\n",
       " ('price_per_bed', 0.045511554837084044),\n",
       " ('bedrooms', 0.04498907478839169),\n",
       " ('num_photos', 0.04400583662021533),\n",
       " ('created_hour', 0.04353490849799212),\n",
       " ('num_features', 0.03568743292308462),\n",
       " ('cluster_id_10', 0.03515915635468015),\n",
       " ('longitude', 0.031345330673022836),\n",
       " ('latitude', 0.029934600248923388),\n",
       " ('cluster_id_30_price', 0.028499025892671587),\n",
       " ('manager_id', 0.026288837490465573),\n",
       " ('num_description_words', 0.025952788324726937),\n",
       " ('cluster_id_30_price_per_bed', 0.025669986880982487),\n",
       " ('cluster_id_30_price_per_room', 0.025431608451746888),\n",
       " ('cluster_id_30_bathrooms', 0.024777097923604476),\n",
       " ('cluster_id_30', 0.024518820988879014),\n",
       " ('cluster_id_30_num_photos', 0.023447129469650326),\n",
       " ('listing_id', 0.023402343547352173),\n",
       " ('street_address', 0.0233830375669811),\n",
       " ('display_address', 0.02246388902824086),\n",
       " ('cluster_id_30_num_features', 0.022419722401088103),\n",
       " ('cluster_id_30_bedrooms', 0.022376281813634876),\n",
       " ('cluster_id_30_bath_per_bed', 0.021958743403081002),\n",
       " ('cluster_id_30_num_description_words', 0.021815574025765554),\n",
       " ('created_day', 0.01923444774809099),\n",
       " ('created_month', 0.017406727491437023)]"
      ]
     },
     "execution_count": 22,
     "metadata": {},
     "output_type": "execute_result"
    }
   ],
   "source": [
    "#show the importance of the features\n",
    "showImportance(model,'gain')"
   ]
  },
  {
   "cell_type": "code",
   "execution_count": 40,
   "metadata": {
    "collapsed": false
   },
   "outputs": [],
   "source": [
    "for cid in range(30):\n",
    "    plt.scatter(dev_set.ix[dev_set['cluster_id_30']==cid,'latitude'],\\\n",
    "                dev_set.ix[dev_set['cluster_id_30']==cid,'longitude'],c=np.random.rand(3,))\n",
    "plt.show()"
   ]
  }
 ],
 "metadata": {
  "anaconda-cloud": {},
  "kernelspec": {
   "display_name": "Python [Root]",
   "language": "python",
   "name": "Python [Root]"
  },
  "language_info": {
   "codemirror_mode": {
    "name": "ipython",
    "version": 2
   },
   "file_extension": ".py",
   "mimetype": "text/x-python",
   "name": "python",
   "nbconvert_exporter": "python",
   "pygments_lexer": "ipython2",
   "version": "2.7.12"
  }
 },
 "nbformat": 4,
 "nbformat_minor": 0
}
