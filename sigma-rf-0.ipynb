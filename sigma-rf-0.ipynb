{
 "cells": [
  {
   "cell_type": "code",
   "execution_count": 14,
   "metadata": {
    "collapsed": false
   },
   "outputs": [],
   "source": [
    "import pandas as pd\n",
    "import numpy as np\n",
    "import pickle\n",
    "from sklearn.metrics import log_loss\n",
    "from sklearn.cross_validation import KFold\n",
    "from sklearn import  ensemble"
   ]
  },
  {
   "cell_type": "code",
   "execution_count": 3,
   "metadata": {
    "collapsed": true
   },
   "outputs": [],
   "source": [
    "#lodaing data\n",
    "data_path = \"../../kaggleData/2sigma/\"\n",
    "train_file = data_path + \"processed_train_df.json\"\n",
    "test_file = data_path + \"processed_test_df.json\"\n",
    "train_df = pd.read_json(train_file)\n",
    "test_df = pd.read_json(test_file)"
   ]
  },
  {
   "cell_type": "code",
   "execution_count": 4,
   "metadata": {
    "collapsed": true
   },
   "outputs": [],
   "source": [
    "xgb14featureFile = 'xgb145.feat'\n",
    "fileObject = open(xgb14featureFile,'r')\n",
    "features = pickle.load(fileObject)\n",
    "fileObject.close()"
   ]
  },
  {
   "cell_type": "code",
   "execution_count": 11,
   "metadata": {
    "collapsed": false
   },
   "outputs": [],
   "source": [
    "#prepare for training\n",
    "target_num_map = {'high':0, 'medium':1, 'low':2}\n",
    "\n",
    "train_X = train_df[features]\n",
    "test_X = test_df[features]\n",
    "\n",
    "train_y = np.array(train_df['interest_level'].apply(lambda x: target_num_map[x]))"
   ]
  },
  {
   "cell_type": "code",
   "execution_count": 12,
   "metadata": {
    "collapsed": false
   },
   "outputs": [],
   "source": [
    "KF=KFold(len(train_X),5,shuffle=True,random_state = 42)"
   ]
  },
  {
   "cell_type": "code",
   "execution_count": 15,
   "metadata": {
    "collapsed": false
   },
   "outputs": [
    {
     "name": "stdout",
     "output_type": "stream",
     "text": [
      "[0.57916715126667773, 0.58109847115140512, 0.5826094714742206, 0.56926810492087432, 0.58425313105533438]\n",
      "0.579279265974\n"
     ]
    }
   ],
   "source": [
    "#cross-validation\n",
    "cv_scores = []\n",
    "\n",
    "#using entropy\n",
    "for dev_index, val_index in KF:\n",
    "        dev_X, val_X = train_X.iloc[dev_index,:], train_X.iloc[val_index,:]\n",
    "        dev_y, val_y = train_y[dev_index], train_y[val_index]\n",
    "        \n",
    "        #random forest us\n",
    "        rf30 = ensemble.RandomForestClassifier(500,random_state = 42,class_weight='balanced',n_jobs =6)\n",
    "        rf30.fit(dev_X,dev_y)\n",
    "        preds = rf30.predict_proba(val_X)\n",
    "        \n",
    "        cv_scores.append(log_loss(val_y, preds))\n",
    "\n",
    "print(cv_scores)\n",
    "print np.mean(cv_scores)"
   ]
  },
  {
   "cell_type": "code",
   "execution_count": 19,
   "metadata": {
    "collapsed": false
   },
   "outputs": [
    {
     "name": "stdout",
     "output_type": "stream",
     "text": [
      "[0.57658289328080525, 0.57634293851369289, 0.5755572822423527, 0.5664076481115915, 0.57735214005944369]\n",
      "0.574448580442\n"
     ]
    }
   ],
   "source": [
    "#cross-validation\n",
    "cv_scores = []\n",
    "\n",
    "#using entropy\n",
    "for dev_index, val_index in KF:\n",
    "        dev_X, val_X = train_X.iloc[dev_index,:], train_X.iloc[val_index,:]\n",
    "        dev_y, val_y = train_y[dev_index], train_y[val_index]\n",
    "        \n",
    "        #random forest us\n",
    "        rf30 = ensemble.RandomForestClassifier(2000,random_state = 42,class_weight='balanced',n_jobs =6)\n",
    "        rf30.fit(dev_X,dev_y)\n",
    "        preds = rf30.predict_proba(val_X)\n",
    "        \n",
    "        cv_scores.append(log_loss(val_y, preds))\n",
    "\n",
    "print(cv_scores)\n",
    "print np.mean(cv_scores)"
   ]
  },
  {
   "cell_type": "code",
   "execution_count": 20,
   "metadata": {
    "collapsed": false
   },
   "outputs": [
    {
     "data": {
      "text/plain": [
       "216"
      ]
     },
     "execution_count": 20,
     "metadata": {},
     "output_type": "execute_result"
    }
   ],
   "source": [
    "len(features)"
   ]
  },
  {
   "cell_type": "code",
   "execution_count": 24,
   "metadata": {
    "collapsed": true
   },
   "outputs": [],
   "source": [
    "from sklearn.feature_selection import RFE"
   ]
  },
  {
   "cell_type": "code",
   "execution_count": 22,
   "metadata": {
    "collapsed": true
   },
   "outputs": [],
   "source": [
    "rf = ensemble.RandomForestClassifier(500,random_state = 42,class_weight='balanced',n_jobs =6)"
   ]
  },
  {
   "cell_type": "code",
   "execution_count": 25,
   "metadata": {
    "collapsed": false
   },
   "outputs": [],
   "source": [
    "selector = RFE(rf,150,0.1)"
   ]
  },
  {
   "cell_type": "code",
   "execution_count": 27,
   "metadata": {
    "collapsed": false
   },
   "outputs": [
    {
     "data": {
      "text/plain": [
       "RFE(estimator=RandomForestClassifier(bootstrap=True, class_weight='balanced',\n",
       "            criterion='gini', max_depth=None, max_features='auto',\n",
       "            max_leaf_nodes=None, min_impurity_split=1e-07,\n",
       "            min_samples_leaf=1, min_samples_split=2,\n",
       "            min_weight_fraction_leaf=0.0, n_estimators=500, n_jobs=6,\n",
       "            oob_score=False, random_state=42, verbose=0, warm_start=False),\n",
       "  n_features_to_select=150, step=0.1, verbose=0)"
      ]
     },
     "execution_count": 27,
     "metadata": {},
     "output_type": "execute_result"
    }
   ],
   "source": [
    "selector.fit(train_X,train_y)"
   ]
  },
  {
   "cell_type": "code",
   "execution_count": 35,
   "metadata": {
    "collapsed": false
   },
   "outputs": [],
   "source": [
    "se_features=pd.DataFrame(features)"
   ]
  },
  {
   "cell_type": "code",
   "execution_count": 61,
   "metadata": {
    "collapsed": false
   },
   "outputs": [],
   "source": [
    "filtered_features = list(se_features[selector.get_support()][0])"
   ]
  },
  {
   "cell_type": "code",
   "execution_count": 62,
   "metadata": {
    "collapsed": false
   },
   "outputs": [
    {
     "name": "stdout",
     "output_type": "stream",
     "text": [
      "[0.5793201314823494, 0.57285395910726478, 0.57727291207417453, 0.56650649180821433, 0.58060912397637454]\n",
      "0.57531252369\n"
     ]
    }
   ],
   "source": [
    "#cross-validation\n",
    "cv_scores = []\n",
    "\n",
    "changed_train_X = train_df[filtered_features]\n",
    "\n",
    "#using entropy\n",
    "for dev_index, val_index in KF:\n",
    "        dev_X, val_X = changed_train_X.iloc[dev_index,:], changed_train_X.iloc[val_index,:]\n",
    "        dev_y, val_y = train_y[dev_index], train_y[val_index]\n",
    "        \n",
    "        #random forest us\n",
    "        rf30 = ensemble.RandomForestClassifier(500,random_state = 42,class_weight='balanced',n_jobs =6)\n",
    "        rf30.fit(dev_X,dev_y)\n",
    "        preds = rf30.predict_proba(val_X)\n",
    "        \n",
    "        cv_scores.append(log_loss(val_y, preds))\n",
    "\n",
    "print(cv_scores)\n",
    "print np.mean(cv_scores)"
   ]
  },
  {
   "cell_type": "code",
   "execution_count": 63,
   "metadata": {
    "collapsed": false
   },
   "outputs": [
    {
     "name": "stdout",
     "output_type": "stream",
     "text": [
      "[0.57315141770199063, 0.57286519395995095, 0.57374774240027893, 0.56486169414755705, 0.57932365594733615]\n",
      "0.572789940831\n"
     ]
    }
   ],
   "source": [
    "#cross-validation\n",
    "cv_scores = []\n",
    "\n",
    "changed_train_X = train_df[filtered_features]\n",
    "\n",
    "#using entropy\n",
    "for dev_index, val_index in KF:\n",
    "        dev_X, val_X = changed_train_X.iloc[dev_index,:], changed_train_X.iloc[val_index,:]\n",
    "        dev_y, val_y = train_y[dev_index], train_y[val_index]\n",
    "        \n",
    "        #random forest us\n",
    "        rf30 = ensemble.RandomForestClassifier(2000,random_state = 42,class_weight='balanced',n_jobs =6)\n",
    "        rf30.fit(dev_X,dev_y)\n",
    "        preds = rf30.predict_proba(val_X)\n",
    "        \n",
    "        cv_scores.append(log_loss(val_y, preds))\n",
    "\n",
    "print(cv_scores)\n",
    "print np.mean(cv_scores)"
   ]
  },
  {
   "cell_type": "code",
   "execution_count": 64,
   "metadata": {
    "collapsed": true
   },
   "outputs": [],
   "source": [
    "selector = RFE(rf,step=0.1)\n",
    "selector.fit(train_X,train_y)\n",
    "se_features=pd.DataFrame(features)\n",
    "filtered_features = list(se_features[selector.get_support()][0])"
   ]
  },
  {
   "cell_type": "code",
   "execution_count": 65,
   "metadata": {
    "collapsed": false
   },
   "outputs": [
    {
     "name": "stdout",
     "output_type": "stream",
     "text": [
      "[0.57617198995129204, 0.57220392723792601, 0.58155534386406948, 0.56769157489383015, 0.57869817381446709]\n",
      "0.575264201952\n"
     ]
    }
   ],
   "source": [
    "#cross-validation\n",
    "cv_scores = []\n",
    "\n",
    "changed_train_X = train_df[filtered_features]\n",
    "\n",
    "#using entropy\n",
    "for dev_index, val_index in KF:\n",
    "        dev_X, val_X = changed_train_X.iloc[dev_index,:], changed_train_X.iloc[val_index,:]\n",
    "        dev_y, val_y = train_y[dev_index], train_y[val_index]\n",
    "        \n",
    "        #random forest us\n",
    "        rf30 = ensemble.RandomForestClassifier(500,random_state = 42,class_weight='balanced',n_jobs =6)\n",
    "        rf30.fit(dev_X,dev_y)\n",
    "        preds = rf30.predict_proba(val_X)\n",
    "        \n",
    "        cv_scores.append(log_loss(val_y, preds))\n",
    "\n",
    "print(cv_scores)\n",
    "print np.mean(cv_scores)"
   ]
  },
  {
   "cell_type": "code",
   "execution_count": 66,
   "metadata": {
    "collapsed": false
   },
   "outputs": [
    {
     "name": "stdout",
     "output_type": "stream",
     "text": [
      "[0.57182604175622742, 0.5708535775991963, 0.57459649287216785, 0.5630481176625568, 0.57816307102554476]\n",
      "0.571697460183\n"
     ]
    }
   ],
   "source": [
    "#cross-validation\n",
    "cv_scores = []\n",
    "\n",
    "changed_train_X = train_df[filtered_features]\n",
    "\n",
    "#using entropy\n",
    "for dev_index, val_index in KF:\n",
    "        dev_X, val_X = changed_train_X.iloc[dev_index,:], changed_train_X.iloc[val_index,:]\n",
    "        dev_y, val_y = train_y[dev_index], train_y[val_index]\n",
    "        \n",
    "        #random forest us\n",
    "        rf30 = ensemble.RandomForestClassifier(2000,random_state = 42,class_weight='balanced',n_jobs =6)\n",
    "        rf30.fit(dev_X,dev_y)\n",
    "        preds = rf30.predict_proba(val_X)\n",
    "        \n",
    "        cv_scores.append(log_loss(val_y, preds))\n",
    "\n",
    "print(cv_scores)\n",
    "print np.mean(cv_scores)"
   ]
  }
 ],
 "metadata": {
  "kernelspec": {
   "display_name": "Python 2",
   "language": "python",
   "name": "python2"
  },
  "language_info": {
   "codemirror_mode": {
    "name": "ipython",
    "version": 2
   },
   "file_extension": ".py",
   "mimetype": "text/x-python",
   "name": "python",
   "nbconvert_exporter": "python",
   "pygments_lexer": "ipython2",
   "version": "2.7.13"
  }
 },
 "nbformat": 4,
 "nbformat_minor": 2
}
