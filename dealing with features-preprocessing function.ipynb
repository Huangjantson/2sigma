{
 "cells": [
  {
   "cell_type": "code",
   "execution_count": 1,
   "metadata": {
    "collapsed": true
   },
   "outputs": [],
   "source": [
    "import pandas as pd\n",
    "import re\n",
    "import string\n",
    "import numpy as np\n",
    "import matplotlib.pyplot as plt\n",
    "from collections import defaultdict, Counter\n",
    "\n",
    "%matplotlib inline"
   ]
  },
  {
   "cell_type": "code",
   "execution_count": 2,
   "metadata": {
    "collapsed": false
   },
   "outputs": [
    {
     "name": "stdout",
     "output_type": "stream",
     "text": [
      "(49352, 15)\n",
      "(74659, 14)\n"
     ]
    }
   ],
   "source": [
    "train_df = pd.read_json(\"../../kaggleData/2sigma/train.json\")\n",
    "test_df = pd.read_json(\"../../kaggleData/2sigma/test.json\")\n",
    "print train_df.shape\n",
    "print test_df.shape"
   ]
  },
  {
   "cell_type": "code",
   "execution_count": 3,
   "metadata": {
    "collapsed": false
   },
   "outputs": [],
   "source": [
    "#simple preprocessing\n",
    "train_df[\"features\"] = train_df[\"features\"].apply(lambda x:[\"_\".join(i.split(\" \")).lower().strip().replace('-','_') \\\n",
    "                                                            for i in x])\n",
    "test_df[\"features\"] = test_df[\"features\"].apply(lambda x:[\"_\".join(i.split(\" \")).lower().strip().replace('-','_')\\\n",
    "                                                          for i in x])"
   ]
  },
  {
   "cell_type": "code",
   "execution_count": 4,
   "metadata": {
    "collapsed": true
   },
   "outputs": [],
   "source": [
    "def featureList(train_df,test_df,limit = 0.001):\n",
    "    #acquiring the feature lists\n",
    "    features_in_train = train_df[\"features\"].apply(pd.Series).unstack().reset_index(drop = True).dropna().value_counts()\n",
    "    features_in_train.sort(ascending  = False)\n",
    "    features_in_test = test_df[\"features\"].apply(pd.Series).unstack().reset_index(drop = True).dropna().value_counts()\n",
    "    features_in_test.sort(ascending  = False)\n",
    "    \n",
    "    filtered_features_in_train = features_in_train[features_in_train > limit*len(train_df)]\n",
    "    filtered_features_in_test = features_in_test[features_in_test > limit*len(test_df)]\n",
    "    accept_list = set(filtered_features_in_train.index).union(set(filtered_features_in_test.index))\n",
    "    return accept_list\n",
    "\n",
    "def featureMapping(train_df,test_df,feature_list):\n",
    "    for feature in feature_list:\n",
    "        #add the feature column for both\n",
    "        #if feature in the row, then set the value for (row,feature) to 1\n",
    "        train_df['with_'+feature]=train_df['features'].apply(lambda x : 1 if feature in x else 0)\n",
    "        test_df['with_'+feature]=test_df['features'].apply(lambda x : 1 if feature in x else 0)\n",
    "    return"
   ]
  },
  {
   "cell_type": "code",
   "execution_count": 5,
   "metadata": {
    "collapsed": false
   },
   "outputs": [
    {
     "name": "stderr",
     "output_type": "stream",
     "text": [
      "C:\\Users\\dell\\Anaconda2\\lib\\site-packages\\ipykernel\\__main__.py:4: FutureWarning: sort is deprecated, use sort_values(inplace=True) for INPLACE sorting\n",
      "C:\\Users\\dell\\Anaconda2\\lib\\site-packages\\ipykernel\\__main__.py:6: FutureWarning: sort is deprecated, use sort_values(inplace=True) for INPLACE sorting\n"
     ]
    }
   ],
   "source": [
    "preaccept_list = list(featureList(train_df,test_df,limit = 0.0001))\n",
    "#featureMapping(train_df,test_df,accept_list)"
   ]
  },
  {
   "cell_type": "code",
   "execution_count": 6,
   "metadata": {
    "collapsed": true
   },
   "outputs": [],
   "source": [
    "def clean(s):\n",
    "    x = s.replace(\"-\", \"\")\n",
    "    x = x.replace(\" \", \"\")\n",
    "    x = x.replace(\"twenty four hour\", \"24\")\n",
    "    x = x.replace(\"24/7\", \"24\")\n",
    "    x = x.replace(\"24hr\", \"24\")\n",
    "    x = x.replace(\"24-hour\", \"24\")\n",
    "    x = x.replace(\"24hour\", \"24\")\n",
    "    x = x.replace(\"24 hour\", \"24\")\n",
    "    \n",
    "    x = x.replace(\"common\", \"cm\")\n",
    "    x = x.replace(\"concierge\", \"doorman\")\n",
    "    x = x.replace(\"bicycle\", \"bike\")\n",
    "    x = x.replace(\"private\", \"pv\")\n",
    "    x = x.replace(\"deco\", \"dc\")\n",
    "    x = x.replace(\"decorative\", \"dc\")\n",
    "    x = x.replace(\"onsite\", \"os\")\n",
    "    x = x.replace(\"outdoor\", \"od\")\n",
    "    x = x.replace(\"ss appliances\", \"stainless\")\n",
    "    \n",
    "    x = x.replace(\"high_\",'hi')\n",
    "    x = x.replace(\"high\",'hi')\n",
    "    x = x.replace(\"hi_\",'hi')\n",
    "   \n",
    "    x = x.replace(\"live\",\"lv\")\n",
    "    x = x.replace(\"pre_\",\"pre\")\n",
    "    x = x.replace(\"all\",\"al\")\n",
    "    x = x.replace(\"flex\",\"fl\")\n",
    "    x = x.replace(\"residents\",\"rs\")\n",
    "    x = x.replace(\"close\",\"cl\")\n",
    "    x = x.replace(\"duplex\",\"dp\")\n",
    "    x = x.replace(\"share\",\"sh\")\n",
    "    x = x.replace(\"newly\",\"new\")\n",
    "    x = x.replace(\"on_site\",\"os\")\n",
    "    \n",
    "    x = x.replace(\"24_hour\",\"24\")\n",
    "    x = x.replace(\"full_time\",\"24\")\n",
    "\n",
    "\n",
    "    return x\n",
    "\n",
    "def feature_hash(x):\n",
    "    cleaned = clean(x, uniq)\n",
    "    key = cleaned[:4].strip()\n",
    "    return key"
   ]
  },
  {
   "cell_type": "code",
   "execution_count": 7,
   "metadata": {
    "collapsed": false
   },
   "outputs": [],
   "source": [
    "key2original = defaultdict(list)\n",
    "origin2key =  {}\n",
    "k = 4\n",
    "for f in preaccept_list:\n",
    "    cleaned = clean(f)\n",
    "    key = cleaned[:k].strip()\n",
    "    key2original[key].append(f)\n",
    "    origin2key[f] = key"
   ]
  },
  {
   "cell_type": "code",
   "execution_count": 8,
   "metadata": {
    "collapsed": false
   },
   "outputs": [],
   "source": [
    "#handy modifying the origin2key[f] for some of the not satisfying values\n",
    "train_df[\"features\"] = train_df[\"features\"].apply(lambda x : [origin2key[i] if i in origin2key else i for i in x ])\n",
    "test_df[\"features\"] = test_df[\"features\"].apply(lambda x : [origin2key[i] if i in origin2key else i for i in x ])\n"
   ]
  },
  {
   "cell_type": "code",
   "execution_count": 13,
   "metadata": {
    "collapsed": false
   },
   "outputs": [
    {
     "name": "stderr",
     "output_type": "stream",
     "text": [
      "C:\\Users\\dell\\Anaconda2\\lib\\site-packages\\ipykernel\\__main__.py:4: FutureWarning: sort is deprecated, use sort_values(inplace=True) for INPLACE sorting\n",
      "C:\\Users\\dell\\Anaconda2\\lib\\site-packages\\ipykernel\\__main__.py:6: FutureWarning: sort is deprecated, use sort_values(inplace=True) for INPLACE sorting\n"
     ]
    }
   ],
   "source": [
    "accept_list = list(featureList(train_df,test_df,limit = 0.005))\n"
   ]
  },
  {
   "cell_type": "code",
   "execution_count": 14,
   "metadata": {
    "collapsed": false
   },
   "outputs": [
    {
     "data": {
      "text/plain": [
       "41"
      ]
     },
     "execution_count": 14,
     "metadata": {},
     "output_type": "execute_result"
    }
   ],
   "source": [
    "len(accept_list)"
   ]
  },
  {
   "cell_type": "code",
   "execution_count": 8,
   "metadata": {
    "collapsed": false
   },
   "outputs": [
    {
     "data": {
      "text/plain": [
       "defaultdict(list,\n",
       "            {u'1_mo': [u'1_month_free'],\n",
       "             u'24_d': [u'24_hour_doorman',\n",
       "              u'24hr_doorman',\n",
       "              u'24/7_concierge',\n",
       "              u'24/7_doorman_concierge',\n",
       "              u'full_time_doorman',\n",
       "              u'24/7_doorman'],\n",
       "             u'a_fu': [u'a_full_service_luxury_highrise'],\n",
       "             u'actu': [u'actual_photos!', u'actual_apt._photos'],\n",
       "             u'air_': [u'air_conditioning'],\n",
       "             u'al_p': [u'all_pets_ok'],\n",
       "             u'al_u': [u'all_utilities_included'],\n",
       "             u'assi': [u'assigned_parking_space'],\n",
       "             u'atte': [u'attended_lobby'],\n",
       "             u'back': [u'backyard'],\n",
       "             u'balc': [u'balcony'],\n",
       "             u'base': [u'basement_storage'],\n",
       "             u'bask': [u'basketball_court'],\n",
       "             u'bike': [u'bike_storage', u'bike_room'],\n",
       "             u'bill': [u'billiards_table_and_wet_bar',\n",
       "              u'billiards_room',\n",
       "              u'billiards'],\n",
       "             u'brea': [u'breakfast_bar'],\n",
       "             u'brow': [u'brownstone'],\n",
       "             u'buil': [u'building_common_outdoor_space'],\n",
       "             u'busi': [u'business_center'],\n",
       "             u'cabl': [u'cable/satellite_tv', u'cable_ready'],\n",
       "             u'cal/': [u'call/text_abraham_caro_@_917_373_0862'],\n",
       "             u'cats': [u'cats_allowed'],\n",
       "             u'cent': [u'central_ac', u'central_air', u'central_a/c'],\n",
       "             u'chef': [u'chefs_kitchen'],\n",
       "             u'chil': [u\"children's_playroom\",\n",
       "              u'children\\u2019s_playroom',\n",
       "              u'childrens_playroom'],\n",
       "             u'cine': [u'cinema_room'],\n",
       "             u'city': [u'city_view'],\n",
       "             u'cl_t': [u'close_to_subway'],\n",
       "             u'clts': [u'closets_galore!'],\n",
       "             u'club': [u'club_sun_deck_has_spectacular_city_and_river_views'],\n",
       "             u'cm_b': [u'common_backyard'],\n",
       "             u'cm_g': [u'common_garden'],\n",
       "             u'cm_o': [u'common_outdoor_space'],\n",
       "             u'cm_p': [u'common_parking/garage'],\n",
       "             u'cm_r': [u'common_roof_deck'],\n",
       "             u'cm_s': [u'common_storage'],\n",
       "             u'cm_t': [u'common_terrace'],\n",
       "             u'cold': [u'cold_storage'],\n",
       "             u'comm': [u'community_recreation_facilities'],\n",
       "             u'comp': [u'complimentary_sunday_brunch'],\n",
       "             u'cond': [u'condo_finishes'],\n",
       "             u'cour': [u'courtyard'],\n",
       "             u'crow': [u'crown_moldings'],\n",
       "             u'dc_f': [u'deco_fireplace'],\n",
       "             u'dcra': [u'decorative_fireplace'],\n",
       "             u'deck': [u'deck'],\n",
       "             u'dini': [u'dining_room'],\n",
       "             u'dish': [u'dishwasher'],\n",
       "             u'dogs': [u'dogs_allowed'],\n",
       "             u'door': [u'concierge_service', u'concierge', u'doorman'],\n",
       "             u'dp': [u'duplex'],\n",
       "             u'dp_l': [u'duplex_lounge'],\n",
       "             u'dry_': [u'dry_cleaning_service'],\n",
       "             u'drye': [u'dryer_in_unit'],\n",
       "             u'eat_': [u'eat_in_kitchen'],\n",
       "             u'eleg': [u'elegant_glass_enclosed_private_lounge_with_magnificent_river_views'],\n",
       "             u'elev': [u'elevator'],\n",
       "             u'excl': [u'exclusive'],\n",
       "             u'expo': [u'exposed_brick'],\n",
       "             u'fire': [u'fireplaces', u'fireplace'],\n",
       "             u'fitn': [u'fitness_center', u'fitness_room'],\n",
       "             u'fl_2': [u'flex_2'],\n",
       "             u'fl_3': [u'flex_3'],\n",
       "             u'free': [u'free_wifi_in_club_lounge'],\n",
       "             u'ft_d': [u'ft_doorman'],\n",
       "             u'full': [u'fully__equipped',\n",
       "              u'fully_equipped_club_fitness_center',\n",
       "              u'full_service_garage'],\n",
       "             u'furn': [u'furnished'],\n",
       "             u'game': [u'game_room'],\n",
       "             u'gara': [u'garage'],\n",
       "             u'garb': [u'garbage_disposal'],\n",
       "             u'gard': [u'garden', u'garden/patio'],\n",
       "             u'gran': [u'granite_counter_tops',\n",
       "              u'granite_kitchen',\n",
       "              u'granite_countertops'],\n",
       "             u'gree': [u'green_building'],\n",
       "             u'guar': [u'guarantors_accepted'],\n",
       "             u'gut_': [u'gut_renovated'],\n",
       "             u'gym': [u'gym'],\n",
       "             u'gym/': [u'gym/fitness'],\n",
       "             u'gym_': [u'gym_in_building'],\n",
       "             u'hard': [u'hardwood_floors', u'hardwood'],\n",
       "             u'heal': [u'health_club'],\n",
       "             u'hice': [u'high_ceiling', u'high_ceilings'],\n",
       "             u'hiri': [u'highrise', u'hi_rise'],\n",
       "             u'hisp': [u'high_speed_internet'],\n",
       "             u'hous': [u'housekeeping_service'],\n",
       "             u'in_u': [u'in_unit_washer/dryer'],\n",
       "             u'indo': [u'indoor_pool'],\n",
       "             u'inte': [u'intercom'],\n",
       "             u'jacu': [u'jacuzzi'],\n",
       "             u'larg': [u'large_living_room'],\n",
       "             u'laun': [u'laundry_in_building',\n",
       "              u'laundry_in_unit',\n",
       "              u'laundry',\n",
       "              u'laundry_on_floor',\n",
       "              u'laundry_&_housekeeping',\n",
       "              u'laundry_room',\n",
       "              u'laundry_on_every_floor'],\n",
       "             u'ligh': [u'light'],\n",
       "             u'loft': [u'loft'],\n",
       "             u'loun': [u'lounge', u'lounge_room'],\n",
       "             u'lowr': [u'lowrise'],\n",
       "             u'luxu': [u'luxury_building'],\n",
       "             u'lv/w': [u'live/work'],\n",
       "             u'lv_i': [u'live_in_super', u'live_in_superintendent'],\n",
       "             u'magn': [u'magnificent_venetian_style'],\n",
       "             u'mail': [u'mail_room'],\n",
       "             u'marb': [u'marble_bath', u'marble_bathroom'],\n",
       "             u'medi': [u'media_room'],\n",
       "             u'micr': [u'microwave'],\n",
       "             u'midr': [u'midrise'],\n",
       "             u'mult': [u'multi_level'],\n",
       "             u'new_': [u'new_construction',\n",
       "              u'newly_renovated',\n",
       "              u'new_renovation'],\n",
       "             u'no_f': [u'no_fee'],\n",
       "             u'no_p': [u'no_pets'],\n",
       "             u'od_a': [u'outdoor_areas'],\n",
       "             u'od_e': [u'outdoor_entertainment_space'],\n",
       "             u'od_p': [u'outdoor_pool'],\n",
       "             u'od_r': [u'outdoor_roof_deck_overlooking_new_york_harbor_and_battery_park'],\n",
       "             u'od_s': [u'outdoor_space'],\n",
       "             u'one_': [u'one_month_free'],\n",
       "             u'os_a': [u'on_site_attended_garage', u'on_site_atm_machine'],\n",
       "             u'os_g': [u'on_site_garage'],\n",
       "             u'os_l': [u'on_site_lifestyle_concierge_by_luxury_attach\\xe9',\n",
       "              u'on_site_laundry'],\n",
       "             u'os_p': [u'on_site_parking',\n",
       "              u'on_site_parking_available',\n",
       "              u'on_site_parking_lot'],\n",
       "             u'os_s': [u'on_site_super'],\n",
       "             u'pack': [u'package_room'],\n",
       "             u'park': [u'parking',\n",
       "              u'parking_available',\n",
       "              u'parking_space',\n",
       "              u'park_view'],\n",
       "             u'part': [u'part_time_doorman', u'party_room'],\n",
       "             u'pati': [u'patio'],\n",
       "             u'pent': [u'penthouse'],\n",
       "             u'pet_': [u'pet_friendly'],\n",
       "             u'pets': [u'pets_on_approval', u'pets', u'pets_allowed'],\n",
       "             u'play': [u'playroom', u'playroom/nursery'],\n",
       "             u'pool': [u'pool'],\n",
       "             u'post': [u'post_war'],\n",
       "             u'prew': [u'prewar', u'pre_war'],\n",
       "             u'publ': [u'publicoutdoor'],\n",
       "             u'pv_b': [u'private_balcony', u'private_backyard'],\n",
       "             u'pv_d': [u'private_deck'],\n",
       "             u'pv_g': [u'private_garden'],\n",
       "             u'pv_l': [u'private_laundry_room_on_every_floor'],\n",
       "             u'pv_o': [u'private_outdoor_space'],\n",
       "             u'pv_p': [u'private_parking'],\n",
       "             u'pv_r': [u'private_roofdeck', u'private_roof_deck'],\n",
       "             u'pv_t': [u'private_terrace'],\n",
       "             u'quee': [u'queen_sized_rooms', u'queen_size_bedrooms'],\n",
       "             u'redu': [u'reduced_fee'],\n",
       "             u'reno': [u'renovated_kitchen', u'renovated'],\n",
       "             u'roof': [u'roof_deck',\n",
       "              u'roof_access',\n",
       "              u'rooftop_terrace',\n",
       "              u'roofdeck',\n",
       "              u'rooftop_deck'],\n",
       "             u'rs_g': [u'residents_garden'],\n",
       "             u'rs_l': [u'residents_lounge'],\n",
       "             u's/s_': [u's/s_appliances'],\n",
       "             u'saun': [u'sauna'],\n",
       "             u'scre': [u'screening_room'],\n",
       "             u'sepa': [u'separate_kitchen'],\n",
       "             u'shd_': [u'shared_garden', u'shared_backyard'],\n",
       "             u'shor': [u'short_term_allowed'],\n",
       "             u'shs_': [u'shares_ok'],\n",
       "             u'simp': [u'simplex'],\n",
       "             u'skyl': [u'skylight_atrium', u'skylight'],\n",
       "             u'sout': [u'southern_exposure'],\n",
       "             u'spa_': [u'spa_services'],\n",
       "             u'spac': [u'spacious'],\n",
       "             u'ss_a': [u'ss_appliances'],\n",
       "             u'stai': [u'stainless_steel', u'stainless_steel_appliances'],\n",
       "             u'stat': [u'state_of_the_art_fitness_center'],\n",
       "             u'stor': [u'storage_facilities_available',\n",
       "              u'storage_available',\n",
       "              u'storage_space',\n",
       "              u'storage',\n",
       "              u'storage_room'],\n",
       "             u'subl': [u'sublet'],\n",
       "             u'subw': [u'subway'],\n",
       "             u'sund': [u'sundeck'],\n",
       "             u'swim': [u'swimming_pool'],\n",
       "             u'tena': [u'tenant_lounge'],\n",
       "             u'terr': [u'terraces_/_balconies', u'terrace'],\n",
       "             u'tons': [u'tons_of_natural_light'],\n",
       "             u'twen': [u'twenty_four_hour_concierge_and_doorman'],\n",
       "             u'util': [u'utilities_included'],\n",
       "             u'vale': [u'valet',\n",
       "              u'valet_service',\n",
       "              u'valet_parking',\n",
       "              u'valet_services',\n",
       "              u'valet_services_including_dry_cleaning'],\n",
       "             u'vide': [u'video_intercom'],\n",
       "             u'view': [u'view'],\n",
       "             u'virt': [u'virtual_doorman', u'virtual_tour'],\n",
       "             u'walk': [u'walk_in_closet(s)', u'walk_in_closet', u'walk_up'],\n",
       "             u'wash': [u'washer/dryer_hookup',\n",
       "              u'washer_&_dryer',\n",
       "              u'washer/dryer',\n",
       "              u'washer/dryer_in_unit',\n",
       "              u'washer_in_unit',\n",
       "              u'washer/dryer_in_building'],\n",
       "             u'whee': [u'wheelchair_access', u'wheelchair_ramp'],\n",
       "             u'wifi': [u'wifi_access', u'wifi'],\n",
       "             u'wood': [u'wood_burning_fireplace'],\n",
       "             u'yoga': [u'yoga_classes']})"
      ]
     },
     "execution_count": 8,
     "metadata": {},
     "output_type": "execute_result"
    }
   ],
   "source": [
    "key2original"
   ]
  }
 ],
 "metadata": {
  "anaconda-cloud": {},
  "kernelspec": {
   "display_name": "Python [Root]",
   "language": "python",
   "name": "Python [Root]"
  },
  "language_info": {
   "codemirror_mode": {
    "name": "ipython",
    "version": 2
   },
   "file_extension": ".py",
   "mimetype": "text/x-python",
   "name": "python",
   "nbconvert_exporter": "python",
   "pygments_lexer": "ipython2",
   "version": "2.7.12"
  }
 },
 "nbformat": 4,
 "nbformat_minor": 0
}
