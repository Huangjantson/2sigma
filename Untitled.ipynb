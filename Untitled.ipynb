{
 "cells": [
  {
   "cell_type": "code",
   "execution_count": 1,
   "metadata": {
    "collapsed": true
   },
   "outputs": [],
   "source": [
    "import numpy as np\n",
    "import pandas as pd\n",
    "import xgboost as xgb\n",
    "from sklearn import  preprocessing, ensemble\n",
    "from sklearn.metrics import log_loss,accuracy_score\n",
    "from sklearn.cross_validation import KFold\n",
    "import re\n",
    "import string\n",
    "from collections import defaultdict, Counter"
   ]
  },
  {
   "cell_type": "code",
   "execution_count": 2,
   "metadata": {
    "collapsed": false
   },
   "outputs": [
    {
     "name": "stdout",
     "output_type": "stream",
     "text": [
      "(49352, 15)\n",
      "(74659, 14)\n"
     ]
    }
   ],
   "source": [
    "#lodaing data\n",
    "data_path = \"../../kaggleData/2sigma/\"\n",
    "train_file = data_path + \"train.json\"\n",
    "test_file = data_path + \"test.json\"\n",
    "train_df = pd.read_json(train_file)\n",
    "test_df = pd.read_json(test_file)\n",
    "print(train_df.shape)\n",
    "print(test_df.shape)"
   ]
  },
  {
   "cell_type": "code",
   "execution_count": 3,
   "metadata": {
    "collapsed": true
   },
   "outputs": [],
   "source": [
    "#rank the top ones\n",
    "#tht top ones are\n",
    "#3,3~10,10~20,others"
   ]
  },
  {
   "cell_type": "code",
   "execution_count": 4,
   "metadata": {
    "collapsed": true
   },
   "outputs": [],
   "source": [
    "temp=pd.concat([train_df.manager_id,pd.get_dummies(train_df.interest_level)], axis = 1).groupby('manager_id').mean()"
   ]
  },
  {
   "cell_type": "code",
   "execution_count": 13,
   "metadata": {
    "collapsed": false
   },
   "outputs": [
    {
     "data": {
      "text/plain": [
       "manager_id\n",
       "0000abd7518b94c35a90d64b56fbf3e6    0.0\n",
       "9b99cc4439f063907ec570ab54e3307b    0.0\n",
       "9bbde1b1975fc748b08ad0b7527d1596    0.0\n",
       "9bd1f0c0b2e0922028be387700f8fac2    0.0\n",
       "9bd2f3e32c7933d6da98f750d4b5610e    0.0\n",
       "9bd3512f08976867badf5e35943ebabf    0.0\n",
       "9bd3e7aac3b57ef593758d2091c63dc2    0.0\n",
       "9c0281b152e7fb7f4fb1988afc24bbc2    0.0\n",
       "9c1492df173d774377debcab1bbfc132    0.0\n",
       "9b70dd5bc2a63633cb4a06bc02ec37bd    0.0\n",
       "9c5aaea364eede31d2ee2f388ac0cc23    0.0\n",
       "9c665944ffc83a16169166fa1ac50802    0.0\n",
       "9c829c066e573179f7908fddc7b9439a    0.0\n",
       "9c9516dabd588379be8d23c2bca9bd71    0.0\n",
       "9ca6f3baa475c37a3b3521a394d65467    0.0\n",
       "9cad34703688b96ae7f45f720abe8da8    0.0\n",
       "9cb1d7ed67da245c18eb1c6d8a725e14    0.0\n",
       "9ce6710437d64a10cbd520108a56a421    0.0\n",
       "9cee949b9ac057ebe8b66b9e76d16a2c    0.0\n",
       "9c5eab31118b8b7a886bdeab37011b7e    0.0\n",
       "9b35dd96ecdc8ff3cf66c73744873dcf    0.0\n",
       "9b27481c366007fb8c126fdf2d609ab9    0.0\n",
       "9ab3ec6493d605fa0effea43b1141f6f    0.0\n",
       "984d05fbcef143bdc339564dd5eb8798    0.0\n",
       "98c9deb6b15173b5f2833dd0831c8655    0.0\n",
       "98ca2a4bbf7540f5d7e2b58e7b415571    0.0\n",
       "98cc4a52375e7873e94db692c1d87c54    0.0\n",
       "98d810f4d0861becbe4cf779a25e003f    0.0\n",
       "98e13ad4b495b9613cef886d79a6291f    0.0\n",
       "98f7ac89c9e949c594ae29c340fec282    0.0\n",
       "                                   ... \n",
       "fad6fb5fbf132d012fdd40b0328af5b9    1.0\n",
       "2aedc907f527eb340758eabc7b02c6a8    1.0\n",
       "c0703a8cbd698622c547b598b6a29bd0    1.0\n",
       "b0a70790c83113c9af9b31137f9e1c9c    1.0\n",
       "99fcb369d60805249c7e6c6f2875896f    1.0\n",
       "65056cd59c47f5e9f7a607119d056994    1.0\n",
       "8690a22d699669e633d24a53074b4d61    1.0\n",
       "73b1431422d38862135221e4f30c4a7e    1.0\n",
       "afbd2e11e672d543262b2cdad30bc027    1.0\n",
       "9cb28228fee3590c731ed33792a1172d    1.0\n",
       "d6f4cb74fc4f97e8788f1de1bc30f10c    1.0\n",
       "c1a5510ddb2435c309a2d1b9c43e553c    1.0\n",
       "8453674723ba9ce1964adeb77939ac36    1.0\n",
       "7579544349c802bae3e98e4bd71ca843    1.0\n",
       "29032b2643399f2386918012c53daf8f    1.0\n",
       "ad7e198be41dbe687f2e554a26b77895    1.0\n",
       "1b61a7a16c4a207a0ff715c8a1529072    1.0\n",
       "f7f6aa2bea667b91bd9d8fae047b3b1f    1.0\n",
       "1badf2eefe8228387979149413ec071b    1.0\n",
       "ea4b1bba8875667aa7d070eacc935b43    1.0\n",
       "3969aa2ff2f266ea82a886e0c084abc7    1.0\n",
       "0e32ae6cacb8b22e2ec2c3a4fb80684c    1.0\n",
       "76df2401721e5c5937e05a0e70fcd69b    1.0\n",
       "c45a1b6465e11dc19f72a2f05214f40c    1.0\n",
       "76fe20391bad66c966ef87400207a37c    1.0\n",
       "9e7e416389fe87a63a735f40cfdcb0d8    1.0\n",
       "43fa55a6cdd340cbee3463b90b9d6d34    1.0\n",
       "279bbb4a1bfd0278564fa6421b79a9b3    1.0\n",
       "2b2b1e787f5b6abcf40ad375bd2ad996    1.0\n",
       "29797f55fd5c05251fbd0f48a950fa28    1.0\n",
       "Name: high, dtype: float64"
      ]
     },
     "execution_count": 13,
     "metadata": {},
     "output_type": "execute_result"
    }
   ],
   "source": []
  }
 ],
 "metadata": {
  "anaconda-cloud": {},
  "kernelspec": {
   "display_name": "Python 2",
   "language": "python",
   "name": "python2"
  },
  "language_info": {
   "codemirror_mode": {
    "name": "ipython",
    "version": 2
   },
   "file_extension": ".py",
   "mimetype": "text/x-python",
   "name": "python",
   "nbconvert_exporter": "python",
   "pygments_lexer": "ipython2",
   "version": "2.7.13"
  }
 },
 "nbformat": 4,
 "nbformat_minor": 0
}
