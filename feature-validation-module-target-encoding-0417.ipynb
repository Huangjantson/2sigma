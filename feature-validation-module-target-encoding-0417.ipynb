{
 "cells": [
  {
   "cell_type": "code",
   "execution_count": 1,
   "metadata": {
    "collapsed": false
   },
   "outputs": [
    {
     "name": "stderr",
     "output_type": "stream",
     "text": [
      "/opt/anaconda2/lib/python2.7/site-packages/sklearn/cross_validation.py:44: DeprecationWarning: This module was deprecated in version 0.18 in favor of the model_selection module into which all the refactored classes and functions are moved. Also note that the interface of the new CV iterators are different from that of this module. This module will be removed in 0.20.\n",
      "  \"This module will be removed in 0.20.\", DeprecationWarning)\n"
     ]
    }
   ],
   "source": [
    "import numpy as np\n",
    "import pandas as pd\n",
    "import xgboost as xgb\n",
    "from sklearn import  preprocessing, ensemble\n",
    "from sklearn.metrics import log_loss\n",
    "from sklearn.cross_validation import KFold,StratifiedKFold\n",
    "import matplotlib.pyplot as plt\n",
    "from mochi import *"
   ]
  },
  {
   "cell_type": "code",
   "execution_count": 24,
   "metadata": {
    "collapsed": true
   },
   "outputs": [],
   "source": [
    "from bs4 import BeautifulSoup\n",
    "import string"
   ]
  },
  {
   "cell_type": "code",
   "execution_count": 2,
   "metadata": {
    "collapsed": false
   },
   "outputs": [
    {
     "name": "stdout",
     "output_type": "stream",
     "text": [
      "(49352, 15)\n",
      "(74659, 14)\n"
     ]
    }
   ],
   "source": [
    "#lodaing data\n",
    "data_path = \"../../kaggleData/2sigma/\"\n",
    "train_file = data_path + \"train.json\"\n",
    "test_file = data_path + \"test.json\"\n",
    "train_df = pd.read_json(train_file)\n",
    "test_df = pd.read_json(test_file)\n",
    "print(train_df.shape)\n",
    "print(test_df.shape)\n"
   ]
  },
  {
   "cell_type": "code",
   "execution_count": 3,
   "metadata": {
    "collapsed": false
   },
   "outputs": [],
   "source": [
    "#try xgboost\n",
    "#fucntion from SRK\n",
    "def runXGB(train_X, train_y, test_X, test_y=None, feature_names=None, \\\n",
    "     seed_val=0, early_stop = 20,num_rounds=10000, eta = 0.1,\\\n",
    "     max_depth = 6,cv_dict = None,verbose_eval=True):\n",
    "    param = {}\n",
    "    param['objective'] = 'multi:softprob'\n",
    "    param['eta'] = eta\n",
    "    param['max_depth'] = max_depth\n",
    "    param['silent'] = 1\n",
    "    param['num_class'] = 3\n",
    "    param['eval_metric'] = \"mlogloss\"\n",
    "    param['min_child_weight'] = 1\n",
    "    param['subsample'] = 0.7\n",
    "    param['colsample_bytree'] = 0.7\n",
    "    param['seed'] = seed_val\n",
    "    num_rounds = num_rounds\n",
    "\n",
    "    plst = list(param.items())\n",
    "    xgtrain = xgb.DMatrix(train_X, label=train_y,feature_names=feature_names)\n",
    "\n",
    "    if test_y is not None:\n",
    "        xgtest = xgb.DMatrix(test_X, label=test_y,feature_names=feature_names)\n",
    "        watchlist = [ (xgtrain,'train'), (xgtest, 'test') ]\n",
    "        model = xgb.train(plst, xgtrain, num_rounds, watchlist,\\\n",
    "        early_stopping_rounds=early_stop,evals_result = cv_dict,verbose_eval = verbose_eval)\n",
    "    else:\n",
    "        xgtest = xgb.DMatrix(test_X,feature_names=feature_names)\n",
    "        model = xgb.train(plst, xgtrain, num_rounds)\n",
    "\n",
    "    pred_test_y = model.predict(xgtest)\n",
    "    return pred_test_y, model"
   ]
  },
  {
   "cell_type": "code",
   "execution_count": 22,
   "metadata": {
    "collapsed": true
   },
   "outputs": [],
   "source": [
    "def stripTagsAndUris(x):\n",
    "    uri_re = r'(?i)\\b((?:https?://|www\\d{0,3}[.]|[a-z0-9.\\-]+[.][a-z]{2,4}/)(?:[^\\s()<>]+|\\(([^\\s()<>]+|(\\([^\\s()<>]+\\)))*\\))+(?:\\(([^\\s()<>]+|(\\([^\\s()<>]+\\)))*\\)|[^\\s`!()\\[\\]{};:\\'\".,<>???“”‘’]))'\n",
    "    if x:\n",
    "        # BeautifulSoup on content\n",
    "        soup = BeautifulSoup(x, \"html.parser\")\n",
    "        # Stripping all <code> tags with their content if any\n",
    "        if soup.code:\n",
    "            soup.code.decompose()\n",
    "        # Get all the text out of the html\n",
    "        text =  soup.get_text()\n",
    "        # Returning text stripping out all uris\n",
    "        return re.sub(uri_re, \"\", text)\n",
    "    else:\n",
    "        return \"\"\n",
    "    \n",
    "    #define punctutaion filter\n",
    "def removePunctuationAndNumber(x):\n",
    "    x = re.sub(r'[^\\x00-\\x7f]',r' ',x)\n",
    "    removing = string.punctuation\n",
    "    removed = re.sub(\"[\"+removing+\"]\", \" \", x)\n",
    "    removed = re.sub(r\"\\d\",'',removed)\n",
    "    return removed\n",
    "\n",
    "def getUpperTokens(tokenList):\n",
    "    number = 0\n",
    "    for word in tokenList:\n",
    "        if re.match('[A-Z]{2,}',word)!=None:\n",
    "            number+=1\n",
    "    if len(tokenList) > 0:\n",
    "        return number*1.0/len(tokenList)\n",
    "    else:\n",
    "        return -1"
   ]
  },
  {
   "cell_type": "code",
   "execution_count": 4,
   "metadata": {
    "collapsed": true
   },
   "outputs": [],
   "source": [
    "def temporalHouseTypePerf(train_df,test_df,update_df =None):\n",
    "    temp=pd.concat([train_df,pd.get_dummies(train_df.interest_level)], axis = 1)\n",
    "    tempTrain = temp[['house_type','dayofyear','high','low','medium']].set_index('house_type')\n",
    "    tempTest = test_df[['house_type','dayofyear']]\n",
    "    tempJoin = tempTest.join(tempTrain,on='house_type',how='left', rsuffix='_toSum')\n",
    "    \n",
    "    #3 day performance\n",
    "    performance_3 = tempJoin[tempJoin['dayofyear'] - tempJoin['dayofyear_toSum']<4]\n",
    "    performance_3 = performance_3.groupby(performance_3.index).sum()[['high','low','medium']]\n",
    "    performance_3['total'] = performance_3['high']+performance_3['low']+performance_3['medium']\n",
    "    performance_3['ht3perf'] = (2*performance_3['high']+performance_3['medium'])*1.0/performance_3['total']\n",
    "\n",
    "    \n",
    "    performance_7 = tempJoin[tempJoin['dayofyear'] - tempJoin['dayofyear_toSum']<8]\n",
    "    performance_7 = performance_7.groupby(performance_7.index).sum()[['high','low','medium']]\n",
    "    performance_7['total'] = performance_7['high']+performance_7['low']+performance_7['medium']\n",
    "    performance_7['ht7perf'] = (2*performance_7['high']+performance_7['medium'])*1.0/performance_7['total']\n",
    "    \n",
    "    performance_14 = tempJoin[tempJoin['dayofyear'] - tempJoin['dayofyear_toSum']<15]\n",
    "    performance_14 = performance_14.groupby(performance_14.index).sum()[['high','low','medium']]\n",
    "    performance_14['total'] = performance_14['high']+performance_14['low']+performance_14['medium']\n",
    "    performance_14['ht14perf'] = (2*performance_14['high']+performance_14['medium'])*1.0/performance_14['total']\n",
    "\n",
    "    \n",
    "    performance_30 = tempJoin[tempJoin['dayofyear'] - tempJoin['dayofyear_toSum']<31]\n",
    "    performance_30 = performance_30.groupby(performance_30.index).sum()[['high','low','medium']]\n",
    "    performance_30['total'] = performance_30['high']+performance_30['low']+performance_30['medium']\n",
    "    performance_30['ht30perf'] = (2*performance_30['high']+performance_30['medium'])*1.0/performance_30['total']\n",
    "\n",
    "    update = pd.concat([performance_3[['ht3perf']],performance_7[['ht7perf']],\\\n",
    "                        performance_14[['ht14perf']],performance_30[['ht30perf']]],axis=1).fillna(-1)\n",
    "\n",
    "    if update_df is None: update_df = test_df\n",
    "    \n",
    "    new_features = ['ht3perf','ht7perf','ht14perf','ht30perf']\n",
    "    \n",
    "    for f in new_features:\n",
    "        if f not in update_df.columns: \n",
    "             update_df[f] = np.nan\n",
    "    \n",
    "    update_df.update(update)"
   ]
  },
  {
   "cell_type": "code",
   "execution_count": 5,
   "metadata": {
    "collapsed": true
   },
   "outputs": [],
   "source": [
    "#basic numerical features\n",
    "features_to_use  = [\"bathrooms\", \"bedrooms\", \"latitude\", \"longitude\", \"price\"]"
   ]
  },
  {
   "cell_type": "code",
   "execution_count": 6,
   "metadata": {
    "collapsed": false
   },
   "outputs": [],
   "source": [
    "#some transfromed features\n",
    "# count of photos #\n",
    "train_df[\"num_photos\"] = train_df[\"photos\"].apply(len)\n",
    "\n",
    "# count of \"features\" #\n",
    "train_df[\"num_features\"] = train_df[\"features\"].apply(len)\n",
    "\n",
    "# count of words present in description column #\n",
    "train_df[\"num_description_words\"] = train_df[\"description\"].apply(lambda x: len(x.split(\" \")))\n",
    "\n",
    "# convert the created column to datetime object so as to extract more features \n",
    "train_df[\"created\"] = pd.to_datetime(train_df[\"created\"])\n",
    "\n",
    "# Let us extract some features like year, month, day, hour from date columns #\n",
    "train_df[\"created_year\"] = train_df[\"created\"].dt.year\n",
    "train_df[\"created_month\"] = train_df[\"created\"].dt.month\n",
    "train_df[\"created_day\"] = train_df[\"created\"].dt.day\n",
    "train_df[\"created_hour\"] = train_df[\"created\"].dt.hour\n",
    "\n",
    "#some new numerical features related to the price\n",
    "train_df[\"price_per_bath\"] =  (train_df[\"price\"]*1.0/train_df[\"bathrooms\"]).replace(np.Inf,-1)\n",
    "train_df[\"price_per_bed\"] = (train_df[\"price\"]*1.0/train_df[\"bedrooms\"]).replace(np.Inf,-1)\n",
    "train_df[\"bath_per_bed\"] = (train_df[\"bathrooms\"]*1.0/train_df[\"bedrooms\"]).replace(np.Inf,-1)\n",
    "train_df[\"price_per_room\"] = (train_df[\"price\"]*1.0/(train_df[\"bedrooms\"]+train_df[\"bathrooms\"])).replace(np.Inf,-1)\n",
    "\n",
    "# adding all these new features to use list # \"listing_id\",\n",
    "features_to_use.extend([\"num_photos\", \"num_features\", \"num_description_words\",\\\n",
    "                        \"created_year\",\"listing_id\", \"created_month\", \"created_day\", \"created_hour\"])\n",
    "#price new features\n",
    "features_to_use.extend([\"price_per_bed\",\"bath_per_bed\",\"price_per_room\"])\n"
   ]
  },
  {
   "cell_type": "code",
   "execution_count": 25,
   "metadata": {
    "collapsed": false
   },
   "outputs": [
    {
     "name": "stderr",
     "output_type": "stream",
     "text": [
      "/opt/anaconda2/lib/python2.7/site-packages/bs4/__init__.py:219: UserWarning: \".\" looks like a filename, not markup. You shouldprobably open this file and pass the filehandle intoBeautiful Soup.\n",
      "  'Beautiful Soup.' % markup)\n"
     ]
    }
   ],
   "source": [
    "train_df['upperTokenRate']=train_df['description']\\\n",
    "       .apply(stripTagsAndUris)\\\n",
    "       .apply(removePunctuationAndNumber)\\\n",
    "       .apply(lambda x : x.split() if x is not None else [])\\\n",
    "       .apply(getUpperTokens)"
   ]
  },
  {
   "cell_type": "code",
   "execution_count": 7,
   "metadata": {
    "collapsed": true
   },
   "outputs": [],
   "source": [
    "#for latter use\n",
    "train_df[\"dayofyear\"] = train_df[\"created\"].dt.dayofyear\n",
    "#test_df[\"dayofyear\"] = test_df[\"created\"].dt.dayofyear"
   ]
  },
  {
   "cell_type": "code",
   "execution_count": 8,
   "metadata": {
    "collapsed": true
   },
   "outputs": [],
   "source": [
    "#for latter use\n",
    "train_df['house_type']=map(lambda x,y:(x,y),train_df['bedrooms'],train_df['bathrooms'])\n",
    "train_df['house_type']=train_df['house_type'].apply(str)"
   ]
  },
  {
   "cell_type": "code",
   "execution_count": 27,
   "metadata": {
    "collapsed": false
   },
   "outputs": [],
   "source": [
    "features = list(features_to_use)\n",
    "categorical = [\"display_address\", \"street_address\",'building_id','manager_id','house_type']\n",
    "features.extend(categorical)\n",
    "features.extend(['manager_id_perf','manager_id_nrank'])\n",
    "features.extend(['cluster_id_10','cluster_id_30'])\n",
    "\n",
    "features.extend(['house_type_perf','house_type_size'])\n",
    "#features.extend(['cluster_id_30_perf'])#,'cluster_id_30'])\n",
    "#features.append('upperTokenRate')"
   ]
  },
  {
   "cell_type": "code",
   "execution_count": 10,
   "metadata": {
    "collapsed": false
   },
   "outputs": [],
   "source": [
    "#prepare for training\n",
    "target_num_map = {'high':0, 'medium':1, 'low':2}\n",
    "\n",
    "train_y = np.array(train_df['interest_level'].apply(lambda x: target_num_map[x]))\n",
    "\n",
    "KF=KFold(len(train_df),5,shuffle=True,random_state = 42)"
   ]
  },
  {
   "cell_type": "code",
   "execution_count": 54,
   "metadata": {
    "collapsed": false,
    "scrolled": true
   },
   "outputs": [
    {
     "name": "stderr",
     "output_type": "stream",
     "text": [
      "/opt/anaconda2/lib/python2.7/site-packages/ipykernel/__main__.py:40: SettingWithCopyWarning: \n",
      "A value is trying to be set on a copy of a slice from a DataFrame.\n",
      "Try using .loc[row_indexer,col_indexer] = value instead\n",
      "\n",
      "See the caveats in the documentation: http://pandas.pydata.org/pandas-docs/stable/indexing.html#indexing-view-versus-copy\n",
      "/opt/anaconda2/lib/python2.7/site-packages/ipykernel/__main__.py:41: SettingWithCopyWarning: \n",
      "A value is trying to be set on a copy of a slice from a DataFrame.\n",
      "Try using .loc[row_indexer,col_indexer] = value instead\n",
      "\n",
      "See the caveats in the documentation: http://pandas.pydata.org/pandas-docs/stable/indexing.html#indexing-view-versus-copy\n"
     ]
    },
    {
     "name": "stdout",
     "output_type": "stream",
     "text": [
      "[0]\ttrain-mlogloss:1.0323\ttest-mlogloss:1.03351\n",
      "Multiple eval metrics have been passed: 'test-mlogloss' will be used for early stopping.\n",
      "\n",
      "Will train until test-mlogloss hasn't improved in 20 rounds.\n",
      "[100]\ttrain-mlogloss:0.4707\ttest-mlogloss:0.551377\n",
      "[200]\ttrain-mlogloss:0.400403\ttest-mlogloss:0.542457\n",
      "Stopping. Best iteration:\n",
      "[222]\ttrain-mlogloss:0.388508\ttest-mlogloss:0.541954\n",
      "\n",
      "loss for the turn 1 is 0.5438707966\n",
      "[0]\ttrain-mlogloss:1.03283\ttest-mlogloss:1.03423\n",
      "Multiple eval metrics have been passed: 'test-mlogloss' will be used for early stopping.\n",
      "\n",
      "Will train until test-mlogloss hasn't improved in 20 rounds.\n",
      "[100]\ttrain-mlogloss:0.469883\ttest-mlogloss:0.549173\n",
      "[200]\ttrain-mlogloss:0.399794\ttest-mlogloss:0.541183\n",
      "Stopping. Best iteration:\n",
      "[201]\ttrain-mlogloss:0.399337\ttest-mlogloss:0.54112\n",
      "\n",
      "loss for the turn 2 is 0.541572847557\n",
      "[0]\ttrain-mlogloss:1.03195\ttest-mlogloss:1.03312\n",
      "Multiple eval metrics have been passed: 'test-mlogloss' will be used for early stopping.\n",
      "\n",
      "Will train until test-mlogloss hasn't improved in 20 rounds.\n",
      "[100]\ttrain-mlogloss:0.470231\ttest-mlogloss:0.552581\n",
      "[200]\ttrain-mlogloss:0.400746\ttest-mlogloss:0.546072\n",
      "Stopping. Best iteration:\n",
      "[189]\ttrain-mlogloss:0.407568\ttest-mlogloss:0.545938\n",
      "\n",
      "loss for the turn 3 is 0.546240785073\n",
      "[0]\ttrain-mlogloss:1.03225\ttest-mlogloss:1.03276\n",
      "Multiple eval metrics have been passed: 'test-mlogloss' will be used for early stopping.\n",
      "\n",
      "Will train until test-mlogloss hasn't improved in 20 rounds.\n",
      "[100]\ttrain-mlogloss:0.472998\ttest-mlogloss:0.545092\n",
      "[200]\ttrain-mlogloss:0.40247\ttest-mlogloss:0.536813\n",
      "Stopping. Best iteration:\n",
      "[252]\ttrain-mlogloss:0.374182\ttest-mlogloss:0.535497\n",
      "\n",
      "loss for the turn 4 is 0.536197289136\n",
      "[0]\ttrain-mlogloss:1.03224\ttest-mlogloss:1.03319\n",
      "Multiple eval metrics have been passed: 'test-mlogloss' will be used for early stopping.\n",
      "\n",
      "Will train until test-mlogloss hasn't improved in 20 rounds.\n",
      "[100]\ttrain-mlogloss:0.46894\ttest-mlogloss:0.54876\n",
      "Stopping. Best iteration:\n",
      "[159]\ttrain-mlogloss:0.425096\ttest-mlogloss:0.544483\n",
      "\n",
      "loss for the turn 5 is 0.544702455798\n"
     ]
    }
   ],
   "source": [
    "#running and getting the cv from xgboost\n",
    "cv_scores = []\n",
    "cv_result = []\n",
    "\n",
    "#K-FOLD already defined.If not ,use\n",
    "#KF=KFold(len(train_X),5,shuffle=True,random_state = 42)\n",
    "i=0\n",
    "for dev_index, val_index in KF:\n",
    "        result_dict = {}\n",
    "                \n",
    "        #split the orginal train set into dev_set and val_set\n",
    "        dev_set, val_set = train_df.iloc[dev_index,:] , train_df.iloc[val_index,:] \n",
    "        \n",
    "        getCluster(dev_set,val_set,30)\n",
    "        getCluster(dev_set,val_set,10)\n",
    "        \n",
    "        \"\"\"some preprocessing like feature constructed in cv manners\"\"\"\n",
    "        skf=KFold(len(dev_set['interest_level']),5,shuffle=True,random_state = 42)\n",
    "        #dev set adding manager skill\n",
    "        for train,test in skf:\n",
    "            performance_eval(dev_set.iloc[train,:],dev_set.iloc[test,:],feature='manager_id',k=5,g=1,\n",
    "                           update_df = dev_set,smoothing=False)\n",
    "            performance_eval(dev_set.iloc[train,:],dev_set.iloc[test,:],feature='house_type',k=5,g=1,\n",
    "                           update_df = dev_set,smoothing=False)\n",
    "            #temporalHouseTypePerf(dev_set.iloc[train,:],dev_set.iloc[test,:],update_df = dev_set)\n",
    "            \n",
    "        performance_eval(dev_set,val_set,feature='manager_id',k=5,g=1,smoothing=False)\n",
    "        performance_eval(dev_set,val_set,feature='house_type',k=5,g=1,smoothing=False)\n",
    "\n",
    "        #temporalHouseTypePerf(dev_set,val_set)\n",
    "\n",
    "        categorical_size(dev_set,val_set,'house_type')\n",
    "\n",
    "        \n",
    "        for f in categorical:\n",
    "            if dev_set[f].dtype=='object':\n",
    "                #print(f)\n",
    "                lbl = preprocessing.LabelEncoder()\n",
    "                lbl.fit(list(dev_set[f])+list(val_set[f]))\n",
    "                dev_set[f] = lbl.transform(list(dev_set[f].values))\n",
    "                val_set[f] = lbl.transform(list(val_set[f].values))\n",
    "        \n",
    "        dev_X, val_X = dev_set[features].as_matrix(), val_set[features].as_matrix()\n",
    "        dev_y, val_y = train_y[dev_index], train_y[val_index]\n",
    "        \n",
    "        \"\"\" \n",
    "         runXGB(train_X, train_y, test_X, test_y=None, feature_names=None, \\\n",
    "         seed_val=0, early_stop = 20,num_rounds=10000, eta = 0.1,\\\n",
    "         max_depth = 6,cv_dict = None):\n",
    "         \"\"\"\n",
    "        \n",
    "        preds, model = runXGB(dev_X, dev_y, val_X, val_y,early_stop  = 20,\\\n",
    "                              feature_names = features,cv_dict = result_dict,verbose_eval=100)\n",
    "        loss = log_loss(val_y, preds)\n",
    "        cv_scores.append(loss)\n",
    "        cv_result.append(result_dict)\n",
    "        i+=1\n",
    "        print 'loss for the turn '+str(i)+' is '+str(loss)"
   ]
  },
  {
   "cell_type": "code",
   "execution_count": 12,
   "metadata": {
    "collapsed": false
   },
   "outputs": [
    {
     "data": {
      "text/plain": [
       "test0    251\n",
       "test1    268\n",
       "test2    279\n",
       "test3    194\n",
       "test4    246\n",
       "Name: 278, dtype: int32"
      ]
     },
     "execution_count": 12,
     "metadata": {},
     "output_type": "execute_result"
    }
   ],
   "source": [
    "#plot the validation curv\n",
    "cvResult = CVstatistics(cv_result,'mlogloss')\n",
    "cvResult.turns"
   ]
  },
  {
   "cell_type": "code",
   "execution_count": 55,
   "metadata": {
    "collapsed": false
   },
   "outputs": [
    {
     "data": {
      "text/plain": [
       "0.54251683483278379"
      ]
     },
     "execution_count": 55,
     "metadata": {},
     "output_type": "execute_result"
    }
   ],
   "source": [
    "#cvResult.validCurve(stop=False)\n",
    "#some errors at certain turn to see the descending\n",
    "cv_scores\n",
    "np.mean(cv_scores)"
   ]
  },
  {
   "cell_type": "code",
   "execution_count": 15,
   "metadata": {
    "collapsed": false
   },
   "outputs": [
    {
     "data": {
      "text/plain": [
       "[('manager_id_perf', 0.13829892482077635),\n",
       " ('price', 0.053304361342733746),\n",
       " ('price_per_room', 0.050377704449702986),\n",
       " ('house_type_size', 0.048583313984863694),\n",
       " ('building_id', 0.04268580069423074),\n",
       " ('house_type', 0.041612735409251096),\n",
       " ('cluster_id_10', 0.040954277731166465),\n",
       " ('price_per_bed', 0.04021341671754079),\n",
       " ('num_photos', 0.035928247156541256),\n",
       " ('bedrooms', 0.030435925232107794),\n",
       " ('num_features', 0.029816806730578273),\n",
       " ('cluster_id_30', 0.029245396807511558),\n",
       " ('created_hour', 0.029152874190672765),\n",
       " ('longitude', 0.02784068038529328),\n",
       " ('latitude', 0.02721104208045398),\n",
       " ('ht30perf', 0.026548345833297286),\n",
       " ('ht7perf', 0.026061418435669316),\n",
       " ('house_type_perf', 0.02532412381066304),\n",
       " ('ht14perf', 0.02407227032014022),\n",
       " ('ht3perf', 0.02371787205444692),\n",
       " ('manager_id_nrank', 0.02311757777221477),\n",
       " ('bathrooms', 0.022638193674499166),\n",
       " ('listing_id', 0.02193902420762428),\n",
       " ('num_description_words', 0.02185911801613789),\n",
       " ('street_address', 0.021534677491419758),\n",
       " ('display_address', 0.02133940868639373),\n",
       " ('bath_per_bed', 0.020565138141410633),\n",
       " ('manager_id', 0.02025477221734082),\n",
       " ('created_day', 0.01839301494544106),\n",
       " ('created_month', 0.016973536659876238)]"
      ]
     },
     "execution_count": 15,
     "metadata": {},
     "output_type": "execute_result"
    }
   ],
   "source": [
    "#show the importance of the features\n",
    "xgbImportance(model,'gain')"
   ]
  },
  {
   "cell_type": "code",
   "execution_count": 12,
   "metadata": {
    "collapsed": false
   },
   "outputs": [],
   "source": [
    "temp=pd.concat([dev_set[['house_type','house_type_perf']],pd.get_dummies(dev_set.interest_level)], axis = 1)\\\n",
    "     .groupby('house_type').mean()\n",
    "temp['count'] = dev_set.groupby('house_type').count().iloc[:,1]\n"
   ]
  },
  {
   "cell_type": "code",
   "execution_count": 13,
   "metadata": {
    "collapsed": false
   },
   "outputs": [
    {
     "name": "stderr",
     "output_type": "stream",
     "text": [
      "/opt/anaconda2/lib/python2.7/site-packages/ipykernel/__main__.py:1: UserWarning: Boolean Series key will be reindexed to match DataFrame index.\n",
      "  if __name__ == '__main__':\n"
     ]
    }
   ],
   "source": [
    "temp2 = temp.sort_values(by = 'house_type_perf')[temp['count']>5]"
   ]
  },
  {
   "cell_type": "code",
   "execution_count": 14,
   "metadata": {
    "collapsed": false
   },
   "outputs": [
    {
     "data": {
      "image/png": "[encoded data removed]",
      "text/plain": [
       "<matplotlib.figure.Figure at 0x7f67790a4350>"
      ]
     },
     "metadata": {},
     "output_type": "display_data"
    }
   ],
   "source": [
    "plt.plot(temp2['house_type_perf'],temp2['low'],\\\n",
    "        temp2['house_type_perf'],temp2['medium'],\\\n",
    "        temp2['house_type_perf'],temp2['high'])\n",
    "plt.show()"
   ]
  }
 ],
 "metadata": {
  "anaconda-cloud": {},
  "kernelspec": {
   "display_name": "Python [Root]",
   "language": "python",
   "name": "Python [Root]"
  },
  "language_info": {
   "codemirror_mode": {
    "name": "ipython",
    "version": 2
   },
   "file_extension": ".py",
   "mimetype": "text/x-python",
   "name": "python",
   "nbconvert_exporter": "python",
   "pygments_lexer": "ipython2",
   "version": "2.7.12"
  }
 },
 "nbformat": 4,
 "nbformat_minor": 0
}
