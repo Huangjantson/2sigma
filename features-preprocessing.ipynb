{
 "cells": [
  {
   "cell_type": "code",
   "execution_count": 1,
   "metadata": {
    "collapsed": true
   },
   "outputs": [],
   "source": [
    "import numpy as np # linear algebra\n",
    "import pandas as pd # data processing, CSV file I/O (e.g. pd.read_csv)\n",
    "from collections import defaultdict, Counter"
   ]
  },
  {
   "cell_type": "code",
   "execution_count": 2,
   "metadata": {
    "collapsed": true
   },
   "outputs": [],
   "source": [
    "data_path = '../../kaggleData/2sigma/'\n",
    "train_df = pd.read_json(data_path+\"train.json\")\n",
    "test_df = pd.read_json(data_path+\"test.json\")\n",
    "train_test = pd.concat([train_df, test_df], 0)"
   ]
  },
  {
   "cell_type": "code",
   "execution_count": 3,
   "metadata": {
    "collapsed": false
   },
   "outputs": [],
   "source": [
    "train_df[\"features\"] = train_df[\"features\"].apply(lambda x:[\"_\".join(i.split(\" \")).lower().strip().replace('-','_') \\\n",
    "                                                            for i in x])\n",
    "test_df[\"features\"] = test_df[\"features\"].apply(lambda x:[\"_\".join(i.split(\" \")).lower().strip().replace('-','_')\\\n",
    "                                                          for i in x])"
   ]
  },
  {
   "cell_type": "code",
   "execution_count": 26,
   "metadata": {
    "collapsed": false
   },
   "outputs": [],
   "source": [
    "#functions for features\n",
    "def featureList(train_df,test_df,limit = 0.0003):\n",
    "    #acquiring the feature lists\n",
    "    features_in_train = train_df[\"features\"].apply(pd.Series).unstack().reset_index(drop = True).dropna().value_counts()\n",
    "    features_in_train.sort(ascending  = False)\n",
    "    features_in_test = test_df[\"features\"].apply(pd.Series).unstack().reset_index(drop = True).dropna().value_counts()\n",
    "    features_in_test.sort(ascending  = False)\n",
    "    \n",
    "    filtered_features_in_train = features_in_train[features_in_train > limit*len(train_df)]\n",
    "    filtered_features_in_test = features_in_test[features_in_test > limit*len(test_df)]\n",
    "    accept_list = set(filtered_features_in_train.index).union(set(filtered_features_in_test.index))\n",
    "    return accept_list"
   ]
  },
  {
   "cell_type": "code",
   "execution_count": 27,
   "metadata": {
    "collapsed": false
   },
   "outputs": [
    {
     "name": "stderr",
     "output_type": "stream",
     "text": [
      "C:\\Users\\dell\\Anaconda2\\lib\\site-packages\\ipykernel\\__main__.py:5: FutureWarning: sort is deprecated, use sort_values(inplace=True) for INPLACE sorting\n",
      "C:\\Users\\dell\\Anaconda2\\lib\\site-packages\\ipykernel\\__main__.py:7: FutureWarning: sort is deprecated, use sort_values(inplace=True) for INPLACE sorting\n"
     ]
    }
   ],
   "source": [
    "features = featureList(train_df,test_df)"
   ]
  },
  {
   "cell_type": "code",
   "execution_count": 28,
   "metadata": {
    "collapsed": false
   },
   "outputs": [],
   "source": [
    "features = list(features)"
   ]
  },
  {
   "cell_type": "code",
   "execution_count": 29,
   "metadata": {
    "collapsed": false
   },
   "outputs": [],
   "source": [
    "features.sort()"
   ]
  },
  {
   "cell_type": "code",
   "execution_count": 30,
   "metadata": {
    "collapsed": false,
    "scrolled": true
   },
   "outputs": [
    {
     "data": {
      "text/plain": [
       "[u'actual_apt._photos',\n",
       " u'air_conditioning',\n",
       " u'assigned_parking_space',\n",
       " u'attended_lobby',\n",
       " u'backyard',\n",
       " u'balcony',\n",
       " u'basement_storage',\n",
       " u'bike_room',\n",
       " u'brownstone',\n",
       " u'building_common_outdoor_space',\n",
       " u'business_center',\n",
       " u'cable/satellite_tv',\n",
       " u'cats_allowed',\n",
       " u'central_a/c',\n",
       " u'central_ac',\n",
       " u\"children's_playroom\",\n",
       " u'childrens_playroom',\n",
       " u'common_backyard',\n",
       " u'common_garden',\n",
       " u'common_outdoor_space',\n",
       " u'common_parking/garage',\n",
       " u'common_roof_deck',\n",
       " u'common_terrace',\n",
       " u'concierge',\n",
       " u'concierge_service',\n",
       " u'courtyard',\n",
       " u'deck',\n",
       " u'decorative_fireplace',\n",
       " u'dining_room',\n",
       " u'dishwasher',\n",
       " u'dogs_allowed',\n",
       " u'doorman',\n",
       " u'dryer_in_unit',\n",
       " u'duplex',\n",
       " u'eat_in_kitchen',\n",
       " u'elevator',\n",
       " u'exclusive',\n",
       " u'exposed_brick',\n",
       " u'fireplace',\n",
       " u'fitness_center',\n",
       " u'flex_2',\n",
       " u'ft_doorman',\n",
       " u'full_service_garage',\n",
       " u'full_time_doorman',\n",
       " u'furnished',\n",
       " u'garage',\n",
       " u'garden',\n",
       " u'garden/patio',\n",
       " u'granite_kitchen',\n",
       " u'green_building',\n",
       " u'guarantors_accepted',\n",
       " u'gym',\n",
       " u'gym/fitness',\n",
       " u'gym_in_building',\n",
       " u'hardwood',\n",
       " u'hardwood_floors',\n",
       " u'health_club',\n",
       " u'hi_rise',\n",
       " u'high_ceiling',\n",
       " u'high_ceilings',\n",
       " u'high_speed_internet',\n",
       " u'highrise',\n",
       " u'in_unit_washer/dryer',\n",
       " u'indoor_pool',\n",
       " u'laundry',\n",
       " u'laundry_in_building',\n",
       " u'laundry_in_unit',\n",
       " u'laundry_room',\n",
       " u'light',\n",
       " u'live/work',\n",
       " u'live_in_super',\n",
       " u'live_in_superintendent',\n",
       " u'loft',\n",
       " u'lounge',\n",
       " u'lounge_room',\n",
       " u'lowrise',\n",
       " u'luxury_building',\n",
       " u'marble_bath',\n",
       " u'marble_bathroom',\n",
       " u'microwave',\n",
       " u'midrise',\n",
       " u'multi_level',\n",
       " u'new_construction',\n",
       " u'newly_renovated',\n",
       " u'no_fee',\n",
       " u'no_pets',\n",
       " u'on_site_garage',\n",
       " u'on_site_laundry',\n",
       " u'on_site_parking',\n",
       " u'on_site_parking_available',\n",
       " u'on_site_parking_lot',\n",
       " u'on_site_super',\n",
       " u'outdoor_areas',\n",
       " u'outdoor_entertainment_space',\n",
       " u'outdoor_space',\n",
       " u'parking',\n",
       " u'parking_space',\n",
       " u'patio',\n",
       " u'pet_friendly',\n",
       " u'pets_allowed',\n",
       " u'pets_on_approval',\n",
       " u'pool',\n",
       " u'post_war',\n",
       " u'pre_war',\n",
       " u'prewar',\n",
       " u'private_backyard',\n",
       " u'private_balcony',\n",
       " u'private_outdoor_space',\n",
       " u'private_parking',\n",
       " u'private_terrace',\n",
       " u'publicoutdoor',\n",
       " u'reduced_fee',\n",
       " u'renovated',\n",
       " u'residents_garden',\n",
       " u'residents_lounge',\n",
       " u'roof_deck',\n",
       " u'roofdeck',\n",
       " u'rooftop_terrace',\n",
       " u'sauna',\n",
       " u'shares_ok',\n",
       " u'short_term_allowed',\n",
       " u'simplex',\n",
       " u'skylight',\n",
       " u'stainless_steel_appliances',\n",
       " u'storage',\n",
       " u'storage_room',\n",
       " u'sublet',\n",
       " u'subway',\n",
       " u'swimming_pool',\n",
       " u'terrace',\n",
       " u'valet',\n",
       " u'valet_parking',\n",
       " u'video_intercom',\n",
       " u'view',\n",
       " u'virtual_doorman',\n",
       " u'walk_in_closet',\n",
       " u'walk_in_closet(s)',\n",
       " u'washer/dryer',\n",
       " u'washer/dryer_in_building',\n",
       " u'washer/dryer_in_unit',\n",
       " u'washer_&_dryer',\n",
       " u'washer_in_unit',\n",
       " u'wheelchair_access',\n",
       " u'wheelchair_ramp',\n",
       " u'wifi_access']"
      ]
     },
     "execution_count": 30,
     "metadata": {},
     "output_type": "execute_result"
    }
   ],
   "source": [
    "features"
   ]
  },
  {
   "cell_type": "code",
   "execution_count": 31,
   "metadata": {
    "collapsed": false
   },
   "outputs": [
    {
     "data": {
      "text/plain": [
       "145"
      ]
     },
     "execution_count": 31,
     "metadata": {},
     "output_type": "execute_result"
    }
   ],
   "source": [
    "len(features)"
   ]
  }
 ],
 "metadata": {
  "anaconda-cloud": {},
  "kernelspec": {
   "display_name": "Python [Root]",
   "language": "python",
   "name": "Python [Root]"
  },
  "language_info": {
   "codemirror_mode": {
    "name": "ipython",
    "version": 2
   },
   "file_extension": ".py",
   "mimetype": "text/x-python",
   "name": "python",
   "nbconvert_exporter": "python",
   "pygments_lexer": "ipython2",
   "version": "2.7.12"
  }
 },
 "nbformat": 4,
 "nbformat_minor": 0
}
