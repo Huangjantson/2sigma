{
 "cells": [
  {
   "cell_type": "code",
   "execution_count": 1,
   "metadata": {
    "collapsed": false
   },
   "outputs": [],
   "source": [
    "import numpy as np\n",
    "import pandas as pd\n",
    "import xgboost as xgb\n",
    "from sklearn import  preprocessing, ensemble\n",
    "from sklearn.metrics import log_loss\n",
    "from sklearn.cross_validation import KFold,StratifiedKFold\n",
    "import matplotlib.pyplot as plt"
   ]
  },
  {
   "cell_type": "code",
   "execution_count": 2,
   "metadata": {
    "collapsed": false
   },
   "outputs": [],
   "source": [
    "#try xgboost\n",
    "#fucntion from SRK\n",
    "def runXGB(train_X, train_y, test_X, test_y=None, feature_names=None, \\\n",
    "     seed_val=0, early_stop = 20,num_rounds=10000, eta = 0.1,\\\n",
    "     max_depth = 6,cv_dict = None,verbose_eval=True):\n",
    "    param = {}\n",
    "    param['objective'] = 'multi:softprob'\n",
    "    param['eta'] = eta\n",
    "    param['max_depth'] = max_depth\n",
    "    param['silent'] = 1\n",
    "    param['num_class'] = 3\n",
    "    param['eval_metric'] = \"mlogloss\"\n",
    "    param['min_child_weight'] = 1\n",
    "    param['subsample'] = 0.7\n",
    "    param['colsample_bytree'] = 0.7\n",
    "    param['seed'] = seed_val\n",
    "    num_rounds = num_rounds\n",
    "\n",
    "    plst = list(param.items())\n",
    "    xgtrain = xgb.DMatrix(train_X, label=train_y,feature_names=feature_names)\n",
    "\n",
    "    if test_y is not None:\n",
    "        xgtest = xgb.DMatrix(test_X, label=test_y,feature_names=feature_names)\n",
    "        watchlist = [ (xgtrain,'train'), (xgtest, 'test') ]\n",
    "        model = xgb.train(plst, xgtrain, num_rounds, watchlist,\\\n",
    "        early_stopping_rounds=early_stop,evals_result = cv_dict,verbose_eval = verbose_eval)\n",
    "    else:\n",
    "        xgtest = xgb.DMatrix(test_X,feature_names=feature_names)\n",
    "        model = xgb.train(plst, xgtrain, num_rounds)\n",
    "\n",
    "    pred_test_y = model.predict(xgtest)\n",
    "    return pred_test_y, model\n",
    "\n",
    "class CVstatistics(object):\n",
    "    \n",
    "    \"\"\"\n",
    "    self.result : the result dataframe storing the cv results\n",
    "    self.endpoint : the first ending point for the validations\n",
    "    self.turns: the turns for each validation\n",
    "    \n",
    "    validCurve : plot the validation curve,stop at the first endpoint\n",
    "    \"\"\"\n",
    "    def __init__(self,result_dict,metric,k=5):\n",
    "        self.metric = metric\n",
    "        if type(result_dict) == pd.DataFrame:\n",
    "            self.result = result_dict\n",
    "        else:\n",
    "            tempDict = {}\n",
    "            for phase in ['train','test']:\n",
    "                for turn in range(k):\n",
    "                    tempDict[phase+str(turn)]=cv_result[turn][phase][metric]\n",
    "                    self.result=pd.DataFrame(dict([ (key,pd.Series(v)) for key,v in tempDict.iteritems()]))    \n",
    "        \n",
    "        self.endpoint =len(self.result.filter(like = 'train').dropna())\n",
    "        \n",
    "        self.turns = self.result.filter(like = 'test').\\\n",
    "            apply(lambda x : ~np.isnan(x)).cumsum(axis=0).iloc[len(self.result)-1,:]\n",
    "\n",
    "    def validCurve(self,start=0,stop_at_first = True):\n",
    "        if stop_at_first:\n",
    "            eout = self.result.filter(like = 'test').dropna().mean(axis=1)\n",
    "            ein =  self.result.filter(like = 'train').dropna().mean(axis=1)\n",
    "        else:\n",
    "            eout = self.result.filter(like = 'test').mean(axis=1)\n",
    "            ein =  self.result.filter(like = 'train').mean(axis=1)\n",
    "        plt.plot(range(len(eout)), eout,\n",
    "        range(len(ein)), ein)\n",
    "        plt.xlabel(\"turn\")\n",
    "        plt.ylabel(self.metric)\n",
    "        plt.title('Validation Curve')\n",
    "        \n",
    "        plt.show()\n",
    "    \n",
    "    def errorsAt(self,turn):\n",
    "        eout = self.result.filter(like = 'test').loc[turn].mean()\n",
    "        ein = self.result.filter(like = 'train').loc[turn].mean()\n",
    "        return eout,ein\n",
    "    \n",
    "\n",
    "def showImportance(model,factor_name):\n",
    "    factors = model.get_score(importance_type=factor_name)\n",
    "    factor_list = []\n",
    "    total = sum(factors.values())\n",
    "    for key in factors:\n",
    "        factors[key] = factors[key]*1.0/total\n",
    "        factor_list.append((key,factors[key]))\n",
    "    return sorted(factor_list,key=lambda x : x[1],reverse=True)\n",
    "    \n"
   ]
  },
  {
   "cell_type": "code",
   "execution_count": 3,
   "metadata": {
    "collapsed": true
   },
   "outputs": [],
   "source": [
    "#from \"this is a lit\"s python version by rakhlin\n",
    "def singleValueConvert(df1,df2,column,minimum_size=5):\n",
    "    ps = df1[column].append(df2[column])\n",
    "    grouped = ps.groupby(ps).size().to_frame().rename(columns={0: \"size\"})\n",
    "    df1.loc[df1.join(grouped, on=column, how=\"left\")[\"size\"] <= minimum_size, column] = -1\n",
    "    df2.loc[df2.join(grouped, on=column, how=\"left\")[\"size\"] <= minimum_size, column] = -1\n",
    "    return df1, df2"
   ]
  },
  {
   "cell_type": "code",
   "execution_count": 4,
   "metadata": {
    "collapsed": true
   },
   "outputs": [],
   "source": [
    "#new feature : manager base distance and manager action scope\n",
    "#new training features: 'm_distance','m_m_distance'\n",
    "#also consideing adding 'mlat','mlon'\n",
    "def manager_statistics(train_df,test_df,update_df =None,random = None):\n",
    "    \n",
    "    #adding the features about distance and location\n",
    "    temp=train_df[['manager_id',\"latitude\", \"longitude\"]].dropna()\n",
    "    mean_value = temp.groupby('manager_id')[[\"latitude\", \"longitude\"]].mean().round(4)\n",
    "    mean_value.columns = ['mlat','mlon']\n",
    "    std_value = train_df.groupby('manager_id')[[\"latitude\", \"longitude\"]].std()\n",
    "    mstd = std_value[[\"latitude\", \"longitude\"]].mean()\n",
    "    std_value['latitude']=std_value['latitude'].fillna(mstd['latitude'])\n",
    "    std_value['longitude']=std_value['longitude'].fillna(mstd['longitude'])\n",
    "    #manager mean distance\n",
    "    std_value['m_m_distance'] = map(lambda x,y:np.sqrt(x**2+y**2).round(4),\\\n",
    "                                    std_value['latitude'],std_value['longitude'])\n",
    "    \n",
    "    if random:\n",
    "        std_value['m_m_distance'] *= np.random.uniform(1 - random, 1 + random, len(std_value))\n",
    "        mean_value['mlat'] *= np.random.uniform(1 - random, 1 + random, len(mean_value))\n",
    "        mean_value['mlon'] *= np.random.uniform(1 - random, 1 + random, len(mean_value))\n",
    "\n",
    "    updateM = test_df[['manager_id']].join(mean_value, on = 'manager_id', how=\"left\")[['mlat','mlon']]\n",
    "    updateD = test_df[['manager_id']].join(std_value, on='manager_id', how=\"left\")['m_m_distance']\n",
    "    \n",
    "    if update_df is None: update_df = test_df\n",
    "    for f in ['mlat','mlon','m_m_distance']:\n",
    "        if f not in update_df.columns: \n",
    "            update_df[f] = np.nan\n",
    "    \n",
    "    update_df.update(updateD)\n",
    "    update_df.update(updateM)\n",
    "    \n",
    "    #adding the features about other things\n",
    "    other_feature = ['bathrooms','bedrooms','price',\"price_per_bed\",\"bath_per_bed\",\\\n",
    "                     \"price_per_room\",'num_photos','num_features','num_description_words']\n",
    "    mean_value = train_df.groupby('manager_id')[other_feature].mean()\n",
    "    mean_value = mean_value.add_prefix('m_mean_')\n",
    "    \n",
    "    new_mean_feature = list(mean_value.columns)\n",
    "    \n",
    "    if random:\n",
    "        for f in new_mean_feature:\n",
    "            mean_value[f] *= np.random.uniform(1 - random, 1 + random, len(mean_value))\n",
    "\n",
    "    updateM = test_df[['manager_id']].join(mean_value, on = 'manager_id', how=\"left\")[new_mean_feature]\n",
    "    \n",
    "    for f in new_mean_feature:\n",
    "        if f not in update_df.columns: \n",
    "            update_df[f] = np.nan\n",
    "    \n",
    "    update_df.update(updateM)\n",
    "\n",
    "    \n",
    "    \"\"\"\n",
    "    TODO CONSIDER USING THESE TO ADD RANDOM INTO THE VALUES\n",
    "    # Add uniform noise. Not mentioned in original paper.adding to each manager\n",
    "    if random:\n",
    "        temp[new_feature] *= np.random.uniform(1 - random, 1 + random, len(temp))     \n",
    "    \"\"\""
   ]
  },
  {
   "cell_type": "code",
   "execution_count": 5,
   "metadata": {
    "collapsed": true
   },
   "outputs": [],
   "source": [
    "#the old one using the fraction\n",
    "def temporalManagerPerf(train_df,test_df,update_df =None):\n",
    "    temp=pd.concat([train_df,pd.get_dummies(train_df.interest_level)], axis = 1)\n",
    "    tempTrain = temp[['manager_id','dayofyear','high','low','medium']].set_index('manager_id')\n",
    "    tempTest = test_df[['manager_id','dayofyear']]\n",
    "    tempJoin = tempTest.join(tempTrain,on='manager_id',how='left', rsuffix='_toSum')\n",
    "    \n",
    "    #3 day performance\n",
    "    performance_3 = tempJoin[tempJoin['dayofyear'] - tempJoin['dayofyear_toSum']<4]\n",
    "    performance_3 = performance_3.groupby(performance_3.index).sum()[['high','low','medium']]\n",
    "    performance_3['total'] = performance_3['high']+performance_3['low']+performance_3['medium']\n",
    "    performance_3['3dayHigh']=performance_3['high']*1.0/performance_3['total']\n",
    "    performance_3['3dayMedium']=performance_3['medium']*1.0/performance_3['total']\n",
    "    \n",
    "    performance_7 = tempJoin[tempJoin['dayofyear'] - tempJoin['dayofyear_toSum']<8]\n",
    "    performance_7 = performance_7.groupby(performance_7.index).sum()[['high','low','medium']]\n",
    "    performance_7['total'] = performance_7['high']+performance_7['low']+performance_7['medium']\n",
    "    performance_7['7dayHigh']=performance_7['high']*1.0/performance_7['total']\n",
    "    performance_7['7dayMedium']=performance_7['medium']*1.0/performance_7['total']\n",
    "    \n",
    "    performance_14 = tempJoin[tempJoin['dayofyear'] - tempJoin['dayofyear_toSum']<15]\n",
    "    performance_14 = performance_14.groupby(performance_14.index).sum()[['high','low','medium']]\n",
    "    performance_14['total'] = performance_14['high']+performance_14['low']+performance_14['medium']\n",
    "    performance_14['14dayHigh']=performance_14['high']*1.0/performance_14['total']\n",
    "    performance_14['14dayMedium']=performance_14['medium']*1.0/performance_14['total']\n",
    "    \n",
    "    performance_30 = tempJoin[tempJoin['dayofyear'] - tempJoin['dayofyear_toSum']<31]\n",
    "    performance_30 = performance_30.groupby(performance_30.index).sum()[['high','low','medium']]\n",
    "    performance_30['total'] = performance_30['high']+performance_30['low']+performance_30['medium']\n",
    "    performance_30['30dayHigh']=performance_30['high']*1.0/performance_30['total']\n",
    "    performance_30['30dayMedium']=performance_30['medium']*1.0/performance_14['total']\n",
    "    \n",
    "    update3 = performance_3[['3dayHigh','3dayMedium']].fillna(-1)\n",
    "    update7 = performance_7[['7dayHigh','7dayMedium']].fillna(-1)\n",
    "    update14= performance_14[['14dayHigh','14dayMedium']].fillna(-1)\n",
    "    update30= performance_30[['30dayHigh','30dayMedium']].fillna(-1)\n",
    "    \n",
    "    if update_df is None: update_df = test_df\n",
    "    \n",
    "    new_features = ['3dayHigh','3dayMedium','7dayHigh','7dayMedium','14dayHigh',\\\n",
    "                    '14dayMedium','30dayHigh','30dayMedium']\n",
    "    \n",
    "    for f in new_features:\n",
    "        if f not in update_df.columns: \n",
    "             update_df[f] = np.nan\n",
    "    \n",
    "    update_df.update(update3)\n",
    "    update_df.update(update7)\n",
    "    update_df.update(update14)\n",
    "    update_df.update(update30)\n",
    "    "
   ]
  },
  {
   "cell_type": "code",
   "execution_count": 6,
   "metadata": {
    "collapsed": true
   },
   "outputs": [],
   "source": [
    "def performance_eval(train_df,test_df,feature,k=5,smoothing=True,g=1,f=1,update_df =None,random = None):\n",
    "    target_num_map = {'High':2, 'Medium':1, 'Low':0}\n",
    "    temp=pd.concat([train_df[feature],pd.get_dummies(train_df.interest_level)], axis = 1)\\\n",
    "         .groupby(feature).mean()\n",
    "     \n",
    "    new_feature = feature+'_perf'\n",
    "    temp.columns = ['tempHigh','tempLow', 'tempMed']\n",
    "    \n",
    "    temp[feature+'_origin'] = temp['tempHigh']*2 + temp['tempMed']\n",
    "    mean_values = temp.loc[:, feature+'_origin'].mean()\n",
    "\n",
    "    if smoothing:\n",
    "        temp['count'] = train_df.groupby(feature).count().iloc[:,1]\n",
    "        temp[\"lambda\"] = g / (g + np.exp((k - temp[\"count\"] )/f))\n",
    "        temp[new_feature] = temp[\"lambda\"]*temp[feature+'_origin']+(1-temp[\"lambda\"])*mean_values\n",
    "    else:\n",
    "        temp[new_feature] = temp[feature+'_origin']\n",
    "    \n",
    "    # Add uniform noise. Not mentioned in original paper.adding to each manager\n",
    "    if random:\n",
    "        temp[new_feature] *= np.random.uniform(1 - random, 1 + random, len(temp))     \n",
    "\n",
    "    value = test_df[[feature]].join(temp, on=feature, how=\"left\")[new_feature].fillna(mean_values)\n",
    "    \n",
    "    if update_df is None: update_df = test_df\n",
    "    if new_feature not in update_df.columns: update_df[new_feature] = np.nan\n",
    "    update_df.update(value)"
   ]
  },
  {
   "cell_type": "code",
   "execution_count": 7,
   "metadata": {
    "collapsed": false
   },
   "outputs": [],
   "source": [
    "#try performance instead of high&medium\n",
    "def temporalManagerPerf(train_df,test_df,update_df =None):\n",
    "    temp=pd.concat([train_df,pd.get_dummies(train_df.interest_level)], axis = 1)\n",
    "    tempTrain = temp[['manager_id','dayofyear','high','low','medium']].set_index('manager_id')\n",
    "    tempTest = test_df[['manager_id','dayofyear']]\n",
    "    tempJoin = tempTest.join(tempTrain,on='manager_id',how='left', rsuffix='_toSum')\n",
    "    \n",
    "    #3 day performance\n",
    "    performance_3 = tempJoin[tempJoin['dayofyear'] - tempJoin['dayofyear_toSum']<4]\n",
    "    performance_3 = performance_3.groupby(performance_3.index).sum()[['high','low','medium']]\n",
    "    performance_3['total'] = performance_3['high']+performance_3['low']+performance_3['medium']\n",
    "    performance_3['m3perf'] = (2*performance_3['high']+performance_3['medium'])*1.0/performance_3['total']\n",
    "\n",
    "    \n",
    "    performance_7 = tempJoin[tempJoin['dayofyear'] - tempJoin['dayofyear_toSum']<8]\n",
    "    performance_7 = performance_7.groupby(performance_7.index).sum()[['high','low','medium']]\n",
    "    performance_7['total'] = performance_7['high']+performance_7['low']+performance_7['medium']\n",
    "    performance_7['m7perf'] = (2*performance_7['high']+performance_7['medium'])*1.0/performance_7['total']\n",
    "    \n",
    "    performance_14 = tempJoin[tempJoin['dayofyear'] - tempJoin['dayofyear_toSum']<15]\n",
    "    performance_14 = performance_14.groupby(performance_14.index).sum()[['high','low','medium']]\n",
    "    performance_14['total'] = performance_14['high']+performance_14['low']+performance_14['medium']\n",
    "    performance_14['m14perf'] = (2*performance_14['high']+performance_14['medium'])*1.0/performance_14['total']\n",
    "\n",
    "    \n",
    "    performance_30 = tempJoin[tempJoin['dayofyear'] - tempJoin['dayofyear_toSum']<31]\n",
    "    performance_30 = performance_30.groupby(performance_30.index).sum()[['high','low','medium']]\n",
    "    performance_30['total'] = performance_30['high']+performance_30['low']+performance_30['medium']\n",
    "    performance_30['m30perf'] = (2*performance_30['high']+performance_30['medium'])*1.0/performance_30['total']\n",
    "\n",
    "    update = pd.concat([performance_3[['m3perf']],performance_7[['m7perf']],\\\n",
    "                        performance_14[['m14perf']],performance_30[['m30perf']]],axis=1).fillna(-1)\n",
    "\n",
    "    if update_df is None: update_df = test_df\n",
    "    \n",
    "    new_features = ['m3perf','m7perf','m14perf','m30perf']\n",
    "    \n",
    "    for f in new_features:\n",
    "        if f not in update_df.columns: \n",
    "             update_df[f] = np.nan\n",
    "    \n",
    "    update_df.update(update)\n",
    "    "
   ]
  },
  {
   "cell_type": "code",
   "execution_count": 8,
   "metadata": {
    "collapsed": false
   },
   "outputs": [
    {
     "name": "stdout",
     "output_type": "stream",
     "text": [
      "(49352, 15)\n",
      "(74659, 14)\n"
     ]
    }
   ],
   "source": [
    "#lodaing data\n",
    "data_path = \"../../kaggleData/2sigma/\"\n",
    "train_file = data_path + \"train.json\"\n",
    "test_file = data_path + \"test.json\"\n",
    "train_df = pd.read_json(train_file)\n",
    "test_df = pd.read_json(test_file)\n",
    "print(train_df.shape)\n",
    "print(test_df.shape)\n"
   ]
  },
  {
   "cell_type": "code",
   "execution_count": 9,
   "metadata": {
    "collapsed": true
   },
   "outputs": [],
   "source": [
    "#basic numerical features\n",
    "features_to_use  = [\"bathrooms\", \"bedrooms\", \"latitude\", \"longitude\", \"price\"]"
   ]
  },
  {
   "cell_type": "code",
   "execution_count": 10,
   "metadata": {
    "collapsed": false
   },
   "outputs": [],
   "source": [
    "#some transfromed features\n",
    "# count of photos #\n",
    "train_df[\"num_photos\"] = train_df[\"photos\"].apply(len)\n",
    "\n",
    "# count of \"features\" #\n",
    "train_df[\"num_features\"] = train_df[\"features\"].apply(len)\n",
    "\n",
    "# count of words present in description column #\n",
    "train_df[\"num_description_words\"] = train_df[\"description\"].apply(lambda x: len(x.split(\" \")))\n",
    "\n",
    "# convert the created column to datetime object so as to extract more features \n",
    "train_df[\"created\"] = pd.to_datetime(train_df[\"created\"])\n",
    "test_df[\"created\"] = pd.to_datetime(test_df[\"created\"])\n",
    "\n",
    "# Let us extract some features like year, month, day, hour from date columns #\n",
    "train_df[\"created_year\"] = train_df[\"created\"].dt.year\n",
    "train_df[\"created_month\"] = train_df[\"created\"].dt.month\n",
    "train_df[\"created_day\"] = train_df[\"created\"].dt.day\n",
    "train_df[\"created_hour\"] = train_df[\"created\"].dt.hour\n",
    "\n",
    "#some new numerical features related to the price\n",
    "train_df[\"price_per_bath\"] =  (train_df[\"price\"]*1.0/train_df[\"bathrooms\"]).replace(np.Inf,-1)\n",
    "train_df[\"price_per_bed\"] = (train_df[\"price\"]*1.0/train_df[\"bedrooms\"]).replace(np.Inf,-1)\n",
    "train_df[\"bath_per_bed\"] = (train_df[\"bathrooms\"]*1.0/train_df[\"bedrooms\"]).replace(np.Inf,-1)\n",
    "train_df[\"price_per_room\"] = (train_df[\"price\"]*1.0/(train_df[\"bedrooms\"]+train_df[\"bathrooms\"])).replace(np.Inf,-1)\n",
    "\n",
    "# adding all these new features to use list # \"listing_id\",\n",
    "features_to_use.extend([\"num_photos\", \"num_features\", \"num_description_words\",\\\n",
    "                        \"created_year\",\"listing_id\", \"created_month\", \"created_day\", \"created_hour\"])\n",
    "#price new features\n",
    "features_to_use.extend([\"price_per_bed\",\"bath_per_bed\",\"price_per_room\"])\n",
    "\n",
    "#for latter use\n",
    "train_df[\"dayofyear\"] = train_df[\"created\"].dt.dayofyear\n",
    "test_df[\"dayofyear\"] = test_df[\"created\"].dt.dayofyear"
   ]
  },
  {
   "cell_type": "code",
   "execution_count": 11,
   "metadata": {
    "collapsed": false
   },
   "outputs": [],
   "source": [
    "train_df,test_df  = singleValueConvert(train_df,test_df,'manager_id',1)"
   ]
  },
  {
   "cell_type": "code",
   "execution_count": 12,
   "metadata": {
    "collapsed": false
   },
   "outputs": [],
   "source": [
    "features = list(features_to_use)\n",
    "categorical = [\"display_address\", \"street_address\",'building_id','manager_id']\n",
    "features.extend(categorical)\n",
    "#new features\n",
    "#features.extend(['m_m_distance','mlon','mlat'])\n",
    "#features.extend(['m_mean_bathrooms','m_mean_bedrooms','m_mean_price','m_mean_price_per_bed',\\\n",
    "#                 'm_mean_bath_per_bed','m_mean_price_per_room','m_mean_num_photos',\\\n",
    "#                 'm_mean_num_features','m_mean_num_description_words'])\n",
    "#features.append('dayofyear')\n",
    "#features.extend(['3dayHigh','3dayMedium','7dayHigh','7dayMedium',\\\n",
    "#                 '14dayHigh','14dayMedium','30dayHigh','30dayMedium'])\n",
    "#features.extend(['m3perf','m7perf','m14perf','m30perf'])\n",
    "features.append('manager_id_perf')"
   ]
  },
  {
   "cell_type": "code",
   "execution_count": 13,
   "metadata": {
    "collapsed": true
   },
   "outputs": [],
   "source": [
    "features=list(set(features))"
   ]
  },
  {
   "cell_type": "code",
   "execution_count": 14,
   "metadata": {
    "collapsed": false
   },
   "outputs": [],
   "source": [
    "#prepare for training\n",
    "target_num_map = {'high':0, 'medium':1, 'low':2}\n",
    "\n",
    "train_y = np.array(train_df['interest_level'].apply(lambda x: target_num_map[x]))\n",
    "\n",
    "KF=KFold(len(train_df),5,shuffle=True,random_state = 42)"
   ]
  },
  {
   "cell_type": "code",
   "execution_count": 17,
   "metadata": {
    "collapsed": false,
    "scrolled": true
   },
   "outputs": [
    {
     "name": "stderr",
     "output_type": "stream",
     "text": [
      "C:\\Users\\dell\\Anaconda2\\lib\\site-packages\\ipykernel\\__main__.py:25: SettingWithCopyWarning: \n",
      "A value is trying to be set on a copy of a slice from a DataFrame.\n",
      "Try using .loc[row_indexer,col_indexer] = value instead\n",
      "\n",
      "See the caveats in the documentation: http://pandas.pydata.org/pandas-docs/stable/indexing.html#indexing-view-versus-copy\n",
      "C:\\Users\\dell\\Anaconda2\\lib\\site-packages\\pandas\\core\\frame.py:3770: SettingWithCopyWarning: \n",
      "A value is trying to be set on a copy of a slice from a DataFrame.\n",
      "Try using .loc[row_indexer,col_indexer] = value instead\n",
      "\n",
      "See the caveats in the documentation: http://pandas.pydata.org/pandas-docs/stable/indexing.html#indexing-view-versus-copy\n",
      "  raise_on_error=True)\n",
      "C:\\Users\\dell\\Anaconda2\\lib\\site-packages\\ipykernel\\__main__.py:39: SettingWithCopyWarning: \n",
      "A value is trying to be set on a copy of a slice from a DataFrame.\n",
      "Try using .loc[row_indexer,col_indexer] = value instead\n",
      "\n",
      "See the caveats in the documentation: http://pandas.pydata.org/pandas-docs/stable/indexing.html#indexing-view-versus-copy\n",
      "C:\\Users\\dell\\Anaconda2\\lib\\site-packages\\ipykernel\\__main__.py:29: SettingWithCopyWarning: \n",
      "A value is trying to be set on a copy of a slice from a DataFrame.\n",
      "Try using .loc[row_indexer,col_indexer] = value instead\n",
      "\n",
      "See the caveats in the documentation: http://pandas.pydata.org/pandas-docs/stable/indexing.html#indexing-view-versus-copy\n",
      "C:\\Users\\dell\\Anaconda2\\lib\\site-packages\\ipykernel\\__main__.py:30: SettingWithCopyWarning: \n",
      "A value is trying to be set on a copy of a slice from a DataFrame.\n",
      "Try using .loc[row_indexer,col_indexer] = value instead\n",
      "\n",
      "See the caveats in the documentation: http://pandas.pydata.org/pandas-docs/stable/indexing.html#indexing-view-versus-copy\n"
     ]
    },
    {
     "name": "stdout",
     "output_type": "stream",
     "text": [
      "loss for the turn 1 is 0.54478379513\n",
      "loss for the turn 2 is 0.543487216163\n",
      "loss for the turn 3 is 0.545795101232\n",
      "loss for the turn 4 is 0.539259467635\n",
      "loss for the turn 5 is 0.546854730811\n"
     ]
    }
   ],
   "source": [
    "#running and getting the cv from xgboost\n",
    "cv_scores = []\n",
    "cv_result = []\n",
    "\n",
    "#K-FOLD already defined.If not ,use\n",
    "#KF=KFold(len(train_X),5,shuffle=True,random_state = 42)\n",
    "i=0\n",
    "for dev_index, val_index in KF:\n",
    "        result_dict = {}\n",
    "                \n",
    "        #split the orginal train set into dev_set and val_set\n",
    "        dev_set, val_set = train_df.iloc[dev_index,:] , train_df.iloc[val_index,:] \n",
    "        \n",
    "        \"\"\"some preprocessing like feature constructed in cv manners\"\"\"\n",
    "        skf=StratifiedKFold(dev_set['interest_level'],5,shuffle=True,random_state = 42)\n",
    "        #dev set adding manager skill\n",
    "        for train,test in skf:\n",
    "            performance_eval(dev_set.iloc[train,:],dev_set.iloc[test,:],'manager_id',\\\n",
    "                              update_df = dev_set)\n",
    "            temporalManagerPerf(dev_set.iloc[train,:],dev_set.iloc[test,:],\\\n",
    "                           update_df = dev_set)\n",
    "            \n",
    "        performance_eval(dev_set,val_set,'manager_id')\n",
    "        temporalManagerPerf(dev_set,val_set)\n",
    "        \n",
    "        for f in categorical:\n",
    "            if dev_set[f].dtype=='object':\n",
    "                #print(f)\n",
    "                lbl = preprocessing.LabelEncoder()\n",
    "                lbl.fit(list(dev_set[f])+list(val_set[f]))\n",
    "                dev_set[f] = lbl.transform(list(dev_set[f].values))\n",
    "                val_set[f] = lbl.transform(list(val_set[f].values))\n",
    "        \n",
    "        dev_X, val_X = dev_set[features].as_matrix(), val_set[features].as_matrix()\n",
    "        dev_y, val_y = train_y[dev_index], train_y[val_index]\n",
    "        \n",
    "        \"\"\" \n",
    "         runXGB(train_X, train_y, test_X, test_y=None, feature_names=None, \\\n",
    "         seed_val=0, early_stop = 20,num_rounds=10000, eta = 0.1,\\\n",
    "         max_depth = 6,cv_dict = None):\n",
    "         \"\"\"\n",
    "        \n",
    "        preds, model = runXGB(dev_X, dev_y, val_X, val_y,early_stop  = 20,\\\n",
    "                              feature_names = features,cv_dict = result_dict,verbose_eval=False)\n",
    "        loss = log_loss(val_y, preds)\n",
    "        cv_scores.append(loss)\n",
    "        cv_result.append(result_dict)\n",
    "        i+=1\n",
    "        print 'loss for the turn '+str(i)+' is '+str(loss)"
   ]
  },
  {
   "cell_type": "code",
   "execution_count": 18,
   "metadata": {
    "collapsed": false
   },
   "outputs": [
    {
     "data": {
      "text/plain": [
       "test0    260\n",
       "test1    219\n",
       "test2    251\n",
       "test3    251\n",
       "test4    203\n",
       "Name: 259, dtype: int32"
      ]
     },
     "execution_count": 18,
     "metadata": {},
     "output_type": "execute_result"
    }
   ],
   "source": [
    "\n",
    "#plot the validation curv\n",
    "cvResult = CVstatistics(cv_result,'mlogloss')\n",
    "cvResult.turns"
   ]
  },
  {
   "cell_type": "code",
   "execution_count": 21,
   "metadata": {
    "collapsed": false
   },
   "outputs": [
    {
     "data": {
      "text/plain": [
       "(0.54184, 0.350909)"
      ]
     },
     "execution_count": 21,
     "metadata": {},
     "output_type": "execute_result"
    }
   ],
   "source": [
    "cvResult.errorsAt(259)"
   ]
  },
  {
   "cell_type": "code",
   "execution_count": 16,
   "metadata": {
    "collapsed": false
   },
   "outputs": [
    {
     "data": {
      "text/plain": [
       "0.5425457150691263"
      ]
     },
     "execution_count": 16,
     "metadata": {},
     "output_type": "execute_result"
    }
   ],
   "source": [
    "#cvResult.validCurve(stop=False)\n",
    "#some errors at certain turn to see the descending\n",
    "cv_scores\n",
    "np.mean(cv_scores)"
   ]
  },
  {
   "cell_type": "code",
   "execution_count": 24,
   "metadata": {
    "collapsed": true
   },
   "outputs": [],
   "source": [
    "cvResult.validCurve(stop_at_first = False)\n"
   ]
  },
  {
   "cell_type": "code",
   "execution_count": 14,
   "metadata": {
    "collapsed": false
   },
   "outputs": [
    {
     "data": {
      "text/plain": [
       "[('30dayHigh', 0.08894494794067495),\n",
       " ('14dayMedium', 0.0748891503040693),\n",
       " ('30dayMedium', 0.07419577716301261),\n",
       " ('price', 0.04227853564041159),\n",
       " ('14dayHigh', 0.0372452118469984),\n",
       " ('price_per_room', 0.03398086148488273),\n",
       " ('7dayMedium', 0.03325855301668275),\n",
       " ('bathrooms', 0.03287303861283688),\n",
       " ('price_per_bed', 0.03187218162670798),\n",
       " ('building_id', 0.03079450870693083),\n",
       " ('7dayHigh', 0.02889871335556438),\n",
       " ('bedrooms', 0.025598759803984576),\n",
       " ('num_photos', 0.0238207281186229),\n",
       " ('longitude', 0.022833186800663145),\n",
       " ('latitude', 0.02180244752932253),\n",
       " ('bath_per_bed', 0.021590139444886754),\n",
       " ('created_hour', 0.020672321089239554),\n",
       " ('m_mean_num_features', 0.0202910810147031),\n",
       " ('num_features', 0.020073585660635995),\n",
       " ('3dayMedium', 0.019612854092827068),\n",
       " ('3dayHigh', 0.018720616317381984),\n",
       " ('m_mean_num_description_words', 0.017270373100390216),\n",
       " ('m_mean_price_per_room', 0.017011441731692813),\n",
       " ('m_m_distance', 0.01673945277916146),\n",
       " ('m_mean_price', 0.01665684625078254),\n",
       " ('display_address', 0.016648876335635547),\n",
       " ('listing_id', 0.01646754376406781),\n",
       " ('num_description_words', 0.01623188129381753),\n",
       " ('street_address', 0.016010427410433202),\n",
       " ('m_mean_bathrooms', 0.015840850261879837),\n",
       " ('m_mean_price_per_bed', 0.01556337869232027),\n",
       " ('m_mean_num_photos', 0.01533586891006817),\n",
       " ('m_mean_bath_per_bed', 0.01481752567641403),\n",
       " ('m_mean_bedrooms', 0.014773183106432625),\n",
       " ('manager_id', 0.014600118719208462),\n",
       " ('mlat', 0.014150951265400233),\n",
       " ('mlon', 0.013814731738190068),\n",
       " ('created_day', 0.013286476645921167),\n",
       " ('created_month', 0.01053287274714406)]"
      ]
     },
     "execution_count": 14,
     "metadata": {},
     "output_type": "execute_result"
    }
   ],
   "source": [
    "#show the importance of the features\n",
    "showImportance(model,'gain')"
   ]
  }
 ],
 "metadata": {
  "anaconda-cloud": {},
  "kernelspec": {
   "display_name": "Python [Root]",
   "language": "python",
   "name": "Python [Root]"
  },
  "language_info": {
   "codemirror_mode": {
    "name": "ipython",
    "version": 2
   },
   "file_extension": ".py",
   "mimetype": "text/x-python",
   "name": "python",
   "nbconvert_exporter": "python",
   "pygments_lexer": "ipython2",
   "version": "2.7.12"
  }
 },
 "nbformat": 4,
 "nbformat_minor": 0
}
