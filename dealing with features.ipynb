{
 "cells": [
  {
   "cell_type": "code",
   "execution_count": 1,
   "metadata": {
    "collapsed": true
   },
   "outputs": [],
   "source": [
    "import pandas as pd\n",
    "import re\n",
    "import string\n",
    "import numpy as np\n",
    "import matplotlib.pyplot as plt\n",
    "\n",
    "%matplotlib inline"
   ]
  },
  {
   "cell_type": "code",
   "execution_count": 2,
   "metadata": {
    "collapsed": false
   },
   "outputs": [
    {
     "name": "stdout",
     "output_type": "stream",
     "text": [
      "(49352, 15)\n",
      "(74659, 14)\n"
     ]
    }
   ],
   "source": [
    "train_df = pd.read_json(\"../../kaggleData/2sigma/train.json\")\n",
    "test_df = pd.read_json(\"../../kaggleData/2sigma/test.json\")\n",
    "print train_df.shape\n",
    "print test_df.shape"
   ]
  },
  {
   "cell_type": "code",
   "execution_count": 3,
   "metadata": {
    "collapsed": false
   },
   "outputs": [
    {
     "name": "stderr",
     "output_type": "stream",
     "text": [
      "C:\\Users\\dell\\Anaconda2\\lib\\site-packages\\ipykernel\\__main__.py:2: FutureWarning: sort is deprecated, use sort_values(inplace=True) for INPLACE sorting\n",
      "  from ipykernel import kernelapp as app\n"
     ]
    }
   ],
   "source": [
    "features_in_train = train_df[\"features\"].apply(lambda x:[\"_\".join(i.split(\" \")).lower().strip().replace('-','_')\\\n",
    "        for i in x])\\\n",
    "        .apply(pd.Series).unstack().reset_index(drop = True)\\\n",
    "        .dropna()\\\n",
    "        .value_counts()\n",
    "features_in_train.sort(ascending  = False)"
   ]
  },
  {
   "cell_type": "code",
   "execution_count": 4,
   "metadata": {
    "collapsed": true
   },
   "outputs": [
    {
     "name": "stdout",
     "output_type": "stream",
     "text": [
      "below are some examples for the most frequent features:\n",
      "elevator               26273\n",
      "hardwood_floors        23558\n",
      "cats_allowed           23540\n",
      "dogs_allowed           22035\n",
      "doorman                20967\n",
      "dishwasher             20806\n",
      "laundry_in_building    18944\n",
      "no_fee                 18079\n",
      "fitness_center         13257\n",
      "laundry_in_unit         9435\n",
      "pre_war                 9152\n",
      "roof_deck               6952\n",
      "outdoor_space           5270\n",
      "dining_room             5150\n",
      "high_speed_internet     4315\n",
      "balcony                 3058\n",
      "swimming_pool           2730\n",
      "new_construction        2608\n",
      "terrace                 2313\n",
      "exclusive               2167\n",
      "dtype: int64\n"
     ]
    }
   ],
   "source": [
    "print \"below are some examples for the most frequent features:\"\n",
    "print features_in_train.head(20)"
   ]
  },
  {
   "cell_type": "code",
   "execution_count": 5,
   "metadata": {
    "collapsed": true
   },
   "outputs": [
    {
     "name": "stdout",
     "output_type": "stream",
     "text": [
      "below are some examples for the least frequent features:\n"
     ]
    },
    {
     "data": {
      "text/plain": [
       "pets_allowed_case_by_case                                                                                                           1\n",
       "no_fee_hardwood_floors                                                                                                              1\n",
       "and_stainless_steel_appliances_with_a_dishwasher_well_maintained_hardwood_floors_add_to_the_warmth_and_modern_feel_of_the_space.    1\n",
       "counter-top_space                                                                                                                   1\n",
       "amazing_detail                                                                                                                      1\n",
       "ac                                                                                                                                  1\n",
       "state-of-the-art_fitness_center_and_even_an_on-site_dog_run                                                                         1\n",
       "30th_st_&_madison_avenue                                                                                                            1\n",
       "real_wall_allowed                                                                                                                   1\n",
       "electricity_+_hot_water_+_gas_+_heat_included                                                                                       1\n",
       "spin_room                                                                                                                           1\n",
       "prime_location                                                                                                                      1\n",
       "one_month_rent_free_concession_on_a_12_month_lease                                                                                  1\n",
       "**_oversized_&_underpriced!!_*_sprawling_sunfilled_studio_*_gourmet_kitchen_*_gut_renovated_*_w50s_~_near_central_park!_**          1\n",
       "**_huge_true_3br_home_*_mr_clean_approved_*_massive_windows_galore_*_steps_to_the_park_&_bedford_l_stop_**                          1\n",
       "jacuzzi_bath_tube                                                                                                                   1\n",
       "huge_balcony                                                                                                                        1\n",
       "24-hour_concierge_and_doorman                                                                                                       1\n",
       "super_bright                                                                                                                        1\n",
       "700_sf                                                                                                                              1\n",
       "dtype: int64"
      ]
     },
     "execution_count": 5,
     "metadata": {},
     "output_type": "execute_result"
    }
   ],
   "source": [
    "print \"below are some examples for the least frequent features:\"\n",
    "features_in_train.tail(20)"
   ]
  },
  {
   "cell_type": "code",
   "execution_count": 15,
   "metadata": {
    "collapsed": true
   },
   "outputs": [
    {
     "name": "stdout",
     "output_type": "stream",
     "text": [
      "the number of features that appered only once:835\n",
      "the number of features that appered less than 5 times:1083\n",
      "the number of features that appered less than 10 times:1132\n",
      "the number of features that appered less than 20 times:1166\n",
      "the number of features that appered less than 5%:1248\n",
      "the number of features that appered less than 10%:1257\n",
      "the number of all the appered features in training set:1293\n"
     ]
    }
   ],
   "source": [
    "print \"the number of features that appered only once:\"+str(len(features_in_train[features_in_train==1]))\n",
    "print \"the number of features that appered less than 5 times:\"+str(len(features_in_train[features_in_train<=5]))\n",
    "print \"the number of features that appered less than 10 times:\"+str(len(features_in_train[features_in_train<=10]))\n",
    "print \"the number of features that appered less than 20 times:\"+str(len(features_in_train[features_in_train<=20]))\n",
    "print \"the number of features that appered less than 5%:\"+str(len(features_in_train[features_in_train<=245]))\n",
    "print \"the number of features that appered less than 10%:\"+str(len(features_in_train[features_in_train<=490]))\n",
    "print \"the number of all the appered features in training set:\"+str(len(features_in_train))"
   ]
  },
  {
   "cell_type": "code",
   "execution_count": 5,
   "metadata": {
    "collapsed": true
   },
   "outputs": [],
   "source": [
    "#filter those appear less than 5%\n",
    "filtered_features_in_train = features_in_train[features_in_train > 245]"
   ]
  },
  {
   "cell_type": "code",
   "execution_count": 6,
   "metadata": {
    "collapsed": false
   },
   "outputs": [
    {
     "name": "stderr",
     "output_type": "stream",
     "text": [
      "C:\\Users\\dell\\Anaconda2\\lib\\site-packages\\ipykernel\\__main__.py:3: FutureWarning: sort is deprecated, use sort_values(inplace=True) for INPLACE sorting\n",
      "  app.launch_new_instance()\n"
     ]
    }
   ],
   "source": [
    "#similarily do the same thing to the test\n",
    "features_in_test = test_df[\"features\"].apply(lambda x:[\"_\".join(i.split(\" \")).lower().strip().replace('-','_')\\\n",
    "         for i in x])\\\n",
    "        .apply(pd.Series).unstack().reset_index(drop = True)\\\n",
    "        .dropna()\\\n",
    "        .value_counts()\n",
    "features_in_test.sort(ascending  = False)\n",
    "\n",
    "filtered_features_in_test = features_in_train[features_in_train > 245]"
   ]
  },
  {
   "cell_type": "code",
   "execution_count": 7,
   "metadata": {
    "collapsed": false
   },
   "outputs": [],
   "source": [
    "#see if they are the same\n",
    "accept_list = set(filtered_features_in_train.index).union(set(filtered_features_in_test.index))"
   ]
  },
  {
   "cell_type": "code",
   "execution_count": null,
   "metadata": {
    "collapsed": true
   },
   "outputs": [],
   "source": [
    "#function map the feature in the feature list to new one-hot features\n",
    "def featurePreprocessing(train_df,test_df):\n",
    "    "
   ]
  },
  {
   "cell_type": "code",
   "execution_count": 30,
   "metadata": {
    "collapsed": true
   },
   "outputs": [
    {
     "data": {
      "text/plain": [
       "10                          []\n",
       "10000                       []\n",
       "100004                      []\n",
       "100007                      []\n",
       "100013                      []\n",
       "100014                      []\n",
       "100016      [prewar, elevator]\n",
       "100020                      []\n",
       "100026                      []\n",
       "100027                      []\n",
       "100030                      []\n",
       "10004     [prewar, dishwasher]\n",
       "100044                      []\n",
       "100048                      []\n",
       "10005                       []\n",
       "100051                      []\n",
       "100052                      []\n",
       "100053                [prewar]\n",
       "100055                      []\n",
       "100058                      []\n",
       "100062                      []\n",
       "100063                      []\n",
       "100065                      []\n",
       "100066                      []\n",
       "10007                       []\n",
       "100071                      []\n",
       "100075                      []\n",
       "100076                      []\n",
       "100079                      []\n",
       "100081                      []\n",
       "                  ...         \n",
       "99915                       []\n",
       "99917                       []\n",
       "99919                       []\n",
       "99921                       []\n",
       "99923                       []\n",
       "99924                       []\n",
       "99931                       []\n",
       "99933                       []\n",
       "99935                       []\n",
       "99937                       []\n",
       "9994                        []\n",
       "99953                       []\n",
       "99956                       []\n",
       "99960                       []\n",
       "99961                       []\n",
       "99964                       []\n",
       "99965                       []\n",
       "99966                       []\n",
       "99979                       []\n",
       "99980                       []\n",
       "99982                       []\n",
       "99984                       []\n",
       "99986                       []\n",
       "99987                       []\n",
       "99988                       []\n",
       "9999                        []\n",
       "99991                       []\n",
       "99992                       []\n",
       "99993                       []\n",
       "99994                       []\n",
       "Name: features, dtype: object"
      ]
     },
     "execution_count": 30,
     "metadata": {},
     "output_type": "execute_result"
    }
   ],
   "source": [
    "train_df['features'].apply(lambda x:[\"_\".join(i.split(\" \")).lower().strip().replace('-','_') \\\n",
    "                                     for i in x if i in accept_list])"
   ]
  },
  {
   "cell_type": "code",
   "execution_count": null,
   "metadata": {
    "collapsed": true
   },
   "outputs": [],
   "source": []
  },
  {
   "cell_type": "code",
   "execution_count": null,
   "metadata": {
    "collapsed": true
   },
   "outputs": [],
   "source": [
    "def featureMapping(train_df,test_df,feature_list):\n",
    "    for "
   ]
  }
 ],
 "metadata": {
  "anaconda-cloud": {},
  "kernelspec": {
   "display_name": "Python [Root]",
   "language": "python",
   "name": "Python [Root]"
  },
  "language_info": {
   "codemirror_mode": {
    "name": "ipython",
    "version": 2
   },
   "file_extension": ".py",
   "mimetype": "text/x-python",
   "name": "python",
   "nbconvert_exporter": "python",
   "pygments_lexer": "ipython2",
   "version": "2.7.12"
  }
 },
 "nbformat": 4,
 "nbformat_minor": 0
}
