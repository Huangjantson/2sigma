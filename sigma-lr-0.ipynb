{
 "cells": [
  {
   "cell_type": "code",
   "execution_count": 3,
   "metadata": {
    "collapsed": false
   },
   "outputs": [
    {
     "name": "stderr",
     "output_type": "stream",
     "text": [
      "/opt/anaconda2/lib/python2.7/site-packages/sklearn/cross_validation.py:44: DeprecationWarning: This module was deprecated in version 0.18 in favor of the model_selection module into which all the refactored classes and functions are moved. Also note that the interface of the new CV iterators are different from that of this module. This module will be removed in 0.20.\n",
      "  \"This module will be removed in 0.20.\", DeprecationWarning)\n"
     ]
    }
   ],
   "source": [
    "import pandas as pd\n",
    "import numpy as np\n",
    "import pickle\n",
    "from sklearn.metrics import log_loss\n",
    "from sklearn.cross_validation import KFold\n"
   ]
  },
  {
   "cell_type": "code",
   "execution_count": 1,
   "metadata": {
    "collapsed": true
   },
   "outputs": [],
   "source": [
    "#import the model related modules\n",
    "from sklearn.neighbors import KNeighborsClassifier as KNC"
   ]
  },
  {
   "cell_type": "code",
   "execution_count": 25,
   "metadata": {
    "collapsed": true
   },
   "outputs": [],
   "source": [
    "import re"
   ]
  },
  {
   "cell_type": "code",
   "execution_count": 4,
   "metadata": {
    "collapsed": false
   },
   "outputs": [],
   "source": [
    "#lodaing data\n",
    "data_path = \"../../kaggleData/2sigma/\"\n",
    "train_file = data_path + \"processed_train_df.json\"\n",
    "test_file = data_path + \"processed_test_df.json\"\n",
    "train_df = pd.read_json(train_file)\n",
    "test_df = pd.read_json(test_file)"
   ]
  },
  {
   "cell_type": "code",
   "execution_count": 5,
   "metadata": {
    "collapsed": true
   },
   "outputs": [],
   "source": [
    "xgb14featureFile = 'xgb145.feat'\n",
    "fileObject = open(xgb14featureFile,'r')\n",
    "features = pickle.load(fileObject)\n",
    "fileObject.close()"
   ]
  },
  {
   "cell_type": "code",
   "execution_count": 23,
   "metadata": {
    "collapsed": false
   },
   "outputs": [],
   "source": [
    "feature_lr=[]\n",
    "feature_lr_file = open('./feature_list/feature_lr','r')\n",
    "for line in feature_lr_file.readlines():\n",
    "    feature_lr.append(line)\n",
    "feature_lr = map(lambda x:x.replace('\\r\\n',''),feature_lr)\n",
    "feature_lr_file.close()"
   ]
  },
  {
   "cell_type": "code",
   "execution_count": null,
   "metadata": {
    "collapsed": true
   },
   "outputs": [],
   "source": [
    "features = feature_lr"
   ]
  },
  {
   "cell_type": "code",
   "execution_count": 32,
   "metadata": {
    "collapsed": false
   },
   "outputs": [],
   "source": [
    "#apply transformation for each lr feature,except the ones neamed with\n",
    "normal_list = [i  for i in feature_lr if re.search('^with',i)==None and ]"
   ]
  },
  {
   "cell_type": "code",
   "execution_count": 33,
   "metadata": {
    "collapsed": false
   },
   "outputs": [
    {
     "data": {
      "text/plain": [
       "['bathrooms',\n",
       " 'bedrooms',\n",
       " 'latitude',\n",
       " 'longitude',\n",
       " 'price',\n",
       " 'bath_per_bed',\n",
       " 'num_description_words',\n",
       " 'num_features',\n",
       " 'num_photos',\n",
       " 'price_per_bath',\n",
       " 'price_per_bed',\n",
       " 'price_per_room',\n",
       " 'created_hour',\n",
       " 'dayofyear',\n",
       " 'manager_id_perf',\n",
       " 'house_type_perf',\n",
       " 'm14perf',\n",
       " 'm30perf',\n",
       " 'm3perf',\n",
       " 'm7perf',\n",
       " 'mlat',\n",
       " 'mlon']"
      ]
     },
     "execution_count": 33,
     "metadata": {},
     "output_type": "execute_result"
    }
   ],
   "source": []
  },
  {
   "cell_type": "code",
   "execution_count": 15,
   "metadata": {
    "collapsed": false
   },
   "outputs": [],
   "source": [
    "featTab.to_csv('features.csv')"
   ]
  },
  {
   "cell_type": "code",
   "execution_count": 11,
   "metadata": {
    "collapsed": false
   },
   "outputs": [],
   "source": [
    "#prepare for training\n",
    "target_num_map = {'high':0, 'medium':1, 'low':2}\n",
    "\n",
    "train_X = train_df[features]\n",
    "test_X = test_df[features]\n",
    "\n",
    "train_y = np.array(train_df['interest_level'].apply(lambda x: target_num_map[x]))"
   ]
  },
  {
   "cell_type": "code",
   "execution_count": 12,
   "metadata": {
    "collapsed": false
   },
   "outputs": [],
   "source": [
    "KF=KFold(len(train_X),5,shuffle=True,random_state = 42)"
   ]
  },
  {
   "cell_type": "code",
   "execution_count": 15,
   "metadata": {
    "collapsed": false
   },
   "outputs": [
    {
     "name": "stdout",
     "output_type": "stream",
     "text": [
      "[0.57916715126667773, 0.58109847115140512, 0.5826094714742206, 0.56926810492087432, 0.58425313105533438]\n",
      "0.579279265974\n"
     ]
    }
   ],
   "source": [
    "#cross-validation\n",
    "cv_scores = []\n",
    "\n",
    "#using entropy\n",
    "for dev_index, val_index in KF:\n",
    "        dev_X, val_X = train_X.iloc[dev_index,:], train_X.iloc[val_index,:]\n",
    "        dev_y, val_y = train_y[dev_index], train_y[val_index]\n",
    "        \n",
    "        #random forest us\n",
    "        rf30 = ensemble.RandomForestClassifier(500,random_state = 42,class_weight='balanced',n_jobs =6)\n",
    "        rf30.fit(dev_X,dev_y)\n",
    "        preds = rf30.predict_proba(val_X)\n",
    "        \n",
    "        cv_scores.append(log_loss(val_y, preds))\n",
    "\n",
    "print(cv_scores)\n",
    "print np.mean(cv_scores)"
   ]
  },
  {
   "cell_type": "code",
   "execution_count": 20,
   "metadata": {
    "collapsed": false
   },
   "outputs": [
    {
     "data": {
      "text/plain": [
       "216"
      ]
     },
     "execution_count": 20,
     "metadata": {},
     "output_type": "execute_result"
    }
   ],
   "source": [
    "len(features)"
   ]
  }
 ],
 "metadata": {
  "kernelspec": {
   "display_name": "Python 2",
   "language": "python",
   "name": "python2"
  },
  "language_info": {
   "codemirror_mode": {
    "name": "ipython",
    "version": 2
   },
   "file_extension": ".py",
   "mimetype": "text/x-python",
   "name": "python",
   "nbconvert_exporter": "python",
   "pygments_lexer": "ipython2",
   "version": "2.7.13"
  }
 },
 "nbformat": 4,
 "nbformat_minor": 2
}
