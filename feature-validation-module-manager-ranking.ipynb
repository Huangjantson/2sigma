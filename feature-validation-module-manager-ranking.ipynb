{
 "cells": [
  {
   "cell_type": "code",
   "execution_count": 3,
   "metadata": {
    "collapsed": false
   },
   "outputs": [],
   "source": [
    "import numpy as np\n",
    "import pandas as pd\n",
    "import xgboost as xgb\n",
    "from sklearn import  preprocessing, ensemble\n",
    "from sklearn.metrics import log_loss\n",
    "from sklearn.cross_validation import KFold,StratifiedKFold\n",
    "import matplotlib.pyplot as plt"
   ]
  },
  {
   "cell_type": "code",
   "execution_count": 4,
   "metadata": {
    "collapsed": false
   },
   "outputs": [],
   "source": [
    "#try xgboost\n",
    "#fucntion from SRK\n",
    "def runXGB(train_X, train_y, test_X, test_y=None, feature_names=None, \\\n",
    "     seed_val=0, early_stop = 20,num_rounds=10000, eta = 0.1,\\\n",
    "     max_depth = 6,cv_dict = None,verbose_eval=True):\n",
    "    param = {}\n",
    "    param['objective'] = 'multi:softprob'\n",
    "    param['eta'] = eta\n",
    "    param['max_depth'] = max_depth\n",
    "    param['silent'] = 1\n",
    "    param['num_class'] = 3\n",
    "    param['eval_metric'] = \"mlogloss\"\n",
    "    param['min_child_weight'] = 1\n",
    "    param['subsample'] = 0.7\n",
    "    param['colsample_bytree'] = 0.7\n",
    "    param['seed'] = seed_val\n",
    "    num_rounds = num_rounds\n",
    "\n",
    "    plst = list(param.items())\n",
    "    xgtrain = xgb.DMatrix(train_X, label=train_y,feature_names=feature_names)\n",
    "\n",
    "    if test_y is not None:\n",
    "        xgtest = xgb.DMatrix(test_X, label=test_y,feature_names=feature_names)\n",
    "        watchlist = [ (xgtrain,'train'), (xgtest, 'test') ]\n",
    "        model = xgb.train(plst, xgtrain, num_rounds, watchlist,\\\n",
    "        early_stopping_rounds=early_stop,evals_result = cv_dict,verbose_eval = verbose_eval)\n",
    "    else:\n",
    "        xgtest = xgb.DMatrix(test_X,feature_names=feature_names)\n",
    "        model = xgb.train(plst, xgtrain, num_rounds)\n",
    "\n",
    "    pred_test_y = model.predict(xgtest)\n",
    "    return pred_test_y, model\n",
    "\n",
    "class CVstatistics(object):\n",
    "    \n",
    "    \"\"\"\n",
    "    self.result : the result dataframe storing the cv results\n",
    "    self.endpoint : the first ending point for the validations\n",
    "    self.turns: the turns for each validation\n",
    "    \n",
    "    validCurve : plot the validation curve,stop at the first endpoint\n",
    "    \"\"\"\n",
    "    def __init__(self,result_dict,metric,k=5):\n",
    "        self.metric = metric\n",
    "        if type(result_dict) == pd.DataFrame:\n",
    "            self.result = result_dict\n",
    "        else:\n",
    "            tempDict = {}\n",
    "            for phase in ['train','test']:\n",
    "                for turn in range(k):\n",
    "                    tempDict[phase+str(turn)]=cv_result[turn][phase][metric]\n",
    "                    self.result=pd.DataFrame(dict([ (key,pd.Series(v)) for key,v in tempDict.iteritems()]))    \n",
    "        \n",
    "        self.endpoint =len(self.result.filter(like = 'train').dropna())\n",
    "        \n",
    "        self.turns = self.result.filter(like = 'test').\\\n",
    "            apply(lambda x : ~np.isnan(x)).cumsum(axis=0).iloc[len(self.result)-1,:]\n",
    "\n",
    "    def validCurve(self,start=0,stop_at_first = True):\n",
    "        if stop_at_first:\n",
    "            eout = self.result.filter(like = 'test').dropna().mean(axis=1)\n",
    "            ein =  self.result.filter(like = 'train').dropna().mean(axis=1)\n",
    "        else:\n",
    "            eout = self.result.filter(like = 'test').mean(axis=1)\n",
    "            ein =  self.result.filter(like = 'train').mean(axis=1)\n",
    "        plt.plot(range(len(eout)), eout,\n",
    "        range(len(ein)), ein)\n",
    "        plt.xlabel(\"turn\")\n",
    "        plt.ylabel(self.metric)\n",
    "        plt.title('Validation Curve')\n",
    "        \n",
    "        plt.show()\n",
    "    \n",
    "    def errorsAt(self,turn):\n",
    "        eout = self.result.filter(like = 'test').loc[turn].mean()\n",
    "        ein = self.result.filter(like = 'train').loc[turn].mean()\n",
    "        return eout,ein\n",
    "    \n",
    "\n",
    "def showImportance(model,factor_name):\n",
    "    factors = model.get_score(importance_type=factor_name)\n",
    "    factor_list = []\n",
    "    total = sum(factors.values())\n",
    "    for key in factors:\n",
    "        factors[key] = factors[key]*1.0/total\n",
    "        factor_list.append((key,factors[key]))\n",
    "    return sorted(factor_list,key=lambda x : x[1],reverse=True)\n",
    "    \n"
   ]
  },
  {
   "cell_type": "code",
   "execution_count": 5,
   "metadata": {
    "collapsed": true
   },
   "outputs": [],
   "source": [
    "#from \"this is a lit\"s python version by rakhlin\n",
    "def singleValueConvert(df1,df2,column,minimum_size=5):\n",
    "    ps = df1[column].append(df2[column])\n",
    "    grouped = ps.groupby(ps).size().to_frame().rename(columns={0: \"size\"})\n",
    "    df1.loc[df1.join(grouped, on=column, how=\"left\")[\"size\"] <= minimum_size, column] = -1\n",
    "    df2.loc[df2.join(grouped, on=column, how=\"left\")[\"size\"] <= minimum_size, column] = -1\n",
    "    return df1, df2"
   ]
  },
  {
   "cell_type": "code",
   "execution_count": 6,
   "metadata": {
    "collapsed": true
   },
   "outputs": [],
   "source": [
    "#the new one not using cv-manner for the statistics\n",
    "def categorical_statistics(train_df,test_df,cf,nf,\\\n",
    "                           get_median=True,get_min = True,get_max = True,\\\n",
    "                           get_normalized_in_group = True,mini_size = 20):\n",
    "    statistics ={}\n",
    "    statistics['mean']='mean'\n",
    "    statistics['std']='std'\n",
    "    statistics['size']='size'\n",
    "\n",
    "    if get_max:\n",
    "        statistics['max']='max'\n",
    "    if get_min:\n",
    "        statistics['min']='min'\n",
    "    if get_median:\n",
    "        statistics['median']='median'\n",
    "        \n",
    "    values = train_df.groupby(cf)[nf].agg(statistics)\n",
    "    values = values.add_prefix(cf+'_'+nf+'_')\n",
    "    \n",
    "    new_feature = list(values.columns)\n",
    "    \n",
    "    #consider using -1 for others\n",
    "    updateTest = test_df[[cf]].join(values, on = cf, how=\"left\")[new_feature]#.fillna(-1)\n",
    "    updateTrain = train_df[[cf]].join(values, on = cf, how=\"left\")[new_feature]#.fillna(-1)\n",
    "        \n",
    "    for f in new_feature:\n",
    "        if f not in test_df.columns: \n",
    "            test_df[f] = np.nan\n",
    "        if f not in train_df.columns:\n",
    "            train_df[f] = np.nan\n",
    "    #update the statistics excluding the normalized value\n",
    "    test_df.update(updateTest)\n",
    "    train_df.update(updateTrain)\n",
    "    \n",
    "    #update the normalized value \n",
    "    if get_normalized_in_group:\n",
    "        normal_feature = cf+'_'+nf+'_normalized'\n",
    "        train_df.ix[train_df[cf+'_'+nf+'_'+'size']>=mini_size,normal_feature] = \\\n",
    "                              (train_df[nf]-train_df[cf+'_'+nf+'_mean'])/train_df[cf+'_'+nf+'_std']\n",
    "        train_df.ix[train_df[cf+'_'+nf+'_'+'size']< mini_size,normal_feature] =0\n",
    "        \n",
    "        test_df.ix[test_df[cf+'_'+nf+'_'+'size']>=mini_size,normal_feature] = \\\n",
    "                              (test_df[nf]-test_df[cf+'_'+nf+'_mean'])/test_df[cf+'_'+nf+'_std']\n",
    "        test_df.ix[test_df[cf+'_'+nf+'_'+'size']< mini_size,normal_feature] =0\n",
    "        \n",
    "        train_df[cf+'_'+nf+'_normalized']=train_df[cf+'_'+nf+'_normalized'].fillna(0)\n",
    "        test_df[cf+'_'+nf+'_normalized']=test_df[cf+'_'+nf+'_normalized'].fillna(0)\n",
    "        \n",
    "    for f in new_feature:\n",
    "        train_df[f] = train_df[f].fillna(-1)\n",
    "        test_df[f] = test_df[f].fillna(-1)"
   ]
  },
  {
   "cell_type": "code",
   "execution_count": 50,
   "metadata": {
    "collapsed": true
   },
   "outputs": [],
   "source": [
    "def manager_lon_lat(train_df,test_df):\n",
    "    \n",
    "    #adding the features about distance and location\n",
    "    temp=train_df[['manager_id',\"latitude\", \"longitude\"]].dropna()\n",
    "    mean_value = temp.groupby('manager_id')[[\"latitude\", \"longitude\"]].mean().round(4)\n",
    "    mean_value.columns = ['mlat','mlon']\n",
    "    std_value = train_df.groupby('manager_id')[[\"latitude\", \"longitude\"]].std()\n",
    "    mstd = std_value[[\"latitude\", \"longitude\"]].mean()\n",
    "    std_value['latitude']=std_value['latitude'].fillna(mstd['latitude'])\n",
    "    std_value['longitude']=std_value['longitude'].fillna(mstd['longitude'])\n",
    "    #manager mean distance\n",
    "    std_value['m_m_distance'] = map(lambda x,y:np.sqrt(x**2+y**2).round(4),\\\n",
    "                                    std_value['latitude'],std_value['longitude'])\n",
    "    \n",
    "    value = pd.concat([mean_value,std_value])\n",
    "\n",
    "    updateMTest = test_df[['manager_id']].join(mean_value, on = 'manager_id', how=\"left\")[['mlat','mlon']].fillna(-1)\n",
    "    updateDTest = test_df[['manager_id']].join(std_value, on='manager_id', how=\"left\")['m_m_distance'].fillna(-1)\n",
    "    updateMTrain = train_df[['manager_id']].join(mean_value, on = 'manager_id', how=\"left\")[['mlat','mlon']].fillna(-1)\n",
    "    updateDTrain = train_df[['manager_id']].join(std_value, on='manager_id', how=\"left\")['m_m_distance'].fillna(-1)\n",
    "    \n",
    "    for f in ['mlat','mlon','m_m_distance']:\n",
    "        if f not in test_df.columns: \n",
    "            test_df[f] = np.nan\n",
    "        if f not in train_df.columns: \n",
    "            train_df[f] = np.nan\n",
    "    \n",
    "    test_df.update(updateDTest)\n",
    "    test_df.update(updateMTest)\n",
    "    \n",
    "    train_df.update(updateDTrain)\n",
    "    train_df.update(updateMTrain)\n",
    "    \n",
    "    \n",
    "def categorical_size(train_df,test_df,cf):\n",
    "    values =train_df.groupby(cf)['interest_level'].agg({'size':'size'})\n",
    "    values = values.add_prefix(cf+'_')\n",
    "    new_feature = list(values.columns)\n",
    "    updateTest = test_df[[cf]].join(values, on = cf, how=\"left\")[new_feature].fillna(-1)\n",
    "    updateTrain = train_df[[cf]].join(values, on = cf, how=\"left\")[new_feature]#.fillna(-1)\n",
    "    \n",
    "    for f in new_feature:\n",
    "        if f not in test_df.columns: \n",
    "            test_df[f] = np.nan\n",
    "        if f not in train_df.columns:\n",
    "            train_df[f] = np.nan\n",
    "    #update the statistics excluding the normalized value\n",
    "    test_df.update(updateTest)\n",
    "    train_df.update(updateTrain)"
   ]
  },
  {
   "cell_type": "code",
   "execution_count": 37,
   "metadata": {
    "collapsed": true
   },
   "outputs": [],
   "source": [
    "#from \"this is a lit\"s python version by rakhlin\n",
    "def singleValueConvert(df1,df2,column,minimum_size=5):\n",
    "    ps = df1[column].append(df2[column])\n",
    "    grouped = ps.groupby(ps).size().to_frame().rename(columns={0: \"size\"})\n",
    "    df1.loc[df1.join(grouped, on=column, how=\"left\")[\"size\"] <= minimum_size, column] = -1\n",
    "    df2.loc[df2.join(grouped, on=column, how=\"left\")[\"size\"] <= minimum_size, column] = -1\n",
    "    return df1, df2\n",
    "\n",
    "#add ranking for this function\n",
    "def performance_eval(train_df,test_df,feature,k,smoothing=True,g=1,f=1,update_df =None,random = None):\n",
    "    target_num_map = {'High':2, 'Medium':1, 'Low':0}\n",
    "    temp=pd.concat([train_df[feature],pd.get_dummies(train_df.interest_level)], axis = 1)\\\n",
    "         .groupby(feature).mean()\n",
    "     \n",
    "    new_feature = feature+'_perf'\n",
    "    new_rank = feature+'_rank'\n",
    "    new_nrank = feature+'_nrank'\n",
    "    \n",
    "    temp.columns = ['tempHigh','tempLow', 'tempMed']\n",
    "    \n",
    "    temp[feature+'_origin'] = temp['tempHigh']*2 + temp['tempMed']\n",
    "    mean_values = temp.loc[:, feature+'_origin'].mean()\n",
    "\n",
    "    temp['count'] = train_df.groupby(feature).count().iloc[:,1]\n",
    "    if smoothing:\n",
    "        temp[\"lambda\"] = g / (g + np.exp((k - temp[\"count\"] )/f))\n",
    "        temp[new_feature] = temp[\"lambda\"]*temp[feature+'_origin']+(1-temp[\"lambda\"])*mean_values\n",
    "    else:\n",
    "        temp[new_feature] = temp[feature+'_origin']\n",
    "        \n",
    "    temp[new_rank]=temp[new_feature].rank()\n",
    "    temp[new_nrank]=temp[new_rank]/temp['count']\n",
    "    \n",
    "    # Add uniform noise. Not mentioned in original paper.adding to each manager\n",
    "    if random:\n",
    "        temp[new_feature] *= np.random.uniform(1 - random, 1 + random, len(temp))     \n",
    "\n",
    "    value = test_df[[feature]].join(temp, on=feature, how=\"left\")[[new_feature,new_rank,new_nrank]].fillna(mean_values)\n",
    "    \n",
    "    if update_df is None: update_df = test_df\n",
    "    if new_feature not in update_df.columns: update_df[new_feature] = np.nan\n",
    "    if new_rank not in update_df.columns: update_df[new_rank] = np.nan\n",
    "    if new_nrank not in update_df.columns: update_df[new_nrank] = np.nan\n",
    "\n",
    "    update_df.update(value)"
   ]
  },
  {
   "cell_type": "code",
   "execution_count": 9,
   "metadata": {
    "collapsed": false
   },
   "outputs": [
    {
     "name": "stdout",
     "output_type": "stream",
     "text": [
      "(49352, 15)\n",
      "(74659, 14)\n"
     ]
    }
   ],
   "source": [
    "#lodaing data\n",
    "data_path = \"../../kaggleData/2sigma/\"\n",
    "train_file = data_path + \"train.json\"\n",
    "test_file = data_path + \"test.json\"\n",
    "train_df = pd.read_json(train_file)\n",
    "test_df = pd.read_json(test_file)\n",
    "print(train_df.shape)\n",
    "print(test_df.shape)\n"
   ]
  },
  {
   "cell_type": "code",
   "execution_count": 10,
   "metadata": {
    "collapsed": true
   },
   "outputs": [],
   "source": [
    "#basic numerical features\n",
    "features_to_use  = [\"bathrooms\", \"bedrooms\", \"latitude\", \"longitude\", \"price\"]"
   ]
  },
  {
   "cell_type": "code",
   "execution_count": 11,
   "metadata": {
    "collapsed": false
   },
   "outputs": [],
   "source": [
    "#some transfromed features\n",
    "# count of photos #\n",
    "train_df[\"num_photos\"] = train_df[\"photos\"].apply(len)\n",
    "\n",
    "# count of \"features\" #\n",
    "train_df[\"num_features\"] = train_df[\"features\"].apply(len)\n",
    "\n",
    "# count of words present in description column #\n",
    "train_df[\"num_description_words\"] = train_df[\"description\"].apply(lambda x: len(x.split(\" \")))\n",
    "\n",
    "# convert the created column to datetime object so as to extract more features \n",
    "train_df[\"created\"] = pd.to_datetime(train_df[\"created\"])\n",
    "\n",
    "# Let us extract some features like year, month, day, hour from date columns #\n",
    "train_df[\"created_year\"] = train_df[\"created\"].dt.year\n",
    "train_df[\"created_month\"] = train_df[\"created\"].dt.month\n",
    "train_df[\"created_day\"] = train_df[\"created\"].dt.day\n",
    "train_df[\"created_hour\"] = train_df[\"created\"].dt.hour\n",
    "\n",
    "#some new numerical features related to the price\n",
    "train_df[\"price_per_bath\"] =  (train_df[\"price\"]*1.0/train_df[\"bathrooms\"]).replace(np.Inf,-1)\n",
    "train_df[\"price_per_bed\"] = (train_df[\"price\"]*1.0/train_df[\"bedrooms\"]).replace(np.Inf,-1)\n",
    "train_df[\"bath_per_bed\"] = (train_df[\"bathrooms\"]*1.0/train_df[\"bedrooms\"]).replace(np.Inf,-1)\n",
    "train_df[\"price_per_room\"] = (train_df[\"price\"]*1.0/(train_df[\"bedrooms\"]+train_df[\"bathrooms\"])).replace(np.Inf,-1)\n",
    "\n",
    "# adding all these new features to use list # \"listing_id\",\n",
    "features_to_use.extend([\"num_photos\", \"num_features\", \"num_description_words\",\\\n",
    "                        \"created_year\",\"listing_id\", \"created_month\", \"created_day\", \"created_hour\"])\n",
    "#price new features\n",
    "features_to_use.extend([\"price_per_bed\",\"bath_per_bed\",\"price_per_room\"])\n"
   ]
  },
  {
   "cell_type": "code",
   "execution_count": 12,
   "metadata": {
    "collapsed": true
   },
   "outputs": [],
   "source": [
    "train_df,test_df  = singleValueConvert(train_df,test_df,'manager_id',1)"
   ]
  },
  {
   "cell_type": "code",
   "execution_count": 51,
   "metadata": {
    "collapsed": false
   },
   "outputs": [],
   "source": [
    "features = list(features_to_use)\n",
    "categorical = [\"display_address\", \"street_address\",'building_id','manager_id']\n",
    "features.extend(categorical)\n",
    "features.extend(['manager_id_perf','manager_id_nrank'])#,'manager_id_rank'])\n",
    "\n",
    "#new features\n",
    "features.extend(['m_m_distance','mlon','mlat'])\n",
    "#features.extend(['m_mean_bathrooms','m_mean_bedrooms','m_mean_price','m_mean_price_per_bed',\\\n",
    "#                 'm_mean_bath_per_bed','m_mean_price_per_room','m_mean_num_photos',\\\n",
    "#                 'm_mean_num_features','m_mean_num_description_words'])\n",
    "\n",
    "#features.extend(['m_std_bathrooms','m_std_bedrooms','m_std_price','m_std_price_per_bed',\\\n",
    "#                 'm_std_bath_per_bed','m_std_price_per_room','m_std_num_photos','m_std_num_features',\\\n",
    "#                 'm_std_num_description_words'])"
   ]
  },
  {
   "cell_type": "code",
   "execution_count": 14,
   "metadata": {
    "collapsed": false
   },
   "outputs": [],
   "source": [
    "#prepare for training\n",
    "target_num_map = {'high':0, 'medium':1, 'low':2}\n",
    "\n",
    "train_y = np.array(train_df['interest_level'].apply(lambda x: target_num_map[x]))\n",
    "\n",
    "KF=KFold(len(train_df),5,shuffle=True,random_state = 42)"
   ]
  },
  {
   "cell_type": "code",
   "execution_count": 52,
   "metadata": {
    "collapsed": false,
    "scrolled": true
   },
   "outputs": [
    {
     "name": "stderr",
     "output_type": "stream",
     "text": [
      "/opt/anaconda2/lib/python2.7/site-packages/ipykernel/__main__.py:40: SettingWithCopyWarning: \n",
      "A value is trying to be set on a copy of a slice from a DataFrame.\n",
      "Try using .loc[row_indexer,col_indexer] = value instead\n",
      "\n",
      "See the caveats in the documentation: http://pandas.pydata.org/pandas-docs/stable/indexing.html#indexing-view-versus-copy\n",
      "/opt/anaconda2/lib/python2.7/site-packages/ipykernel/__main__.py:41: SettingWithCopyWarning: \n",
      "A value is trying to be set on a copy of a slice from a DataFrame.\n",
      "Try using .loc[row_indexer,col_indexer] = value instead\n",
      "\n",
      "See the caveats in the documentation: http://pandas.pydata.org/pandas-docs/stable/indexing.html#indexing-view-versus-copy\n",
      "/opt/anaconda2/lib/python2.7/site-packages/ipykernel/__main__.py:42: SettingWithCopyWarning: \n",
      "A value is trying to be set on a copy of a slice from a DataFrame.\n",
      "Try using .loc[row_indexer,col_indexer] = value instead\n",
      "\n",
      "See the caveats in the documentation: http://pandas.pydata.org/pandas-docs/stable/indexing.html#indexing-view-versus-copy\n",
      "/opt/anaconda2/lib/python2.7/site-packages/ipykernel/__main__.py:23: SettingWithCopyWarning: \n",
      "A value is trying to be set on a copy of a slice from a DataFrame.\n",
      "Try using .loc[row_indexer,col_indexer] = value instead\n",
      "\n",
      "See the caveats in the documentation: http://pandas.pydata.org/pandas-docs/stable/indexing.html#indexing-view-versus-copy\n",
      "/opt/anaconda2/lib/python2.7/site-packages/ipykernel/__main__.py:25: SettingWithCopyWarning: \n",
      "A value is trying to be set on a copy of a slice from a DataFrame.\n",
      "Try using .loc[row_indexer,col_indexer] = value instead\n",
      "\n",
      "See the caveats in the documentation: http://pandas.pydata.org/pandas-docs/stable/indexing.html#indexing-view-versus-copy\n",
      "/opt/anaconda2/lib/python2.7/site-packages/ipykernel/__main__.py:29: SettingWithCopyWarning: \n",
      "A value is trying to be set on a copy of a slice from a DataFrame.\n",
      "Try using .loc[row_indexer,col_indexer] = value instead\n",
      "\n",
      "See the caveats in the documentation: http://pandas.pydata.org/pandas-docs/stable/indexing.html#indexing-view-versus-copy\n",
      "/opt/anaconda2/lib/python2.7/site-packages/ipykernel/__main__.py:30: SettingWithCopyWarning: \n",
      "A value is trying to be set on a copy of a slice from a DataFrame.\n",
      "Try using .loc[row_indexer,col_indexer] = value instead\n",
      "\n",
      "See the caveats in the documentation: http://pandas.pydata.org/pandas-docs/stable/indexing.html#indexing-view-versus-copy\n"
     ]
    },
    {
     "name": "stdout",
     "output_type": "stream",
     "text": [
      "loss for the turn 1 is 0.541205313666\n",
      "loss for the turn 2 is 0.541075061867\n",
      "loss for the turn 3 is 0.54099955609\n",
      "loss for the turn 4 is 0.536257232868\n",
      "loss for the turn 5 is 0.542640364692\n"
     ]
    }
   ],
   "source": [
    "#running and getting the cv from xgboost\n",
    "cv_scores = []\n",
    "cv_result = []\n",
    "\n",
    "#K-FOLD already defined.If not ,use\n",
    "#KF=KFold(len(train_X),5,shuffle=True,random_state = 42)\n",
    "i=0\n",
    "for dev_index, val_index in KF:\n",
    "        result_dict = {}\n",
    "                \n",
    "        #split the orginal train set into dev_set and val_set\n",
    "        dev_set, val_set = train_df.iloc[dev_index,:] , train_df.iloc[val_index,:] \n",
    "        \n",
    "        \"\"\"some preprocessing like feature constructed in cv manners\"\"\"\n",
    "        skf=StratifiedKFold(dev_set['interest_level'],5,shuffle=True,random_state = 42)\n",
    "        #dev set adding manager skill\n",
    "        for train,test in skf:\n",
    "            performance_eval(dev_set.iloc[train,:],dev_set.iloc[test,:],feature='manager_id',k=5,g=10,\n",
    "                           update_df = dev_set,smoothing=False)\n",
    "        performance_eval(dev_set,val_set,feature='manager_id',k=5,g=10,smoothing=False)\n",
    "        \n",
    "        manager_lon_lat(dev_set,val_set)\n",
    "        \n",
    "        for f in categorical:\n",
    "            if dev_set[f].dtype=='object':\n",
    "                #print(f)\n",
    "                lbl = preprocessing.LabelEncoder()\n",
    "                lbl.fit(list(dev_set[f])+list(val_set[f]))\n",
    "                dev_set[f] = lbl.transform(list(dev_set[f].values))\n",
    "                val_set[f] = lbl.transform(list(val_set[f].values))\n",
    "        \n",
    "        dev_X, val_X = dev_set[features].as_matrix(), val_set[features].as_matrix()\n",
    "        dev_y, val_y = train_y[dev_index], train_y[val_index]\n",
    "        \n",
    "        \"\"\" \n",
    "         runXGB(train_X, train_y, test_X, test_y=None, feature_names=None, \\\n",
    "         seed_val=0, early_stop = 20,num_rounds=10000, eta = 0.1,\\\n",
    "         max_depth = 6,cv_dict = None):\n",
    "         \"\"\"\n",
    "        \n",
    "        preds, model = runXGB(dev_X, dev_y, val_X, val_y,early_stop  = 20,\\\n",
    "                              feature_names = features,cv_dict = result_dict,verbose_eval=False)\n",
    "        loss = log_loss(val_y, preds)\n",
    "        cv_scores.append(loss)\n",
    "        cv_result.append(result_dict)\n",
    "        i+=1\n",
    "        print 'loss for the turn '+str(i)+' is '+str(loss)"
   ]
  },
  {
   "cell_type": "code",
   "execution_count": 13,
   "metadata": {
    "collapsed": false
   },
   "outputs": [
    {
     "data": {
      "text/plain": [
       "test0    363\n",
       "test1    330\n",
       "test2    340\n",
       "test3    375\n",
       "test4    309\n",
       "Name: 374, dtype: int32"
      ]
     },
     "execution_count": 13,
     "metadata": {},
     "output_type": "execute_result"
    }
   ],
   "source": [
    "#plot the validation curv\n",
    "cvResult = CVstatistics(cv_result,'mlogloss')\n",
    "cvResult.turns"
   ]
  },
  {
   "cell_type": "code",
   "execution_count": 41,
   "metadata": {
    "collapsed": false
   },
   "outputs": [
    {
     "data": {
      "text/plain": [
       "Index([            u'bathrooms',              u'bedrooms',\n",
       "                 u'building_id',               u'created',\n",
       "                 u'description',       u'display_address',\n",
       "                    u'features',        u'interest_level',\n",
       "                    u'latitude',            u'listing_id',\n",
       "                   u'longitude',            u'manager_id',\n",
       "                      u'photos',                 u'price',\n",
       "              u'street_address',            u'num_photos',\n",
       "                u'num_features', u'num_description_words',\n",
       "                u'created_year',         u'created_month',\n",
       "                 u'created_day',          u'created_hour',\n",
       "              u'price_per_bath',         u'price_per_bed',\n",
       "                u'bath_per_bed',        u'price_per_room',\n",
       "             u'manager_id_perf',       u'manager_id_rank',\n",
       "            u'manager_id_nrank'],\n",
       "      dtype='object')"
      ]
     },
     "execution_count": 41,
     "metadata": {},
     "output_type": "execute_result"
    }
   ],
   "source": [
    "dev_set.columns"
   ]
  },
  {
   "cell_type": "code",
   "execution_count": 53,
   "metadata": {
    "collapsed": false
   },
   "outputs": [
    {
     "data": {
      "text/plain": [
       "0.54043550583657518"
      ]
     },
     "execution_count": 53,
     "metadata": {},
     "output_type": "execute_result"
    }
   ],
   "source": [
    "#cvResult.validCurve(stop=False)\n",
    "#some errors at certain turn to see the descending\n",
    "cv_scores\n",
    "np.mean(cv_scores)"
   ]
  },
  {
   "cell_type": "code",
   "execution_count": 49,
   "metadata": {
    "collapsed": false
   },
   "outputs": [
    {
     "data": {
      "text/plain": [
       "[('manager_id_perf', 0.1779163150019739),\n",
       " ('price', 0.06993089086594802),\n",
       " ('price_per_bed', 0.05930946660133056),\n",
       " ('bathrooms', 0.05805780091792404),\n",
       " ('bedrooms', 0.05747880996695548),\n",
       " ('bath_per_bed', 0.05145312060575195),\n",
       " ('building_id', 0.05121131946896568),\n",
       " ('price_per_room', 0.050984592547528934),\n",
       " ('num_features', 0.04036526912959051),\n",
       " ('longitude', 0.04023480203071151),\n",
       " ('num_photos', 0.04019668503967685),\n",
       " ('latitude', 0.039253473311456615),\n",
       " ('created_hour', 0.03561258903317282),\n",
       " ('manager_id_nrank', 0.03128699074697629),\n",
       " ('listing_id', 0.029991333326323196),\n",
       " ('street_address', 0.029884237209319976),\n",
       " ('num_description_words', 0.029670880986026715),\n",
       " ('display_address', 0.02911134725264291),\n",
       " ('manager_id', 0.02745103521961843),\n",
       " ('created_month', 0.026534532982693905),\n",
       " ('created_day', 0.02406450775541194)]"
      ]
     },
     "execution_count": 49,
     "metadata": {},
     "output_type": "execute_result"
    }
   ],
   "source": [
    "#show the importance of the features\n",
    "showImportance(model,'gain')"
   ]
  }
 ],
 "metadata": {
  "anaconda-cloud": {},
  "kernelspec": {
   "display_name": "Python 2",
   "language": "python",
   "name": "python2"
  },
  "language_info": {
   "codemirror_mode": {
    "name": "ipython",
    "version": 2
   },
   "file_extension": ".py",
   "mimetype": "text/x-python",
   "name": "python",
   "nbconvert_exporter": "python",
   "pygments_lexer": "ipython2",
   "version": "2.7.13"
  }
 },
 "nbformat": 4,
 "nbformat_minor": 0
}
