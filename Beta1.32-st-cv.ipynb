{
 "cells": [
  {
   "cell_type": "code",
   "execution_count": 2,
   "metadata": {
    "collapsed": false
   },
   "outputs": [],
   "source": [
    "import numpy as np\n",
    "import pandas as pd\n",
    "import xgboost as xgb\n",
    "from sklearn import  preprocessing, ensemble\n",
    "from sklearn.metrics import log_loss,accuracy_score\n",
    "from sklearn.cross_validation import KFold,StratifiedKFold\n",
    "import re\n",
    "import string\n",
    "from collections import defaultdict, Counter\n",
    "import matplotlib.pyplot as plt\n",
    "from sklearn.cluster import KMeans"
   ]
  },
  {
   "cell_type": "code",
   "execution_count": 65,
   "metadata": {
    "collapsed": true
   },
   "outputs": [],
   "source": [
    "#try xgboost\n",
    "#original fucntion from SRK\n",
    "def runXGB(train_X, train_y, test_X, test_y=None, feature_names=None, \\\n",
    "     seed_val=0, early_stop = 20,num_rounds=10000, eta = 0.1,\\\n",
    "     max_depth = 6,cv_dict = None,verbose_eval=True):\n",
    "    param = {}\n",
    "    param['objective'] = 'multi:softprob'\n",
    "    param['eta'] = eta\n",
    "    param['max_depth'] = max_depth\n",
    "    param['silent'] = 1\n",
    "    param['num_class'] = 3\n",
    "    param['eval_metric'] = \"mlogloss\"\n",
    "    param['min_child_weight'] = 1\n",
    "    param['subsample'] = 0.7\n",
    "    param['colsample_bytree'] = 0.7\n",
    "    param['seed'] = seed_val\n",
    "    num_rounds = num_rounds\n",
    "\n",
    "    plst = list(param.items())\n",
    "    xgtrain = xgb.DMatrix(train_X, label=train_y,feature_names=feature_names)\n",
    "\n",
    "    if test_y is not None:\n",
    "        xgtest = xgb.DMatrix(test_X, label=test_y,feature_names=feature_names)\n",
    "        watchlist = [ (xgtrain,'train'), (xgtest, 'test') ]\n",
    "        model = xgb.train(plst, xgtrain, num_rounds, watchlist,\\\n",
    "        early_stopping_rounds=early_stop,evals_result = cv_dict,verbose_eval = verbose_eval)\n",
    "    else:\n",
    "        xgtest = xgb.DMatrix(test_X,feature_names=feature_names)\n",
    "        model = xgb.train(plst, xgtrain, num_rounds)\n",
    "\n",
    "    pred_test_y = model.predict(xgtest)\n",
    "    return pred_test_y, model\n",
    "\n",
    "class CVstatistics(object):\n",
    "    \n",
    "    \"\"\"\n",
    "    self.result : the result dataframe storing the cv results\n",
    "    self.endpoint : the first ending point for the validations\n",
    "    self.turns: the turns for each validation\n",
    "    \n",
    "    validCurve : plot the validation curve,stop at the first endpoint\n",
    "    errorsAt: return the average errors at a certain turn\n",
    "    \"\"\"\n",
    "    def __init__(self,result_dict,metric,k=5):\n",
    "        self.metric = metric\n",
    "        if type(result_dict) == pd.DataFrame:\n",
    "            self.result = result_dict\n",
    "        else:\n",
    "            temp_dict = {}\n",
    "            for phase in ['train','test']:\n",
    "                for turn in range(k):\n",
    "                    temp_dict[phase+str(turn)]=cv_result[turn][phase][metric]\n",
    "                    self.result=pd.DataFrame(dict([ (key,pd.Series(v)) for key,v in temp_dict.iteritems()]))    \n",
    "        \n",
    "        self.endpoint =len(self.result.filter(like = 'train').dropna())\n",
    "        \n",
    "        self.turns = self.result.filter(like = 'test').\\\n",
    "            apply(lambda x : ~np.isnan(x)).cumsum(axis=0).iloc[len(self.result)-1,:]\n",
    "\n",
    "    def validCurve(self,start = 0, stop_at_first = True):\n",
    "        if stop_at_first:\n",
    "            eout = self.result.iloc[start:,:].filter(like = 'test').dropna().mean(axis=1)\n",
    "            ein =  self.result.iloc[start:,:].filter(like = 'train').dropna().mean(axis=1)\n",
    "        else:\n",
    "            eout = self.result.iloc[start:,:].filter(like = 'test').mean(axis=1)\n",
    "            ein =  self.result.iloc[start:,:].filter(like = 'train').mean(axis=1)\n",
    "        plt.plot(map(lambda x :x+start,range(len(eout))), eout,\n",
    "        map(lambda x :x+start,range(len(ein))), ein)\n",
    "        plt.xlabel(\"turn\")\n",
    "        plt.ylabel(self.metric)\n",
    "        plt.title('Validation Curve')\n",
    "        \n",
    "        plt.show()\n",
    "    \n",
    "    def eoutCurve(self,stop_at_first = True):\n",
    "        if stop_at_first:\n",
    "            eout = self.result.iloc[start:,:].filter(like = 'test').dropna().mean(axis=1)\n",
    "        else:\n",
    "            eout = self.result.iloc[start:,:].filter(like = 'test').mean(axis=1)\n",
    "        plt.plot(map(lambda x :x+start,range(len(eout))), eout)\n",
    "        plt.xlabel(\"turn\")\n",
    "        plt.ylabel(self.metric)\n",
    "        plt.title('Eout Curve')\n",
    "        \n",
    "        plt.show()\n",
    "        \n",
    "    def minAvgEout(self):\n",
    "        meanTestError = cvResult.result.filter(like='test').mean(axis=1)\n",
    "        return meanTestError[meanTestError==np.min(meanTestError)]\n",
    "    \n",
    "    def errorsAt(self,turn):\n",
    "        eout = self.result.filter(like = 'test').loc[turn].mean()\n",
    "        ein = self.result.filter(like = 'train').loc[turn].mean()\n",
    "        return eout,ein\n",
    "    \n",
    "def xgbImportance(model,factor_name):\n",
    "    factors = model.get_score(importance_type=factor_name)\n",
    "    factor_list = []\n",
    "    total = sum(factors.values())\n",
    "    for key in factors:\n",
    "        factors[key] = factors[key]*1.0/total\n",
    "        factor_list.append((key,factors[key]))\n",
    "    return sorted(factor_list,key=lambda x : x[1],reverse=True)\n",
    "    \n"
   ]
  },
  {
   "cell_type": "code",
   "execution_count": 4,
   "metadata": {
    "collapsed": true
   },
   "outputs": [],
   "source": [
    "#feature processing functions\n",
    "#define punctutaion filter\n",
    "def removePunctuation(x):\n",
    "    #filter the head or tail blanks\n",
    "    x = re.sub(r'^\\s+',r' ',x)\n",
    "    x = re.sub(r'\\s+$',r' ',x)\n",
    "    \n",
    "    # Lowercasing all words\n",
    "    x = x.lower()\n",
    "    # Removing non ASCII chars, warning if you are dealing with other languages!!!!!!!!!!!!!!!\n",
    "    x = re.sub(r'[^\\x00-\\x7f]',r' ',x)\n",
    "    #change all the blank to space\n",
    "    x = re.sub(r'\\s',r' ',x)\n",
    "    # Removing (replacing with empty spaces actually) all the punctuations\n",
    "    removing = string.punctuation#.replace('-','')# except '-'\n",
    "    removed = re.sub(\"[\"+removing+\"]\", \"\", x)\n",
    "    #removing the line-changing\n",
    "    #removed = re.sub('\\\\n',\" \",removed)    \n",
    "    return removed\n",
    "\n",
    "#feature processing functions\n",
    "def proecessStreet(address):\n",
    "    #remove the building number\n",
    "    pattern = re.compile('^[\\d-]*[\\s]+')\n",
    "    street = removePunctuation(pattern.sub('',address))\n",
    "    \n",
    "    #sub the st to street\n",
    "    pattern = re.compile('( st)$')\n",
    "    street = pattern.sub(' street',street)\n",
    "    \n",
    "    #sub the ave to avenue\n",
    "    pattern = re.compile('( ave)$')\n",
    "    street = pattern.sub(' avenue',street)\n",
    "    \n",
    "    pattern = re.compile('(\\d+)((th)|(st)|(rd)|(nd))')\n",
    "    street = pattern.sub('\\g<1>',street)\n",
    "    \n",
    "    #deal with the w 14 street => west 14 street\n",
    "    pattern = re.compile('(w)(\\s+)(\\d+)')    \n",
    "    street = pattern.sub('west \\g<3>',street)\n",
    "    \n",
    "    #deal with the e....\n",
    "    pattern = re.compile('(e)(\\s+)(\\d+)')    \n",
    "    street = pattern.sub('east \\g<3>',street)\n",
    "    \n",
    "    return street\n",
    "    \n",
    "#from \"this is a lit\"s python version by rakhlin\n",
    "def singleValueConvert(df1,df2,column,minimum_size=5):\n",
    "    ps = df1[column].append(df2[column])\n",
    "    grouped = ps.groupby(ps).size().to_frame().rename(columns={0: \"size\"})\n",
    "    df1.loc[df1.join(grouped, on=column, how=\"left\")[\"size\"] <= minimum_size, column] = -1\n",
    "    df2.loc[df2.join(grouped, on=column, how=\"left\")[\"size\"] <= minimum_size, column] = -1\n",
    "    return df1, df2\n",
    "\n",
    "def performance_eval(train_df,test_df,feature,k,g=1,f=1,update_df =None,random = None):\n",
    "    target_num_map = {'High':2, 'Medium':1, 'Low':0}\n",
    "    temp=pd.concat([train_df[feature],pd.get_dummies(train_df.interest_level)], axis = 1)\\\n",
    "         .groupby(feature).mean()\n",
    "     \n",
    "    new_feature = feature+'_perf'\n",
    "    \n",
    "    temp.columns = ['tempHigh','tempLow', 'tempMed']\n",
    "    \n",
    "    temp['count'] = train_df.groupby(feature).count().iloc[:,1]\n",
    "    temp[\"lambda\"] = g / (g + np.exp((k - temp[\"count\"] )/f))\n",
    "    temp[feature+'_origin'] = temp['tempHigh']*2 + temp['tempMed']\n",
    "    mean_values = temp.loc[:, feature+'_origin'].mean()\n",
    "    \n",
    "    temp[new_feature] = temp[\"lambda\"]*temp[feature+'_origin']+(1-temp[\"lambda\"])*mean_values    \n",
    "    \n",
    "    # Add uniform noise. Not mentioned in original paper.adding to each manager\n",
    "    if random:\n",
    "        temp[new_feature] *= np.random.uniform(1 - random, 1 + random, len(temp))     \n",
    "\n",
    "    value = test_df[[feature]].join(temp, on=feature, how=\"left\")[new_feature].fillna(mean_values)\n",
    "    \n",
    "    if update_df is None: update_df = test_df\n",
    "    if new_feature not in update_df.columns: update_df[new_feature] = np.nan\n",
    "    update_df.update(value)\n",
    "    \n",
    "#functions for features\n",
    "def featureList(train_df,test_df,limit = 0.001):\n",
    "    #acquiring the feature lists\n",
    "    features_in_train = train_df[\"features\"].apply(pd.Series).unstack().reset_index(drop = True).dropna().value_counts()\n",
    "    features_in_test = test_df[\"features\"].apply(pd.Series).unstack().reset_index(drop = True).dropna().value_counts()\n",
    "    \n",
    "    filtered_features_in_train = features_in_train[features_in_train > limit*len(train_df)]\n",
    "    filtered_features_in_test = features_in_test[features_in_test > limit*len(test_df)]\n",
    "    accept_list = set(filtered_features_in_train.index).union(set(filtered_features_in_test.index))\n",
    "    return accept_list\n",
    "\n",
    "def featureMapping(train_df,test_df,feature_list):\n",
    "    for feature in feature_list:\n",
    "        #add the feature column for both\n",
    "        #if feature in the row, then set the value for (row,feature) to 1\n",
    "        train_df['with_'+feature]=train_df['features'].apply(lambda x : 1 if feature in x else 0)\n",
    "        test_df['with_'+feature]=test_df['features'].apply(lambda x : 1 if feature in x else 0)\n",
    "    return\n",
    "\n",
    "#new function for clustering\n",
    "def getCluster(train_df,test_df,k):\n",
    "    cluster = KMeans(k,random_state = 2333)\n",
    "    cluster.fit(train_df[['latitude', 'longitude']].dropna())\n",
    "    train_df['cluster_id_'+str(k)]=map(lambda x,y: cluster.predict(np.array([x,y]).reshape(1,-1)) \\\n",
    "                           if ~(np.isnan(x)|np.isnan(y)) else -1,\\\n",
    "                           train_df['latitude'],train_df['longitude'])\n",
    "    test_df['cluster_id_'+str(k)]=map(lambda x,y: cluster.predict(np.array([x,y]).reshape(1,-1)) \\\n",
    "                           if ~(np.isnan(x)|np.isnan(y)) else -1,\\\n",
    "                           test_df['latitude'],test_df['longitude'])\n",
    "    \n",
    "#setting the outliers to be nan. to be test\n",
    "def processMap(df):\n",
    "    for i in ['latitude', 'longitude']:\n",
    "        Q1 = df[i].quantile(0.005)\n",
    "        Q3 = df[i].quantile(0.995)\n",
    "        IQR = Q3 - Q1\n",
    "        upper = Q3\n",
    "        lower = Q1\n",
    "        df.ix[(df[i]>upper)|(df[i]<lower),i] = np.nan\n",
    "        #df.ix[:,i] =  df[i].round(3) \n",
    "    return \n"
   ]
  },
  {
   "cell_type": "code",
   "execution_count": 5,
   "metadata": {
    "collapsed": true
   },
   "outputs": [],
   "source": [
    "#new feature : manager base distance and manager action scope\n",
    "#new features to be extended\n",
    "\"\"\"\n",
    "features.extend(['m_mean_bathrooms','m_mean_bedrooms','m_mean_price','m_mean_price_per_bed',\\\n",
    "                 'm_mean_bath_per_bed','m_mean_price_per_room','m_mean_num_photos',\\\n",
    "                 'm_mean_num_features','m_mean_num_description_words'])\n",
    "\"\"\"\n",
    "def manager_statistics(train_df,test_df,update_df =None,random = None):\n",
    "    \n",
    "    #adding the features about distance and location\n",
    "    temp=train_df[['manager_id',\"latitude\", \"longitude\"]].dropna()\n",
    "    mean_value = temp.groupby('manager_id')[[\"latitude\", \"longitude\"]].mean().round(4)\n",
    "    mean_value.columns = ['mlat','mlon']\n",
    "    std_value = train_df.groupby('manager_id')[[\"latitude\", \"longitude\"]].std()\n",
    "    mstd = std_value[[\"latitude\", \"longitude\"]].mean()\n",
    "    std_value['latitude']=std_value['latitude'].fillna(mstd['latitude'])\n",
    "    std_value['longitude']=std_value['longitude'].fillna(mstd['longitude'])\n",
    "    #manager mean distance\n",
    "    std_value['m_m_distance'] = map(lambda x,y:np.sqrt(x**2+y**2).round(4),\\\n",
    "                                    std_value['latitude'],std_value['longitude'])\n",
    "    \n",
    "    if random:\n",
    "        std_value['m_m_distance'] *= np.random.uniform(1 - random, 1 + random, len(std_value))\n",
    "        mean_value['mlat'] *= np.random.uniform(1 - random, 1 + random, len(mean_value))\n",
    "        mean_value['mlon'] *= np.random.uniform(1 - random, 1 + random, len(mean_value))\n",
    "\n",
    "    updateM = test_df[['manager_id']].join(mean_value, on = 'manager_id', how=\"left\")[['mlat','mlon']]\n",
    "    updateD = test_df[['manager_id']].join(std_value, on='manager_id', how=\"left\")['m_m_distance']\n",
    "    \n",
    "    if update_df is None: update_df = test_df\n",
    "    for f in ['mlat','mlon','m_m_distance']:\n",
    "        if f not in update_df.columns: \n",
    "            update_df[f] = np.nan\n",
    "    \n",
    "    update_df.update(updateD)\n",
    "    update_df.update(updateM)\n",
    "    \n",
    "    #adding the features about other things\n",
    "    other_feature = ['bathrooms','bedrooms','price',\"price_per_bed\",\"bath_per_bed\",\\\n",
    "                     \"price_per_room\",'num_photos','num_features','num_description_words']\n",
    "    \n",
    "    mean_value = train_df.groupby('manager_id')[other_feature].mean()\n",
    "    mean_value = mean_value.add_prefix('m_mean_')\n",
    "    \n",
    "    new_mean_feature = list(mean_value.columns)\n",
    "    \n",
    "    updateM = test_df[['manager_id']].join(mean_value, on = 'manager_id', how=\"left\")[new_mean_feature]\n",
    "    \n",
    "    for f in new_mean_feature:\n",
    "        if f not in update_df.columns: \n",
    "            update_df[f] = np.nan\n",
    "\n",
    "    update_df.update(updateM)\n"
   ]
  },
  {
   "cell_type": "code",
   "execution_count": 11,
   "metadata": {
    "collapsed": false
   },
   "outputs": [
    {
     "name": "stdout",
     "output_type": "stream",
     "text": [
      "(49352, 15)\n",
      "(74659, 14)\n"
     ]
    }
   ],
   "source": [
    "#lodaing data\n",
    "data_path = \"../../kaggleData/2sigma/\"\n",
    "train_file = data_path + \"train.json\"\n",
    "test_file = data_path + \"test.json\"\n",
    "train_df = pd.read_json(train_file)\n",
    "test_df = pd.read_json(test_file)\n",
    "print(train_df.shape)\n",
    "print(test_df.shape)\n"
   ]
  },
  {
   "cell_type": "code",
   "execution_count": 7,
   "metadata": {
    "collapsed": true
   },
   "outputs": [],
   "source": [
    "#basic numerical features\n",
    "features_to_use  = [\"bathrooms\", \"bedrooms\", \"latitude\", \"longitude\", \"price\"]"
   ]
  },
  {
   "cell_type": "code",
   "execution_count": 21,
   "metadata": {
    "collapsed": false
   },
   "outputs": [],
   "source": [
    "#some transfromed features\n",
    "# count of photos #\n",
    "train_df[\"num_photos\"] = train_df[\"photos\"].apply(len)\n",
    "#test_df[\"num_photos\"] = test_df[\"photos\"].apply(len)\n",
    "\n",
    "# count of \"features\" #\n",
    "train_df[\"num_features\"] = train_df[\"features\"].apply(len)\n",
    "#test_df[\"num_features\"] = test_df[\"features\"].apply(len)\n",
    "\n",
    "# count of words present in description column #\n",
    "train_df[\"num_description_words\"] = train_df[\"description\"].apply(lambda x: len(x.split(\" \")))\n",
    "#test_df[\"num_description_words\"] = test_df[\"description\"].apply(lambda x: len(x.split(\" \")))\n",
    "\n",
    "# convert the created column to datetime object so as to extract more features \n",
    "train_df[\"created\"] = pd.to_datetime(train_df[\"created\"])\n",
    "#test_df[\"created\"] = pd.to_datetime(test_df[\"created\"])\n",
    "\n",
    "# Let us extract some features like year, month, day, hour from date columns #\n",
    "train_df[\"created_year\"] = train_df[\"created\"].dt.year\n",
    "#test_df[\"created_year\"] = test_df[\"created\"].dt.year\n",
    "train_df[\"created_month\"] = train_df[\"created\"].dt.month\n",
    "#test_df[\"created_month\"] = test_df[\"created\"].dt.month\n",
    "train_df[\"created_day\"] = train_df[\"created\"].dt.day\n",
    "#test_df[\"created_day\"] = test_df[\"created\"].dt.day\n",
    "train_df[\"created_hour\"] = train_df[\"created\"].dt.hour\n",
    "#test_df[\"created_hour\"] = test_df[\"created\"].dt.hour\n",
    "\n",
    "#some new numerical features related to the price\n",
    "train_df[\"price_per_bath\"] =  (train_df[\"price\"]*1.0/train_df[\"bathrooms\"]).replace(np.Inf,-1)\n",
    "train_df[\"price_per_bed\"] = (train_df[\"price\"]*1.0/train_df[\"bedrooms\"]).replace(np.Inf,-1)\n",
    "train_df[\"bath_per_bed\"] = (train_df[\"bathrooms\"]*1.0/train_df[\"bedrooms\"]).replace(np.Inf,-1)\n",
    "train_df[\"price_per_room\"] = (train_df[\"price\"]*1.0/(train_df[\"bedrooms\"]+train_df[\"bathrooms\"])).replace(np.Inf,-1)\n",
    "\n",
    "#test_df[\"price_per_bath\"] =  (test_df[\"price\"]*1.0/test_df[\"bathrooms\"]).replace(np.Inf,-1)\n",
    "#test_df[\"price_per_bed\"] = (test_df[\"price\"]*1.0/test_df[\"bedrooms\"]).replace(np.Inf,-1)\n",
    "#test_df[\"bath_per_bed\"] = (test_df[\"bathrooms\"]*1.0/test_df[\"bedrooms\"]).replace(np.Inf,-1)\n",
    "#test_df[\"price_per_room\"] = (test_df[\"price\"]*1.0/(test_df[\"bedrooms\"]+test_df[\"bathrooms\"])).replace(np.Inf,-1)\n",
    "\n",
    "\n",
    "# adding all these new features to use list # \"listing_id\",\n",
    "features_to_use.extend([\"num_photos\", \"num_features\", \"num_description_words\",\\\n",
    "                        \"created_year\",\"listing_id\", \"created_month\", \"created_day\", \"created_hour\"])\n",
    "#price new features\n",
    "features_to_use.extend([\"price_per_bed\",\"bath_per_bed\",\"price_per_room\"])\n",
    "\n",
    "#filling outliers with nan\n",
    "processMap(train_df)"
   ]
  },
  {
   "cell_type": "code",
   "execution_count": 18,
   "metadata": {
    "collapsed": false
   },
   "outputs": [],
   "source": [
    "\"\"\"\n",
    "new categorical data generated from the old ones\n",
    "\"\"\"\n",
    "#new feature for the street_address, use them instead of the original one\n",
    "train_df[\"street_name\"] = train_df[\"street_address\"].apply(proecessStreet)\n",
    "#test_df[\"street_name\"] = test_df[\"street_address\"].apply(proecessStreet)\n"
   ]
  },
  {
   "cell_type": "code",
   "execution_count": 12,
   "metadata": {
    "collapsed": false
   },
   "outputs": [],
   "source": [
    "#dealing with features\n",
    "\n",
    "#preprocessing for features\n",
    "train_df[\"features\"] = train_df[\"features\"].apply(lambda x:[\"_\".join(i.split(\" \")).lower().strip().replace('-','_') \\\n",
    "                                                            for i in x])\n",
    "#test_df[\"features\"] = test_df[\"features\"].apply(lambda x:[\"_\".join(i.split(\" \")).lower().strip().replace('-','_')\\\n",
    "#                                                          for i in x])\n",
    "#create the accept list\n",
    "accept_list = list(featureList(train_df,test_df,limit = 0.001))\n",
    "\n",
    "#map the feature to dummy slots\n",
    "featureMapping(train_df,test_df,accept_list)\n",
    "features_to_use.extend(map(lambda x : 'with_'+x,accept_list))"
   ]
  },
  {
   "cell_type": "code",
   "execution_count": 12,
   "metadata": {
    "collapsed": false
   },
   "outputs": [
    {
     "name": "stdout",
     "output_type": "stream",
     "text": [
      "['bathrooms', 'bedrooms', 'latitude', 'longitude', 'price', 'num_photos', 'num_features', 'num_description_words', 'created_year', 'listing_id', 'created_month', 'created_day', 'created_hour', 'price_per_bed', 'bath_per_bed', 'price_per_room', u'with_exclusive', u'with_furnished', u'with_lowrise', u'with_common_parking/garage', u'with_pets_on_approval', u'with_terrace', u'with_live_in_superintendent', u'with_newly_renovated', u'with_full_time_doorman', u'with_duplex', u'with_dryer_in_unit', u'with_multi_level', u'with_garden', u'with_hardwood_floors', u'with_on_site_garage', u'with_fireplace', u'with_eat_in_kitchen', u'with_wifi_access', u'with_garage', u'with_subway', u'with_dining_room', u'with_view', u'with_publicoutdoor', u'with_hardwood', u'with_fitness_center', u'with_high_speed_internet', u'with_laundry_in_building', u'with_parking', u'with_garden/patio', u'with_prewar', u'with_on_site_laundry', u'with_valet', u'with_green_building', u'with_short_term_allowed', u'with_new_construction', u'with_reduced_fee', u'with_roofdeck', u'with_stainless_steel_appliances', u'with_simplex', u'with_dishwasher', u'with_washer_in_unit', u'with_cats_allowed', u'with_exposed_brick', u'with_roof_deck', u'with_common_outdoor_space', u'with_outdoor_areas', u'with_common_roof_deck', u'with_no_pets', u'with_childrens_playroom', u'with_central_a/c', u'with_wheelchair_access', u'with_post_war', u'with_renovated', u'with_elevator', u'with_highrise', u'with_loft', u'with_gym', u'with_luxury_building', u'with_outdoor_space', u'with_pre_war', u'with_residents_lounge', u'with_laundry_room', u'with_marble_bath', u'with_laundry_in_unit', u'with_parking_space', u'with_private_outdoor_space', u'with_high_ceiling', u'with_concierge', u'with_walk_in_closet(s)', u'with_doorman', u'with_balcony', u'with_dogs_allowed', u'with_gym/fitness', u'with_storage', u'with_live_in_super', u'with_lounge', u'with_granite_kitchen', u'with_private_balcony', u'with_laundry', u'with_actual_apt._photos', u'with_residents_garden', u'with_pool', u'with_washer/dryer', u'with_light', u'with_swimming_pool', u'with_high_ceilings', u'with_patio', u'with_no_fee', u'with_bike_room']\n"
     ]
    }
   ],
   "source": [
    "#shorten reprocessing time: save the preprocessed train_df and test_df with some basic features\n",
    "#train_df.to_json('train1.3std.json')\n",
    "#test_df.to_json('test1.3std.json')\n",
    "#print features_to_use"
   ]
  },
  {
   "cell_type": "code",
   "execution_count": 13,
   "metadata": {
    "collapsed": true
   },
   "outputs": [],
   "source": [
    "#shorten reprocessing time: load the preprocessed train_df and test_df with some basic features\n",
    "train_df=pd.read_json('train1.3std.json')\n",
    "#test_df=pd.read_json('test1.3std.json')\n",
    "features_to_use = ['bathrooms', 'bedrooms', 'latitude', 'longitude', 'price', 'num_photos', 'num_features', 'num_description_words', 'created_year', 'listing_id', 'created_month', 'created_day', 'created_hour', 'price_per_bed', 'bath_per_bed', 'price_per_room', u'with_exclusive', u'with_furnished', u'with_lowrise', u'with_common_parking/garage', u'with_pets_on_approval', u'with_terrace', u'with_live_in_superintendent', u'with_newly_renovated', u'with_full_time_doorman', u'with_duplex', u'with_dryer_in_unit', u'with_multi_level', u'with_garden', u'with_hardwood_floors', u'with_on_site_garage', u'with_fireplace', u'with_eat_in_kitchen', u'with_wifi_access', u'with_garage', u'with_subway', u'with_dining_room', u'with_view', u'with_publicoutdoor', u'with_hardwood', u'with_fitness_center', u'with_high_speed_internet', u'with_laundry_in_building', u'with_parking', u'with_garden/patio', u'with_prewar', u'with_on_site_laundry', u'with_valet', u'with_green_building', u'with_short_term_allowed', u'with_new_construction', u'with_reduced_fee', u'with_roofdeck', u'with_stainless_steel_appliances', u'with_simplex', u'with_dishwasher', u'with_washer_in_unit', u'with_cats_allowed', u'with_exposed_brick', u'with_roof_deck', u'with_common_outdoor_space', u'with_outdoor_areas', u'with_common_roof_deck', u'with_no_pets', u'with_childrens_playroom', u'with_central_a/c', u'with_wheelchair_access', u'with_post_war', u'with_renovated', u'with_elevator', u'with_highrise', u'with_loft', u'with_gym', u'with_luxury_building', u'with_outdoor_space', u'with_pre_war', u'with_residents_lounge', u'with_laundry_room', u'with_marble_bath', u'with_laundry_in_unit', u'with_parking_space', u'with_private_outdoor_space', u'with_high_ceiling', u'with_concierge', u'with_walk_in_closet(s)', u'with_doorman', u'with_balcony', u'with_dogs_allowed', u'with_gym/fitness', u'with_storage', u'with_live_in_super', u'with_lounge', u'with_granite_kitchen', u'with_private_balcony', u'with_laundry', u'with_actual_apt._photos', u'with_residents_garden', u'with_pool', u'with_washer/dryer', u'with_light', u'with_swimming_pool', u'with_high_ceilings', u'with_patio', u'with_no_fee', u'with_bike_room']"
   ]
  },
  {
   "cell_type": "code",
   "execution_count": 13,
   "metadata": {
    "collapsed": false
   },
   "outputs": [],
   "source": [
    "#prepare for validation\n",
    "target_num_map = {'high':0, 'medium':1, 'low':2}\n",
    "\n",
    "train_y = np.array(train_df['interest_level'].apply(lambda x: target_num_map[x]))\n",
    "\n",
    "KF=StratifiedKFold(train_y,5,shuffle=True,random_state = 42)\n",
    "\n",
    "train_df = train_df.fillna(-1)\n",
    "#test_df = test_df.fillna(-1)"
   ]
  },
  {
   "cell_type": "code",
   "execution_count": 56,
   "metadata": {
    "collapsed": false
   },
   "outputs": [],
   "source": [
    "#the basic features from preprocessing \n",
    "features = list(features_to_use)\n",
    "\n",
    "#features to be added during cv by cv-manner statistics\n",
    "features.extend(['manager_id_perf'])\n",
    "#categorical features to be added\n",
    "categorical = [\"display_address\", \"street_address\",\"street_name\",'building_id','manager_id']\n",
    "features.extend(categorical)\n",
    "features.extend(['cluster_id_10','cluster_id_30'])"
   ]
  },
  {
   "cell_type": "code",
   "execution_count": 57,
   "metadata": {
    "collapsed": true
   },
   "outputs": [],
   "source": [
    "features.extend(['m_mean_bathrooms','m_mean_bedrooms','m_mean_price','m_mean_price_per_bed',\\\n",
    "                 'm_mean_bath_per_bed','m_mean_price_per_room','m_mean_num_photos',\\\n",
    "                 'm_mean_num_features','m_mean_num_description_words'])\n",
    "features.extend(['m_m_distance','mlon','mlat'])"
   ]
  },
  {
   "cell_type": "code",
   "execution_count": 58,
   "metadata": {
    "collapsed": true
   },
   "outputs": [],
   "source": [
    "features=list(set(features))"
   ]
  },
  {
   "cell_type": "code",
   "execution_count": 59,
   "metadata": {
    "collapsed": false
   },
   "outputs": [
    {
     "name": "stderr",
     "output_type": "stream",
     "text": [
      "/opt/anaconda2/lib/python2.7/site-packages/ipykernel/__main__.py:78: SettingWithCopyWarning: \n",
      "A value is trying to be set on a copy of a slice from a DataFrame.\n",
      "Try using .loc[row_indexer,col_indexer] = value instead\n",
      "\n",
      "See the caveats in the documentation: http://pandas.pydata.org/pandas-docs/stable/indexing.html#indexing-view-versus-copy\n",
      "/opt/anaconda2/lib/python2.7/site-packages/ipykernel/__main__.py:33: SettingWithCopyWarning: \n",
      "A value is trying to be set on a copy of a slice from a DataFrame.\n",
      "Try using .loc[row_indexer,col_indexer] = value instead\n",
      "\n",
      "See the caveats in the documentation: http://pandas.pydata.org/pandas-docs/stable/indexing.html#indexing-view-versus-copy\n",
      "/opt/anaconda2/lib/python2.7/site-packages/ipykernel/__main__.py:51: SettingWithCopyWarning: \n",
      "A value is trying to be set on a copy of a slice from a DataFrame.\n",
      "Try using .loc[row_indexer,col_indexer] = value instead\n",
      "\n",
      "See the caveats in the documentation: http://pandas.pydata.org/pandas-docs/stable/indexing.html#indexing-view-versus-copy\n",
      "/opt/anaconda2/lib/python2.7/site-packages/ipykernel/__main__.py:104: SettingWithCopyWarning: \n",
      "A value is trying to be set on a copy of a slice from a DataFrame.\n",
      "Try using .loc[row_indexer,col_indexer] = value instead\n",
      "\n",
      "See the caveats in the documentation: http://pandas.pydata.org/pandas-docs/stable/indexing.html#indexing-view-versus-copy\n",
      "/opt/anaconda2/lib/python2.7/site-packages/ipykernel/__main__.py:105: SettingWithCopyWarning: \n",
      "A value is trying to be set on a copy of a slice from a DataFrame.\n",
      "Try using .loc[row_indexer,col_indexer] = value instead\n",
      "\n",
      "See the caveats in the documentation: http://pandas.pydata.org/pandas-docs/stable/indexing.html#indexing-view-versus-copy\n",
      "/opt/anaconda2/lib/python2.7/site-packages/ipykernel/__main__.py:42: SettingWithCopyWarning: \n",
      "A value is trying to be set on a copy of a slice from a DataFrame.\n",
      "Try using .loc[row_indexer,col_indexer] = value instead\n",
      "\n",
      "See the caveats in the documentation: http://pandas.pydata.org/pandas-docs/stable/indexing.html#indexing-view-versus-copy\n",
      "/opt/anaconda2/lib/python2.7/site-packages/ipykernel/__main__.py:43: SettingWithCopyWarning: \n",
      "A value is trying to be set on a copy of a slice from a DataFrame.\n",
      "Try using .loc[row_indexer,col_indexer] = value instead\n",
      "\n",
      "See the caveats in the documentation: http://pandas.pydata.org/pandas-docs/stable/indexing.html#indexing-view-versus-copy\n"
     ]
    },
    {
     "name": "stdout",
     "output_type": "stream",
     "text": [
      "[0]\ttrain-mlogloss:1.03646\ttest-mlogloss:1.03683\n",
      "[100]\ttrain-mlogloss:0.531121\ttest-mlogloss:0.558561\n",
      "[200]\ttrain-mlogloss:0.488504\ttest-mlogloss:0.538785\n",
      "[300]\ttrain-mlogloss:0.458883\ttest-mlogloss:0.531341\n",
      "[400]\ttrain-mlogloss:0.434519\ttest-mlogloss:0.52785\n",
      "[500]\ttrain-mlogloss:0.412786\ttest-mlogloss:0.525757\n",
      "[600]\ttrain-mlogloss:0.393413\ttest-mlogloss:0.52471\n",
      "[700]\ttrain-mlogloss:0.375532\ttest-mlogloss:0.524984\n",
      "[799]\ttrain-mlogloss:0.359386\ttest-mlogloss:0.525008\n",
      "loss for the turn 0 is 0.525008286739\n",
      "[0]\ttrain-mlogloss:1.03666\ttest-mlogloss:1.03707\n",
      "[100]\ttrain-mlogloss:0.529818\ttest-mlogloss:0.561911\n",
      "[200]\ttrain-mlogloss:0.486887\ttest-mlogloss:0.544838\n",
      "[300]\ttrain-mlogloss:0.457109\ttest-mlogloss:0.5383\n",
      "[400]\ttrain-mlogloss:0.432004\ttest-mlogloss:0.535884\n",
      "[500]\ttrain-mlogloss:0.410662\ttest-mlogloss:0.534741\n",
      "[600]\ttrain-mlogloss:0.390875\ttest-mlogloss:0.534655\n",
      "[700]\ttrain-mlogloss:0.372966\ttest-mlogloss:0.535471\n",
      "[799]\ttrain-mlogloss:0.356602\ttest-mlogloss:0.535576\n",
      "loss for the turn 0 is 0.535575846123\n",
      "[0]\ttrain-mlogloss:1.03652\ttest-mlogloss:1.03615\n",
      "[100]\ttrain-mlogloss:0.532806\ttest-mlogloss:0.551281\n",
      "[200]\ttrain-mlogloss:0.489221\ttest-mlogloss:0.534056\n",
      "[300]\ttrain-mlogloss:0.459589\ttest-mlogloss:0.527319\n",
      "[400]\ttrain-mlogloss:0.434959\ttest-mlogloss:0.524606\n",
      "[500]\ttrain-mlogloss:0.413472\ttest-mlogloss:0.522347\n",
      "[600]\ttrain-mlogloss:0.394033\ttest-mlogloss:0.521783\n",
      "[700]\ttrain-mlogloss:0.376139\ttest-mlogloss:0.520898\n",
      "[799]\ttrain-mlogloss:0.359583\ttest-mlogloss:0.520348\n",
      "loss for the turn 0 is 0.520347737731\n",
      "[0]\ttrain-mlogloss:1.03646\ttest-mlogloss:1.03737\n",
      "[100]\ttrain-mlogloss:0.526871\ttest-mlogloss:0.566732\n",
      "[200]\ttrain-mlogloss:0.484781\ttest-mlogloss:0.552507\n",
      "[300]\ttrain-mlogloss:0.454178\ttest-mlogloss:0.546297\n",
      "[400]\ttrain-mlogloss:0.429815\ttest-mlogloss:0.544159\n",
      "[500]\ttrain-mlogloss:0.408086\ttest-mlogloss:0.543216\n",
      "[600]\ttrain-mlogloss:0.388474\ttest-mlogloss:0.542587\n",
      "[700]\ttrain-mlogloss:0.370723\ttest-mlogloss:0.543755\n",
      "[799]\ttrain-mlogloss:0.354079\ttest-mlogloss:0.544493\n",
      "loss for the turn 0 is 0.544492836104\n",
      "[0]\ttrain-mlogloss:1.04174\ttest-mlogloss:1.04145\n",
      "[100]\ttrain-mlogloss:0.533274\ttest-mlogloss:0.549505\n",
      "[200]\ttrain-mlogloss:0.491626\ttest-mlogloss:0.530971\n",
      "[300]\ttrain-mlogloss:0.461748\ttest-mlogloss:0.523314\n",
      "[400]\ttrain-mlogloss:0.437628\ttest-mlogloss:0.519549\n",
      "[500]\ttrain-mlogloss:0.415866\ttest-mlogloss:0.517979\n",
      "[600]\ttrain-mlogloss:0.39604\ttest-mlogloss:0.517402\n",
      "[700]\ttrain-mlogloss:0.377923\ttest-mlogloss:0.51677\n",
      "[799]\ttrain-mlogloss:0.361467\ttest-mlogloss:0.516938\n",
      "loss for the turn 0 is 0.516938155975\n"
     ]
    }
   ],
   "source": [
    "#running and getting the cv from xgboost\n",
    "cv_scores = []\n",
    "cv_result = []\n",
    "models = []\n",
    "\n",
    "i=0\n",
    "for dev_index, val_index in KF: \n",
    "    result_dict = {}\n",
    "    \n",
    "    dev_set, val_set = train_df.iloc[dev_index,:] , train_df.iloc[val_index,:] \n",
    "    \n",
    "    #=============================================================        \n",
    "    \"\"\"feature engineerings for the categorical features\"\"\"\n",
    "    #fill substitute the small size values by their mean\n",
    "    for f in ['display_address','manager_id','building_id','street_name']:\n",
    "        dev_set,val_set  = singleValueConvert(dev_set,val_set,f,1)\n",
    "    \n",
    "    \n",
    "    #K-FOLD evaluation for the statistic features\n",
    "    \n",
    "    skf=StratifiedKFold(dev_set['interest_level'],5,shuffle=True,random_state = 42)\n",
    "    #dev set adding manager skill\n",
    "    for feature in ['manager_id']:\n",
    "        for train,test in skf:\n",
    "            performance_eval(dev_set.iloc[train,:],dev_set.iloc[test,:],feature=feature,k=5,g=10,\n",
    "                           update_df = dev_set)\n",
    "            manager_statistics(dev_set.iloc[train,:],dev_set.iloc[test,:],\\\n",
    "                              update_df = dev_set)\n",
    "        \n",
    "        performance_eval(dev_set,val_set,feature=feature,k=5,g=10)\n",
    "        manager_statistics(dev_set,val_set)\n",
    "    \n",
    "    #second TODO\n",
    "    getCluster(dev_set,val_set,30)\n",
    "    getCluster(dev_set,val_set,10)\n",
    "    \n",
    "    for f in categorical:\n",
    "    \n",
    "        if dev_set[f].dtype=='object':\n",
    "            #print(f)\n",
    "            lbl = preprocessing.LabelEncoder()\n",
    "            lbl.fit(list(dev_set[f])+list(val_set[f]))\n",
    "            dev_set[f] = lbl.transform(list(dev_set[f].values))\n",
    "            val_set[f] = lbl.transform(list(val_set[f].values))\n",
    "    \n",
    "    #============================================================\n",
    "            \n",
    "    #filter the features\n",
    "    dev_X, val_X = dev_set[features].as_matrix(), val_set[features].as_matrix()\n",
    "    dev_y, val_y = train_y[dev_index], train_y[val_index]\n",
    "\n",
    "    \"\"\"\n",
    "    runXGB(dev_X, train_y, val_X, test_y=None, feature_names=None, \\\n",
    "    seed_val=0, early_stop = 20,num_rounds=10000, eta = 0.1, max_depth = 6)\n",
    "    \"\"\"        \n",
    "    \n",
    "    preds,model = runXGB(dev_X, dev_y, val_X, val_y,feature_names=features,\\\n",
    "           early_stop = None,num_rounds=8000,eta = 0.01,max_depth=4,cv_dict = result_dict,verbose_eval=100)\n",
    "\n",
    "    loss = log_loss(val_y, preds)\n",
    "    cv_scores.append(loss)\n",
    "    cv_result.append(result_dict)\n",
    "    models.append(model)\n",
    "    print 'loss for the turn '+str(i)+' is '+str(loss)"
   ]
  },
  {
   "cell_type": "code",
   "execution_count": 62,
   "metadata": {
    "collapsed": false
   },
   "outputs": [
    {
     "data": {
      "text/plain": [
       "test0    800\n",
       "test1    800\n",
       "test2    800\n",
       "test3    800\n",
       "test4    800\n",
       "Name: 799, dtype: int64"
      ]
     },
     "execution_count": 62,
     "metadata": {},
     "output_type": "execute_result"
    }
   ],
   "source": [
    "#plot the validation curv\n",
    "cvResult = CVstatistics(cv_result,'mlogloss')\n",
    "cvResult.turns"
   ]
  },
  {
   "cell_type": "code",
   "execution_count": 35,
   "metadata": {
    "collapsed": false
   },
   "outputs": [
    {
     "data": {
      "image/png": "[encoded data removed]",
      "text/plain": [
       "<matplotlib.figure.Figure at 0x7f5b40ebf3d0>"
      ]
     },
     "metadata": {},
     "output_type": "display_data"
    }
   ],
   "source": [
    "cvResult.validCurve(start =500,stop_at_first = False)\n"
   ]
  },
  {
   "cell_type": "code",
   "execution_count": 67,
   "metadata": {
    "collapsed": false
   },
   "outputs": [
    {
     "data": {
      "text/plain": [
       "<bound method CVstatistics.eoutCurve of <__main__.CVstatistics object at 0x7f5b40e9e3d0>>"
      ]
     },
     "execution_count": 67,
     "metadata": {},
     "output_type": "execute_result"
    }
   ],
   "source": [
    "cvResult.eoutCurve\n"
   ]
  },
  {
   "cell_type": "code",
   "execution_count": 69,
   "metadata": {
    "collapsed": false
   },
   "outputs": [],
   "source": [
    "meanTestError = cvResult.result.filter(like='test').mean(axis=1)"
   ]
  },
  {
   "cell_type": "code",
   "execution_count": 70,
   "metadata": {
    "collapsed": false
   },
   "outputs": [
    {
     "data": {
      "text/plain": [
       "595    0.528103\n",
       "dtype: float64"
      ]
     },
     "execution_count": 70,
     "metadata": {},
     "output_type": "execute_result"
    }
   ],
   "source": [
    "meanTestError[meanTestError==np.min(meanTestError)]"
   ]
  },
  {
   "cell_type": "code",
   "execution_count": null,
   "metadata": {
    "collapsed": true
   },
   "outputs": [],
   "source": [
    "cvResult.result.filter(like='test').mean(axis=1)"
   ]
  },
  {
   "cell_type": "code",
   "execution_count": 36,
   "metadata": {
    "collapsed": false
   },
   "outputs": [
    {
     "data": {
      "text/plain": [
       "0.52939496933607533"
      ]
     },
     "execution_count": 36,
     "metadata": {},
     "output_type": "execute_result"
    }
   ],
   "source": [
    "np.mean(cv_scores)"
   ]
  },
  {
   "cell_type": "code",
   "execution_count": 71,
   "metadata": {
    "collapsed": false
   },
   "outputs": [
    {
     "data": {
      "text/plain": [
       "(0.5282528, 0.40200579999999997)"
      ]
     },
     "execution_count": 71,
     "metadata": {},
     "output_type": "execute_result"
    }
   ],
   "source": [
    "cvResult.errorsAt(550)"
   ]
  },
  {
   "cell_type": "code",
   "execution_count": 74,
   "metadata": {
    "collapsed": false
   },
   "outputs": [
    {
     "data": {
      "text/plain": [
       "[('manager_id_perf', 0.05921719926968065),\n",
       " ('with_simplex', 0.024143316258870274),\n",
       " ('with_no_fee', 0.024105003460400905),\n",
       " ('with_prewar', 0.02195735193565795),\n",
       " ('price', 0.021728369993017086),\n",
       " ('with_furnished', 0.018388481314853815),\n",
       " ('with_hardwood_floors', 0.017203557721137866),\n",
       " ('price_per_bed', 0.016740861263047666),\n",
       " ('price_per_room', 0.016549418685966658),\n",
       " ('bathrooms', 0.01504222886232654),\n",
       " ('created_hour', 0.01396373638682116),\n",
       " ('with_reduced_fee', 0.013931000563596875),\n",
       " ('num_photos', 0.013289998642168371),\n",
       " ('building_id', 0.013120945473070635),\n",
       " ('cluster_id_10', 0.012992485030227395),\n",
       " ('with_short_term_allowed', 0.012303853527301256),\n",
       " ('with_hardwood', 0.011912577526004168),\n",
       " ('with_lowrise', 0.011734885069644407),\n",
       " ('with_private_outdoor_space', 0.010738504807840209),\n",
       " ('bedrooms', 0.010417560953634775),\n",
       " ('longitude', 0.010403071953965694),\n",
       " ('display_address', 0.010125712149542714),\n",
       " ('bath_per_bed', 0.00991056919148667),\n",
       " ('latitude', 0.00951934022758425),\n",
       " ('num_features', 0.009448572239287169),\n",
       " ('with_laundry_in_building', 0.00931744482106486),\n",
       " ('with_laundry_in_unit', 0.009165853382741977),\n",
       " ('with_actual_apt._photos', 0.009047710745375049),\n",
       " ('with_exclusive', 0.008829712018062113),\n",
       " ('with_central_a/c', 0.008824803927674861),\n",
       " ('m_mean_num_features', 0.008703431036731083),\n",
       " ('with_light', 0.008600459907535274),\n",
       " ('with_parking_space', 0.008452581608750539),\n",
       " ('with_common_outdoor_space', 0.008417390860268211),\n",
       " ('with_high_ceiling', 0.008370873099246797),\n",
       " ('with_green_building', 0.008339548362740519),\n",
       " ('mlon', 0.008223080812918658),\n",
       " ('with_washer_in_unit', 0.00819926554690879),\n",
       " ('with_doorman', 0.008109905861291894),\n",
       " ('with_dishwasher', 0.008073145951213464),\n",
       " ('m_mean_price_per_room', 0.007933115759642676),\n",
       " ('m_mean_price', 0.007852938931497752),\n",
       " ('listing_id', 0.007837653046441368),\n",
       " ('m_mean_price_per_bed', 0.007797522691627556),\n",
       " ('with_gym/fitness', 0.007427548590252063),\n",
       " ('cluster_id_30', 0.007419031810090667),\n",
       " ('street_address', 0.00736799121734246),\n",
       " ('num_description_words', 0.007339980355620992),\n",
       " ('with_wheelchair_access', 0.007320776421253015),\n",
       " ('with_cats_allowed', 0.007234266564515804),\n",
       " ('m_m_distance', 0.007233009434521535),\n",
       " ('m_mean_num_description_words', 0.007202599730187727),\n",
       " ('with_dining_room', 0.007182145444684157),\n",
       " ('street_name', 0.0071713484788189655),\n",
       " ('with_terrace', 0.0071172244115108915),\n",
       " ('with_parking', 0.007103947237410419),\n",
       " ('mlat', 0.007088844225441695),\n",
       " ('with_balcony', 0.007076061571835907),\n",
       " ('m_mean_bathrooms', 0.007061346634493948),\n",
       " ('with_roof_deck', 0.007032086749295898),\n",
       " ('manager_id', 0.007006294274241867),\n",
       " ('m_mean_num_photos', 0.006983577213981572),\n",
       " ('with_live_in_superintendent', 0.006966169646612033),\n",
       " ('with_high_speed_internet', 0.006944634748284581),\n",
       " ('with_storage', 0.0068949027486967),\n",
       " ('with_outdoor_space', 0.0068852882824367075),\n",
       " ('with_laundry', 0.00687472893289514),\n",
       " ('m_mean_bath_per_bed', 0.006856193294856246),\n",
       " ('with_fitness_center', 0.006848965035022713),\n",
       " ('m_mean_bedrooms', 0.006812543350661829),\n",
       " ('with_loft', 0.00672633128750478),\n",
       " ('with_dogs_allowed', 0.0066796458267335095),\n",
       " ('with_new_construction', 0.006579121002018256),\n",
       " ('with_live_in_super', 0.006566474413391103),\n",
       " ('with_pets_on_approval', 0.0065351752551992765),\n",
       " ('created_day', 0.006508706078903695),\n",
       " ('with_elevator', 0.006485908280994862),\n",
       " ('with_newly_renovated', 0.0064772355110135),\n",
       " ('with_on_site_garage', 0.006325447160295119),\n",
       " ('with_swimming_pool', 0.006302454376427748),\n",
       " ('with_duplex', 0.006263435384693081),\n",
       " ('with_garden/patio', 0.0062614837696559475),\n",
       " ('with_multi_level', 0.006238598799937333),\n",
       " ('with_no_pets', 0.006188506042512886),\n",
       " ('with_bike_room', 0.006181186088118597),\n",
       " ('with_dryer_in_unit', 0.0061794217022010205),\n",
       " ('with_pre_war', 0.006158543481524559),\n",
       " ('with_common_roof_deck', 0.0061527674416466515),\n",
       " ('with_high_ceilings', 0.006073857202445472),\n",
       " ('created_month', 0.005995268010117348),\n",
       " ('with_renovated', 0.005901464501998601),\n",
       " ('with_publicoutdoor', 0.00586911221884275),\n",
       " ('with_exposed_brick', 0.005743750310812827),\n",
       " ('with_fireplace', 0.005685865446091602),\n",
       " ('with_on_site_laundry', 0.0056796217691781545),\n",
       " ('with_eat_in_kitchen', 0.005499377786987802),\n",
       " ('with_walk_in_closet(s)', 0.0052353723017035825),\n",
       " ('with_garage', 0.0051980246706144545),\n",
       " ('with_common_parking/garage', 0.005169827612029231),\n",
       " ('with_pool', 0.0051303616190561),\n",
       " ('with_outdoor_areas', 0.005030353930448412),\n",
       " ('with_laundry_room', 0.004960841391800125),\n",
       " ('with_highrise', 0.004868800467918995),\n",
       " ('with_residents_lounge', 0.004770587817783856),\n",
       " ('with_stainless_steel_appliances', 0.004759020071672881),\n",
       " ('with_granite_kitchen', 0.0046157466434576045),\n",
       " ('with_marble_bath', 0.004598173533692491),\n",
       " ('with_private_balcony', 0.004564888618073754),\n",
       " ('with_washer/dryer', 0.004520782957037578),\n",
       " ('with_view', 0.004446079625672332),\n",
       " ('with_patio', 0.004126627551792158),\n",
       " ('with_concierge', 0.004108177613265376),\n",
       " ('with_lounge', 0.003719258128339636),\n",
       " ('with_valet', 0.0035784138550434053),\n",
       " ('with_garden', 0.0019033551575173497)]"
      ]
     },
     "execution_count": 74,
     "metadata": {},
     "output_type": "execute_result"
    }
   ],
   "source": [
    "#show the importance of the features\n",
    "xgbImportance(models[3],'gain')"
   ]
  }
 ],
 "metadata": {
  "anaconda-cloud": {},
  "kernelspec": {
   "display_name": "Python [Root]",
   "language": "python",
   "name": "Python [Root]"
  },
  "language_info": {
   "codemirror_mode": {
    "name": "ipython",
    "version": 2
   },
   "file_extension": ".py",
   "mimetype": "text/x-python",
   "name": "python",
   "nbconvert_exporter": "python",
   "pygments_lexer": "ipython2",
   "version": "2.7.12"
  }
 },
 "nbformat": 4,
 "nbformat_minor": 0
}
