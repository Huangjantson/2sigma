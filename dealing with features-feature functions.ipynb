{
 "cells": [
  {
   "cell_type": "code",
   "execution_count": 1,
   "metadata": {
    "collapsed": true
   },
   "outputs": [],
   "source": [
    "import pandas as pd\n",
    "import re\n",
    "import string\n",
    "import numpy as np\n",
    "import matplotlib.pyplot as plt\n",
    "\n",
    "%matplotlib inline"
   ]
  },
  {
   "cell_type": "code",
   "execution_count": 2,
   "metadata": {
    "collapsed": false
   },
   "outputs": [
    {
     "name": "stdout",
     "output_type": "stream",
     "text": [
      "(49352, 15)\n",
      "(74659, 14)\n"
     ]
    }
   ],
   "source": [
    "train_df = pd.read_json(\"../../kaggleData/2sigma/train.json\")\n",
    "test_df = pd.read_json(\"../../kaggleData/2sigma/test.json\")\n",
    "print train_df.shape\n",
    "print test_df.shape"
   ]
  },
  {
   "cell_type": "code",
   "execution_count": 3,
   "metadata": {
    "collapsed": false
   },
   "outputs": [],
   "source": [
    "#simple preprocessing\n",
    "train_df[\"features\"] = train_df[\"features\"].apply(lambda x:[\"_\".join(i.split(\" \")).lower().strip().replace('-','_') \\\n",
    "                                                            for i in x])\n",
    "test_df[\"features\"] = test_df[\"features\"].apply(lambda x:[\"_\".join(i.split(\" \")).lower().strip().replace('-','_')\\\n",
    "                                                          for i in x])"
   ]
  },
  {
   "cell_type": "code",
   "execution_count": 5,
   "metadata": {
    "collapsed": false
   },
   "outputs": [],
   "source": [
    "features_in_train = train_df[\"features\"].apply(pd.Series).unstack().reset_index(drop = True).dropna().value_counts()"
   ]
  },
  {
   "cell_type": "code",
   "execution_count": 10,
   "metadata": {
    "collapsed": false
   },
   "outputs": [
    {
     "data": {
      "text/plain": [
       "loft                                                                                                            2101\n",
       "ft_doorman                                                                                                        28\n",
       "rooftop_terrace                                                                                                   16\n",
       "rooftop_deck                                                                                                      14\n",
       "rooftop                                                                                                            3\n",
       "$1000._move_in_visa_giftcard_will_be_handed_to_new_tenants_upon_rental_lease_signing                               1\n",
       "rooftop_sundeck                                                                                                    1\n",
       "500_sq_ft                                                                                                          1\n",
       "$1500._move_in_visa_giftcard_will_be_handed_to_new_tenants_upon_rental_lease_signing                               1\n",
       "rooftop_access                                                                                                     1\n",
       "50_ft._exercise_pool_and_whirlpool_with_lifeguard_on_duty                                                          1\n",
       "sleep_loft                                                                                                         1\n",
       "000_sq._ft._landscaped_terrace_complete_with_an_organic_garden                                                     1\n",
       "$600_gift_card_for_move_ins_prior_to_june_19                                                                       1\n",
       "loft_like                                                                                                          1\n",
       "indoor_50ft_lap_pool;_dishwasher;_free_bike_storage                                                                1\n",
       "1200sq_ft                                                                                                          1\n",
       "the_most_sought_after_location                                                                                     1\n",
       "and_breathtaking_views_of_new_york_city_from_our_rooftop_terrace                                                   1\n",
       "rooftop_with_grills                                                                                                1\n",
       "loft_area                                                                                                          1\n",
       "**_pristine_park_ave_s_loft!_*_massive_3br_mansion_*_walls_of_windows_*_chef_inspired_kitchen_*_elev_bldg_**       1\n",
       "loft_storage                                                                                                       1\n",
       "garage_fitness_facility_laundry_room_valet_lounge_billiards_room_rooftop_deck_wifi_access                          1\n",
       "1100_sq_ft                                                                                                         1\n",
       "dtype: int64"
      ]
     },
     "execution_count": 10,
     "metadata": {},
     "output_type": "execute_result"
    }
   ],
   "source": [
    "features_in_train.filter(like='ft')"
   ]
  },
  {
   "cell_type": "code",
   "execution_count": 5,
   "metadata": {
    "collapsed": true
   },
   "outputs": [],
   "source": [
    "def featureList(train_df,test_df,limit = 0.01):\n",
    "    #acquiring the feature lists\n",
    "    features_in_train = train_df[\"features\"].apply(pd.Series).unstack().reset_index(drop = True).dropna().value_counts()\n",
    "    features_in_train.sort(ascending  = False)\n",
    "    features_in_test = test_df[\"features\"].apply(pd.Series).unstack().reset_index(drop = True).dropna().value_counts()\n",
    "    features_in_test.sort(ascending  = False)\n",
    "    \n",
    "    filtered_features_in_train = features_in_train[features_in_train > limit*len(train_df)]\n",
    "    filtered_features_in_test = features_in_test[features_in_test > limit*len(test_df)]\n",
    "    accept_list = set(filtered_features_in_train.index).union(set(filtered_features_in_test.index))\n",
    "    return accept_list\n",
    "\n",
    "def featureMapping(train_df,test_df,feature_list):\n",
    "    for feature in feature_list:\n",
    "        #add the feature column for both\n",
    "        #if feature in the row, then set the value for (row,feature) to 1\n",
    "        train_df['with_'+feature]=train_df['features'].apply(lambda x : 1 if feature in x else 0)\n",
    "        test_df['with_'+feature]=test_df['features'].apply(lambda x : 1 if feature in x else 0)\n",
    "    return"
   ]
  },
  {
   "cell_type": "code",
   "execution_count": 6,
   "metadata": {
    "collapsed": false
   },
   "outputs": [
    {
     "name": "stderr",
     "output_type": "stream",
     "text": [
      "C:\\Users\\dell\\Anaconda2\\lib\\site-packages\\ipykernel\\__main__.py:4: FutureWarning: sort is deprecated, use sort_values(inplace=True) for INPLACE sorting\n",
      "C:\\Users\\dell\\Anaconda2\\lib\\site-packages\\ipykernel\\__main__.py:6: FutureWarning: sort is deprecated, use sort_values(inplace=True) for INPLACE sorting\n"
     ]
    }
   ],
   "source": [
    "accept_list = featureList(train_df,test_df,limit = 0.05)\n",
    "featureMapping(train_df,test_df,accept_list)"
   ]
  }
 ],
 "metadata": {
  "anaconda-cloud": {},
  "kernelspec": {
   "display_name": "Python [Root]",
   "language": "python",
   "name": "Python [Root]"
  },
  "language_info": {
   "codemirror_mode": {
    "name": "ipython",
    "version": 2
   },
   "file_extension": ".py",
   "mimetype": "text/x-python",
   "name": "python",
   "nbconvert_exporter": "python",
   "pygments_lexer": "ipython2",
   "version": "2.7.12"
  }
 },
 "nbformat": 4,
 "nbformat_minor": 0
}
